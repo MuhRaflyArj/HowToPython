{
 "cells": [
  {
   "cell_type": "code",
   "execution_count": 7,
   "metadata": {},
   "outputs": [],
   "source": [
    "import pandas as pd\n",
    "import matplotlib.pyplot as plt"
   ]
  },
  {
   "cell_type": "code",
   "execution_count": 8,
   "metadata": {},
   "outputs": [],
   "source": [
    "df = pd.read_csv(\"csv/problem-7-3.csv\")"
   ]
  },
  {
   "cell_type": "markdown",
   "metadata": {},
   "source": [
    "<h3>Problem 7.3</h3>\n",
    "<p>Anda diberi data penerbangan, Tentukan:</p>\n",
    "\n",
    "<ol>\n",
    "    <li>Banyaknya data</li>\n",
    "    <li>Data penerbangan yang memiliki harga 1.999.999</li>\n",
    "    <li>Banyaknya penerbangan dengan harga di atas 3.500.000</li>\n",
    "    <li>Banyaknya transaksi dari bulan Oktober 2014 sampai April 2015</li>\n",
    "    <li>Data penerbangan maskapai macan dengan harga minimum</li>\n",
    "    <li>Data 10 penerbangan rajawali dengan penumpang terbanyak. Jika ada penerbangan yang sama banyak, urutkan berdasarkan harga dari yang termurah</li>\n",
    "    <li>Tabel frekuensi penerbangan country link masing-masing tahun</li>\n",
    "    <li>Rata-rata harga jumlah seluruh penerbangan</li>\n",
    "    <li>Standar deviasi jumlah penumpang maskapai mataram</li>\n",
    "    <li>Rata-rata daru harga maskapai country link</li>\n",
    "    <li>Koefisien korelasi jumlah penumpang dan harga</li>\n",
    "</ol>"
   ]
  },
  {
   "cell_type": "code",
   "execution_count": 9,
   "metadata": {},
   "outputs": [
    {
     "data": {
      "text/plain": [
       "9962"
      ]
     },
     "execution_count": 9,
     "metadata": {},
     "output_type": "execute_result"
    }
   ],
   "source": [
    "# 1. Banyaknya data\n",
    "len(df)"
   ]
  },
  {
   "cell_type": "code",
   "execution_count": 10,
   "metadata": {},
   "outputs": [
    {
     "data": {
      "text/html": [
       "<div>\n",
       "<style scoped>\n",
       "    .dataframe tbody tr th:only-of-type {\n",
       "        vertical-align: middle;\n",
       "    }\n",
       "\n",
       "    .dataframe tbody tr th {\n",
       "        vertical-align: top;\n",
       "    }\n",
       "\n",
       "    .dataframe thead th {\n",
       "        text-align: right;\n",
       "    }\n",
       "</style>\n",
       "<table border=\"1\" class=\"dataframe\">\n",
       "  <thead>\n",
       "    <tr style=\"text-align: right;\">\n",
       "      <th></th>\n",
       "      <th>maskapai</th>\n",
       "      <th>asal</th>\n",
       "      <th>tujuan</th>\n",
       "      <th>tahun</th>\n",
       "      <th>penumpang</th>\n",
       "      <th>harga</th>\n",
       "    </tr>\n",
       "  </thead>\n",
       "  <tbody>\n",
       "    <tr>\n",
       "      <th>6435</th>\n",
       "      <td>rajawali</td>\n",
       "      <td>SRG</td>\n",
       "      <td>BDO</td>\n",
       "      <td>2017</td>\n",
       "      <td>101</td>\n",
       "      <td>1999999</td>\n",
       "    </tr>\n",
       "  </tbody>\n",
       "</table>\n",
       "</div>"
      ],
      "text/plain": [
       "      maskapai asal tujuan  tahun  penumpang    harga\n",
       "6435  rajawali  SRG    BDO   2017        101  1999999"
      ]
     },
     "execution_count": 10,
     "metadata": {},
     "output_type": "execute_result"
    }
   ],
   "source": [
    "# 2. Data penerbangan yang memiliki harga 1.999.999\n",
    "df.loc[df['harga'] == 1999999]"
   ]
  },
  {
   "cell_type": "code",
   "execution_count": 11,
   "metadata": {},
   "outputs": [
    {
     "data": {
      "text/plain": [
       "1662"
      ]
     },
     "execution_count": 11,
     "metadata": {},
     "output_type": "execute_result"
    }
   ],
   "source": [
    "# 3. Banyaknya penerbangan dengan harga di atas 3.500.000\n",
    "len(df.loc[df['harga'] > 3500000])"
   ]
  },
  {
   "cell_type": "code",
   "execution_count": 12,
   "metadata": {},
   "outputs": [
    {
     "data": {
      "text/plain": [
       "2115"
      ]
     },
     "execution_count": 12,
     "metadata": {},
     "output_type": "execute_result"
    }
   ],
   "source": [
    "# 4. Banyaknya penerbangan di tahun 2014 dengan asal manapun tujuan kota bukan PDG\n",
    "len(df.loc[(df['tahun'] == 2014) & (df['tujuan'] != 'PDG')])"
   ]
  },
  {
   "cell_type": "code",
   "execution_count": 13,
   "metadata": {},
   "outputs": [
    {
     "data": {
      "text/html": [
       "<div>\n",
       "<style scoped>\n",
       "    .dataframe tbody tr th:only-of-type {\n",
       "        vertical-align: middle;\n",
       "    }\n",
       "\n",
       "    .dataframe tbody tr th {\n",
       "        vertical-align: top;\n",
       "    }\n",
       "\n",
       "    .dataframe thead th {\n",
       "        text-align: right;\n",
       "    }\n",
       "</style>\n",
       "<table border=\"1\" class=\"dataframe\">\n",
       "  <thead>\n",
       "    <tr style=\"text-align: right;\">\n",
       "      <th></th>\n",
       "      <th>maskapai</th>\n",
       "      <th>asal</th>\n",
       "      <th>tujuan</th>\n",
       "      <th>tahun</th>\n",
       "      <th>penumpang</th>\n",
       "      <th>harga</th>\n",
       "    </tr>\n",
       "  </thead>\n",
       "  <tbody>\n",
       "    <tr>\n",
       "      <th>7121</th>\n",
       "      <td>macan</td>\n",
       "      <td>BTO</td>\n",
       "      <td>BTH</td>\n",
       "      <td>2016</td>\n",
       "      <td>60</td>\n",
       "      <td>1005234</td>\n",
       "    </tr>\n",
       "  </tbody>\n",
       "</table>\n",
       "</div>"
      ],
      "text/plain": [
       "     maskapai asal tujuan  tahun  penumpang    harga\n",
       "7121    macan  BTO    BTH   2016         60  1005234"
      ]
     },
     "execution_count": 13,
     "metadata": {},
     "output_type": "execute_result"
    }
   ],
   "source": [
    "# 5. Data penerbangan maskapai macan dengan harga minimum\n",
    "df5 = df.loc[(df['maskapai'] == 'macan')]\n",
    "df5.loc[df5['harga'] == df5['harga'].min()]"
   ]
  },
  {
   "cell_type": "code",
   "execution_count": 14,
   "metadata": {},
   "outputs": [
    {
     "data": {
      "text/html": [
       "<div>\n",
       "<style scoped>\n",
       "    .dataframe tbody tr th:only-of-type {\n",
       "        vertical-align: middle;\n",
       "    }\n",
       "\n",
       "    .dataframe tbody tr th {\n",
       "        vertical-align: top;\n",
       "    }\n",
       "\n",
       "    .dataframe thead th {\n",
       "        text-align: right;\n",
       "    }\n",
       "</style>\n",
       "<table border=\"1\" class=\"dataframe\">\n",
       "  <thead>\n",
       "    <tr style=\"text-align: right;\">\n",
       "      <th></th>\n",
       "      <th>maskapai</th>\n",
       "      <th>asal</th>\n",
       "      <th>tujuan</th>\n",
       "      <th>tahun</th>\n",
       "      <th>penumpang</th>\n",
       "      <th>harga</th>\n",
       "    </tr>\n",
       "  </thead>\n",
       "  <tbody>\n",
       "    <tr>\n",
       "      <th>835</th>\n",
       "      <td>rajawali</td>\n",
       "      <td>KNO</td>\n",
       "      <td>BTH</td>\n",
       "      <td>2015</td>\n",
       "      <td>200</td>\n",
       "      <td>2191958</td>\n",
       "    </tr>\n",
       "    <tr>\n",
       "      <th>2192</th>\n",
       "      <td>rajawali</td>\n",
       "      <td>BDO</td>\n",
       "      <td>SRG</td>\n",
       "      <td>2016</td>\n",
       "      <td>200</td>\n",
       "      <td>3405316</td>\n",
       "    </tr>\n",
       "    <tr>\n",
       "      <th>8102</th>\n",
       "      <td>rajawali</td>\n",
       "      <td>PKU</td>\n",
       "      <td>SRG</td>\n",
       "      <td>2017</td>\n",
       "      <td>200</td>\n",
       "      <td>3969784</td>\n",
       "    </tr>\n",
       "    <tr>\n",
       "      <th>1216</th>\n",
       "      <td>rajawali</td>\n",
       "      <td>CGK</td>\n",
       "      <td>SRG</td>\n",
       "      <td>2016</td>\n",
       "      <td>200</td>\n",
       "      <td>3971021</td>\n",
       "    </tr>\n",
       "    <tr>\n",
       "      <th>6139</th>\n",
       "      <td>rajawali</td>\n",
       "      <td>PKU</td>\n",
       "      <td>PDG</td>\n",
       "      <td>2017</td>\n",
       "      <td>200</td>\n",
       "      <td>3973524</td>\n",
       "    </tr>\n",
       "    <tr>\n",
       "      <th>...</th>\n",
       "      <td>...</td>\n",
       "      <td>...</td>\n",
       "      <td>...</td>\n",
       "      <td>...</td>\n",
       "      <td>...</td>\n",
       "      <td>...</td>\n",
       "    </tr>\n",
       "    <tr>\n",
       "      <th>2673</th>\n",
       "      <td>rajawali</td>\n",
       "      <td>JOG</td>\n",
       "      <td>UPG</td>\n",
       "      <td>2014</td>\n",
       "      <td>61</td>\n",
       "      <td>1043461</td>\n",
       "    </tr>\n",
       "    <tr>\n",
       "      <th>206</th>\n",
       "      <td>rajawali</td>\n",
       "      <td>KNO</td>\n",
       "      <td>SRG</td>\n",
       "      <td>2015</td>\n",
       "      <td>60</td>\n",
       "      <td>1004882</td>\n",
       "    </tr>\n",
       "    <tr>\n",
       "      <th>6045</th>\n",
       "      <td>rajawali</td>\n",
       "      <td>JOG</td>\n",
       "      <td>DPS</td>\n",
       "      <td>2017</td>\n",
       "      <td>60</td>\n",
       "      <td>1005289</td>\n",
       "    </tr>\n",
       "    <tr>\n",
       "      <th>2460</th>\n",
       "      <td>rajawali</td>\n",
       "      <td>PKU</td>\n",
       "      <td>BTH</td>\n",
       "      <td>2015</td>\n",
       "      <td>60</td>\n",
       "      <td>1014667</td>\n",
       "    </tr>\n",
       "    <tr>\n",
       "      <th>6230</th>\n",
       "      <td>rajawali</td>\n",
       "      <td>KNO</td>\n",
       "      <td>BTH</td>\n",
       "      <td>2015</td>\n",
       "      <td>60</td>\n",
       "      <td>1015907</td>\n",
       "    </tr>\n",
       "  </tbody>\n",
       "</table>\n",
       "<p>1932 rows × 6 columns</p>\n",
       "</div>"
      ],
      "text/plain": [
       "      maskapai asal tujuan  tahun  penumpang    harga\n",
       "835   rajawali  KNO    BTH   2015        200  2191958\n",
       "2192  rajawali  BDO    SRG   2016        200  3405316\n",
       "8102  rajawali  PKU    SRG   2017        200  3969784\n",
       "1216  rajawali  CGK    SRG   2016        200  3971021\n",
       "6139  rajawali  PKU    PDG   2017        200  3973524\n",
       "...        ...  ...    ...    ...        ...      ...\n",
       "2673  rajawali  JOG    UPG   2014         61  1043461\n",
       "206   rajawali  KNO    SRG   2015         60  1004882\n",
       "6045  rajawali  JOG    DPS   2017         60  1005289\n",
       "2460  rajawali  PKU    BTH   2015         60  1014667\n",
       "6230  rajawali  KNO    BTH   2015         60  1015907\n",
       "\n",
       "[1932 rows x 6 columns]"
      ]
     },
     "execution_count": 14,
     "metadata": {},
     "output_type": "execute_result"
    }
   ],
   "source": [
    "# 6. Data 10 penerbangan rajawali dengan penumpang terbanyak, urutkan dengan harga termurah\n",
    "df.loc[df['maskapai'] == 'rajawali'].sort_values(['penumpang', 'harga'], ascending=[False, True])"
   ]
  },
  {
   "cell_type": "code",
   "execution_count": 15,
   "metadata": {},
   "outputs": [
    {
     "data": {
      "text/plain": [
       "2015    507\n",
       "2014    502\n",
       "2017    502\n",
       "2016    496\n",
       "Name: tahun, dtype: int64"
      ]
     },
     "execution_count": 15,
     "metadata": {},
     "output_type": "execute_result"
    }
   ],
   "source": [
    "# 7. Tabel frekuensi penerbangan country link masing-masing tahun\n",
    "df.loc[df['maskapai'] == 'country link']['tahun'].value_counts()"
   ]
  },
  {
   "cell_type": "code",
   "execution_count": 16,
   "metadata": {},
   "outputs": [
    {
     "data": {
      "text/plain": [
       "2500099.7133105802"
      ]
     },
     "execution_count": 16,
     "metadata": {},
     "output_type": "execute_result"
    }
   ],
   "source": [
    "# 8. Rata-rata harga seluruh penerbangan\n",
    "df['harga'].mean()"
   ]
  },
  {
   "cell_type": "code",
   "execution_count": 17,
   "metadata": {},
   "outputs": [
    {
     "data": {
      "text/plain": [
       "41.18986434514762"
      ]
     },
     "execution_count": 17,
     "metadata": {},
     "output_type": "execute_result"
    }
   ],
   "source": [
    "# 9. Standar deviasi jumlah penumpang maskapai mataram\n",
    "df.loc[df['maskapai'] == 'mataram']['penumpang'].std()"
   ]
  },
  {
   "cell_type": "code",
   "execution_count": 18,
   "metadata": {},
   "outputs": [
    {
     "data": {
      "text/plain": [
       "2515655.4907822623"
      ]
     },
     "execution_count": 18,
     "metadata": {},
     "output_type": "execute_result"
    }
   ],
   "source": [
    "# 10. Rata-rata dari harga maskapai country link\n",
    "df.loc[df['maskapai'] == 'country link']['harga'].mean()"
   ]
  },
  {
   "cell_type": "code",
   "execution_count": 19,
   "metadata": {},
   "outputs": [
    {
     "data": {
      "text/plain": [
       "0.917927324236429"
      ]
     },
     "execution_count": 19,
     "metadata": {},
     "output_type": "execute_result"
    }
   ],
   "source": [
    "# 11. Koefisien korelasi dari jumlah penumpang dan harga\n",
    "df['penumpang'].corr(df['harga'])"
   ]
  }
 ],
 "metadata": {
  "interpreter": {
   "hash": "2ef3d3566f7313e896a8dedb09cde89cd23c9d3d8ab674a1ff2f7f75a21b5550"
  },
  "kernelspec": {
   "display_name": "Python 3.9.7 64-bit",
   "language": "python",
   "name": "python3"
  },
  "language_info": {
   "codemirror_mode": {
    "name": "ipython",
    "version": 3
   },
   "file_extension": ".py",
   "mimetype": "text/x-python",
   "name": "python",
   "nbconvert_exporter": "python",
   "pygments_lexer": "ipython3",
   "version": "3.9.7"
  },
  "orig_nbformat": 4
 },
 "nbformat": 4,
 "nbformat_minor": 2
}

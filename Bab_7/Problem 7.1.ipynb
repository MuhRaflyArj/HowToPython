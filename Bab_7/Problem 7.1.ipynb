{
 "cells": [
  {
   "cell_type": "code",
   "execution_count": 14,
   "metadata": {},
   "outputs": [],
   "source": [
    "import pandas as pd\n",
    "import matplotlib.pyplot as plt"
   ]
  },
  {
   "cell_type": "code",
   "execution_count": 15,
   "metadata": {},
   "outputs": [],
   "source": [
    "# Problem 7.1\n",
    "df = pd.read_csv(\"csv/problem-7-1.csv\")"
   ]
  },
  {
   "cell_type": "markdown",
   "metadata": {},
   "source": [
    "<h3>Problem 7.1</h3>\n",
    "<p>Anda diberi data nilai mahasiswa, Tuliskan:</p>\n",
    "\n",
    "<ol>\n",
    "    <li>Banyaknya data.</li>\n",
    "    <li>Nilai matematika, fisika, dan kimia dari mahasiswa bernama Tuan Wang.</li>\n",
    "    <li>Banyaknya mahasiswa dengan nilai kimia di atas 60.</li>\n",
    "    <li>Banyaknya mahasiswa yang mendapat nilai lebih dari 90 di matkul apapun.</li>\n",
    "    <li>Banyaknya mahasiswa yang mendapat nilai terendah di matematika</li>\n",
    "    <li>Data 10 besar peserta peraih nilai tertinggi di kimia. Jika ada yang nilainya sama, ambil mahasiswa dengan nama lebih kecil.</li>\n",
    "    <li>Tabel frekuensi masing-masing fakultas.</li>\n",
    "    <li>Rata-rata dari nilai fisika semua mahasiswa.</li>\n",
    "    <li>Standar deviasi dari nilai kimia semua mahasiswa.</li>\n",
    "    <li>Rata-rata dari nilai matematika FMIPA</li>\n",
    "    <li>Dengan nilai manakah (matematika / kimia) nilai fisika berkorelasi ? berapa koefisien korelasinya</li>\n",
    "</ol>"
   ]
  },
  {
   "cell_type": "code",
   "execution_count": 16,
   "metadata": {},
   "outputs": [
    {
     "name": "stdout",
     "output_type": "stream",
     "text": [
      "Jumlah banyak data: 9147\n"
     ]
    }
   ],
   "source": [
    "# 1. Banyaknya data\n",
    "print(\"Jumlah banyak data:\", len(df))"
   ]
  },
  {
   "cell_type": "code",
   "execution_count": 17,
   "metadata": {},
   "outputs": [
    {
     "data": {
      "text/html": [
       "<div>\n",
       "<style scoped>\n",
       "    .dataframe tbody tr th:only-of-type {\n",
       "        vertical-align: middle;\n",
       "    }\n",
       "\n",
       "    .dataframe tbody tr th {\n",
       "        vertical-align: top;\n",
       "    }\n",
       "\n",
       "    .dataframe thead th {\n",
       "        text-align: right;\n",
       "    }\n",
       "</style>\n",
       "<table border=\"1\" class=\"dataframe\">\n",
       "  <thead>\n",
       "    <tr style=\"text-align: right;\">\n",
       "      <th></th>\n",
       "      <th>nama</th>\n",
       "      <th>fakultas</th>\n",
       "      <th>nilai_mat</th>\n",
       "      <th>nilai_fis</th>\n",
       "      <th>nilai_kim</th>\n",
       "    </tr>\n",
       "  </thead>\n",
       "  <tbody>\n",
       "    <tr>\n",
       "      <th>5545</th>\n",
       "      <td>Tuan Wang</td>\n",
       "      <td>FTI</td>\n",
       "      <td>91</td>\n",
       "      <td>83</td>\n",
       "      <td>63</td>\n",
       "    </tr>\n",
       "  </tbody>\n",
       "</table>\n",
       "</div>"
      ],
      "text/plain": [
       "           nama fakultas  nilai_mat  nilai_fis  nilai_kim\n",
       "5545  Tuan Wang      FTI         91         83         63"
      ]
     },
     "execution_count": 17,
     "metadata": {},
     "output_type": "execute_result"
    }
   ],
   "source": [
    "# 2. Nilai Mat, Fis, dan Kim mahasiswa bernama Tuan Wang\n",
    "df.loc[df['nama']=='Tuan Wang']"
   ]
  },
  {
   "cell_type": "code",
   "execution_count": 18,
   "metadata": {},
   "outputs": [
    {
     "data": {
      "text/plain": [
       "3161"
      ]
     },
     "execution_count": 18,
     "metadata": {},
     "output_type": "execute_result"
    }
   ],
   "source": [
    "# 3. Banyaknya mahasiswa dengan nilai kimia lebih dari 60\n",
    "len(df.loc[df['nilai_kim'] > 60])"
   ]
  },
  {
   "cell_type": "code",
   "execution_count": 19,
   "metadata": {},
   "outputs": [
    {
     "data": {
      "text/plain": [
       "2097"
      ]
     },
     "execution_count": 19,
     "metadata": {},
     "output_type": "execute_result"
    }
   ],
   "source": [
    "# 4. Banyaknya mahasiswa yang mendapat nilai lebih dari 90 dari matkul apapun\n",
    "len(df.loc[ (df['nilai_kim'] > 90) | (df['nilai_fis'] > 90) | (df['nilai_mat'] > 90) ])"
   ]
  },
  {
   "cell_type": "code",
   "execution_count": 20,
   "metadata": {},
   "outputs": [
    {
     "data": {
      "text/plain": [
       "122"
      ]
     },
     "execution_count": 20,
     "metadata": {},
     "output_type": "execute_result"
    }
   ],
   "source": [
    "# 5. Banyaknya mahasiswa yang mendapat nilai terrendah di matemetika\n",
    "len(df.loc[df['nilai_mat'] == df['nilai_mat'].min()])"
   ]
  },
  {
   "cell_type": "code",
   "execution_count": 21,
   "metadata": {},
   "outputs": [
    {
     "data": {
      "text/html": [
       "<div>\n",
       "<style scoped>\n",
       "    .dataframe tbody tr th:only-of-type {\n",
       "        vertical-align: middle;\n",
       "    }\n",
       "\n",
       "    .dataframe tbody tr th {\n",
       "        vertical-align: top;\n",
       "    }\n",
       "\n",
       "    .dataframe thead th {\n",
       "        text-align: right;\n",
       "    }\n",
       "</style>\n",
       "<table border=\"1\" class=\"dataframe\">\n",
       "  <thead>\n",
       "    <tr style=\"text-align: right;\">\n",
       "      <th></th>\n",
       "      <th>nama</th>\n",
       "      <th>fakultas</th>\n",
       "      <th>nilai_mat</th>\n",
       "      <th>nilai_fis</th>\n",
       "      <th>nilai_kim</th>\n",
       "    </tr>\n",
       "  </thead>\n",
       "  <tbody>\n",
       "    <tr>\n",
       "      <th>7044</th>\n",
       "      <td>Achmad Maulana Gani</td>\n",
       "      <td>FITB</td>\n",
       "      <td>85</td>\n",
       "      <td>99</td>\n",
       "      <td>81</td>\n",
       "    </tr>\n",
       "    <tr>\n",
       "      <th>2148</th>\n",
       "      <td>Adhika Dwi Alfonzo</td>\n",
       "      <td>SAPPK</td>\n",
       "      <td>87</td>\n",
       "      <td>98</td>\n",
       "      <td>81</td>\n",
       "    </tr>\n",
       "    <tr>\n",
       "      <th>7778</th>\n",
       "      <td>Aditya Agung Putra</td>\n",
       "      <td>FITB</td>\n",
       "      <td>66</td>\n",
       "      <td>98</td>\n",
       "      <td>81</td>\n",
       "    </tr>\n",
       "    <tr>\n",
       "      <th>9027</th>\n",
       "      <td>Ahmad Rahman Ali</td>\n",
       "      <td>FMIPA</td>\n",
       "      <td>37</td>\n",
       "      <td>99</td>\n",
       "      <td>81</td>\n",
       "    </tr>\n",
       "    <tr>\n",
       "      <th>5743</th>\n",
       "      <td>Akhmad Saifuddin</td>\n",
       "      <td>FTTM</td>\n",
       "      <td>42</td>\n",
       "      <td>99</td>\n",
       "      <td>81</td>\n",
       "    </tr>\n",
       "    <tr>\n",
       "      <th>1535</th>\n",
       "      <td>Alyssa Nadhira Windari</td>\n",
       "      <td>FTI</td>\n",
       "      <td>99</td>\n",
       "      <td>99</td>\n",
       "      <td>81</td>\n",
       "    </tr>\n",
       "    <tr>\n",
       "      <th>8253</th>\n",
       "      <td>Amalia Nurlatifah</td>\n",
       "      <td>FITB</td>\n",
       "      <td>48</td>\n",
       "      <td>99</td>\n",
       "      <td>81</td>\n",
       "    </tr>\n",
       "    <tr>\n",
       "      <th>7802</th>\n",
       "      <td>Amanda Anindita Utami</td>\n",
       "      <td>SAPPK</td>\n",
       "      <td>89</td>\n",
       "      <td>99</td>\n",
       "      <td>81</td>\n",
       "    </tr>\n",
       "    <tr>\n",
       "      <th>6437</th>\n",
       "      <td>Amelia Annisa E</td>\n",
       "      <td>FMIPA</td>\n",
       "      <td>74</td>\n",
       "      <td>98</td>\n",
       "      <td>81</td>\n",
       "    </tr>\n",
       "    <tr>\n",
       "      <th>5185</th>\n",
       "      <td>Andy Susetyo</td>\n",
       "      <td>FTI</td>\n",
       "      <td>60</td>\n",
       "      <td>99</td>\n",
       "      <td>81</td>\n",
       "    </tr>\n",
       "  </tbody>\n",
       "</table>\n",
       "</div>"
      ],
      "text/plain": [
       "                        nama fakultas  nilai_mat  nilai_fis  nilai_kim\n",
       "7044     Achmad Maulana Gani     FITB         85         99         81\n",
       "2148      Adhika Dwi Alfonzo    SAPPK         87         98         81\n",
       "7778      Aditya Agung Putra     FITB         66         98         81\n",
       "9027        Ahmad Rahman Ali    FMIPA         37         99         81\n",
       "5743        Akhmad Saifuddin     FTTM         42         99         81\n",
       "1535  Alyssa Nadhira Windari      FTI         99         99         81\n",
       "8253       Amalia Nurlatifah     FITB         48         99         81\n",
       "7802   Amanda Anindita Utami    SAPPK         89         99         81\n",
       "6437         Amelia Annisa E    FMIPA         74         98         81\n",
       "5185            Andy Susetyo      FTI         60         99         81"
      ]
     },
     "execution_count": 21,
     "metadata": {},
     "output_type": "execute_result"
    }
   ],
   "source": [
    "# 6. Data 10 besar nilai kimia\n",
    "df.sort_values(['nilai_kim','nama'], ascending=[False, True])[:10]"
   ]
  },
  {
   "cell_type": "code",
   "execution_count": 22,
   "metadata": {},
   "outputs": [
    {
     "data": {
      "text/plain": [
       "SAPPK    1864\n",
       "FITB     1863\n",
       "FTI      1842\n",
       "FMIPA    1790\n",
       "FTTM     1788\n",
       "Name: fakultas, dtype: int64"
      ]
     },
     "execution_count": 22,
     "metadata": {},
     "output_type": "execute_result"
    }
   ],
   "source": [
    "# 7. Tabel frekuensi masing-masing fakultas\n",
    "df['fakultas'].value_counts()"
   ]
  },
  {
   "cell_type": "code",
   "execution_count": 23,
   "metadata": {},
   "outputs": [
    {
     "data": {
      "text/plain": [
       "54.74505302284902"
      ]
     },
     "execution_count": 23,
     "metadata": {},
     "output_type": "execute_result"
    }
   ],
   "source": [
    "# 8. Rata-rata dari nilai fisika semua mahasiswa\n",
    "df['nilai_fis'].mean()"
   ]
  },
  {
   "cell_type": "code",
   "execution_count": 24,
   "metadata": {},
   "outputs": [
    {
     "data": {
      "text/plain": [
       "17.942244816293957"
      ]
     },
     "execution_count": 24,
     "metadata": {},
     "output_type": "execute_result"
    }
   ],
   "source": [
    "# 9. Standar deviasi dari nilai kimia semua mahasiswa\n",
    "df['nilai_kim'].std()"
   ]
  },
  {
   "cell_type": "code",
   "execution_count": 25,
   "metadata": {},
   "outputs": [
    {
     "data": {
      "text/plain": [
       "64.81173184357542"
      ]
     },
     "execution_count": 25,
     "metadata": {},
     "output_type": "execute_result"
    }
   ],
   "source": [
    "# 10. Rata-rata nilai matematika FMIPA\n",
    "df.loc[df['fakultas'] == 'FMIPA']['nilai_mat'].mean()"
   ]
  },
  {
   "cell_type": "code",
   "execution_count": 26,
   "metadata": {},
   "outputs": [
    {
     "name": "stdout",
     "output_type": "stream",
     "text": [
      "0.8545321019663653 0.00025465377451187144\n"
     ]
    }
   ],
   "source": [
    "# 11. Dengan nilai manakah (matematika / kimia) nilai fisika berkorelasi? Berapa koefisien korelasinya ?\n",
    "corr_kim = df['nilai_fis'].corr(df['nilai_kim'])\n",
    "corr_fis = df['nilai_fis'].corr(df['nilai_mat'])\n",
    "print(corr_kim, corr_fis)"
   ]
  }
 ],
 "metadata": {
  "interpreter": {
   "hash": "2ef3d3566f7313e896a8dedb09cde89cd23c9d3d8ab674a1ff2f7f75a21b5550"
  },
  "kernelspec": {
   "display_name": "Python 3.9.7 64-bit",
   "language": "python",
   "name": "python3"
  },
  "language_info": {
   "codemirror_mode": {
    "name": "ipython",
    "version": 3
   },
   "file_extension": ".py",
   "mimetype": "text/x-python",
   "name": "python",
   "nbconvert_exporter": "python",
   "pygments_lexer": "ipython3",
   "version": "3.9.7"
  },
  "orig_nbformat": 4
 },
 "nbformat": 4,
 "nbformat_minor": 2
}

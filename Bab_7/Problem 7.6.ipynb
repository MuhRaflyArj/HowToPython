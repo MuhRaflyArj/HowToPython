{
 "cells": [
  {
   "cell_type": "code",
   "execution_count": 1,
   "metadata": {},
   "outputs": [],
   "source": [
    "import pandas as pd\n",
    "import matplotlib.pyplot as plt"
   ]
  },
  {
   "cell_type": "code",
   "execution_count": 2,
   "metadata": {},
   "outputs": [],
   "source": [
    "df = pd.read_csv(\"csv/problem-7-6.csv\")"
   ]
  },
  {
   "cell_type": "markdown",
   "metadata": {},
   "source": [
    "<h3>Problem 7.6</h3>\n",
    "<p>Anda diberi data aplikasi. Tentukan:</p>\n",
    "<ol>\n",
    "    <li>Banyaknya data</li>\n",
    "    <li>Aplikasi bernama Tuan Wang</li>\n",
    "    <li>Banyaknya aplikasi dengan Rating 5</li>\n",
    "    <li>Banyaknya aplikasi dengan rentang Rating 4-5 sekaligus diunduh lebih dari 10 juta</li>\n",
    "    <li>Data aplikasi dengan Reviews maksimum</li>\n",
    "    <li>Data 10 aplikasi dengan reviews terbanyak. Jika ada reviews yang sama banyak, urutkan dari Rating</li>\n",
    "    <li>Tabel frekuensi banyaknya aplikasi terbaru pada tiap tahun</li>\n",
    "    <li>Rata-rata Reviews di tahun 2016</li>\n",
    "    <li>Rata-rata Rating seluruh aplikasi Free</li>\n",
    "    <li>Standar deviasi Review aplikasi</li>\n",
    "    <li>Dengan apakah jumlah rating berkorelasi? Reviews atau Install? Tuliskan koefisien korelasinya, serta jenis korelasinya jika berkorelasi!</li>\n",
    "</ol>"
   ]
  },
  {
   "cell_type": "code",
   "execution_count": 3,
   "metadata": {},
   "outputs": [
    {
     "data": {
      "text/plain": [
       "5677"
      ]
     },
     "execution_count": 3,
     "metadata": {},
     "output_type": "execute_result"
    }
   ],
   "source": [
    "# 1. Banyaknya data\n",
    "len(df)"
   ]
  },
  {
   "cell_type": "code",
   "execution_count": 4,
   "metadata": {},
   "outputs": [
    {
     "data": {
      "text/html": [
       "<div>\n",
       "<style scoped>\n",
       "    .dataframe tbody tr th:only-of-type {\n",
       "        vertical-align: middle;\n",
       "    }\n",
       "\n",
       "    .dataframe tbody tr th {\n",
       "        vertical-align: top;\n",
       "    }\n",
       "\n",
       "    .dataframe thead th {\n",
       "        text-align: right;\n",
       "    }\n",
       "</style>\n",
       "<table border=\"1\" class=\"dataframe\">\n",
       "  <thead>\n",
       "    <tr style=\"text-align: right;\">\n",
       "      <th></th>\n",
       "      <th>App</th>\n",
       "      <th>Category</th>\n",
       "      <th>Rating</th>\n",
       "      <th>Reviews</th>\n",
       "      <th>Installs</th>\n",
       "      <th>Type</th>\n",
       "      <th>Content Rating</th>\n",
       "      <th>Year Last Updated</th>\n",
       "    </tr>\n",
       "  </thead>\n",
       "  <tbody>\n",
       "    <tr>\n",
       "      <th>5353</th>\n",
       "      <td>Tuan Wang</td>\n",
       "      <td>EDUCATION</td>\n",
       "      <td>4.6</td>\n",
       "      <td>1977</td>\n",
       "      <td>100000</td>\n",
       "      <td>Free</td>\n",
       "      <td>Everyone</td>\n",
       "      <td>2018</td>\n",
       "    </tr>\n",
       "  </tbody>\n",
       "</table>\n",
       "</div>"
      ],
      "text/plain": [
       "            App   Category  Rating  Reviews  Installs  Type Content Rating  \\\n",
       "5353  Tuan Wang  EDUCATION     4.6     1977    100000  Free       Everyone   \n",
       "\n",
       "      Year Last Updated  \n",
       "5353               2018  "
      ]
     },
     "execution_count": 4,
     "metadata": {},
     "output_type": "execute_result"
    }
   ],
   "source": [
    "# 2. Aplikasi bernama Tuan Wang\n",
    "df.loc[df['App'] == 'Tuan Wang']"
   ]
  },
  {
   "cell_type": "code",
   "execution_count": 5,
   "metadata": {},
   "outputs": [
    {
     "data": {
      "text/plain": [
       "146"
      ]
     },
     "execution_count": 5,
     "metadata": {},
     "output_type": "execute_result"
    }
   ],
   "source": [
    "# 3. Banyaknya aplikasi dengan Rating 5\n",
    "len(df.loc[df['Rating'] == 5])"
   ]
  },
  {
   "cell_type": "code",
   "execution_count": 6,
   "metadata": {},
   "outputs": [
    {
     "data": {
      "text/plain": [
       "366"
      ]
     },
     "execution_count": 6,
     "metadata": {},
     "output_type": "execute_result"
    }
   ],
   "source": [
    "# 4. Banyaknya aplikasi dengan rentang Rating 4-5 sekaligus diundung lebih dari 10 juta\n",
    "len(df.loc[(df['Rating'] > 4) & (df['Rating'] < 5) & (df['Installs'] > 10000000)])"
   ]
  },
  {
   "cell_type": "code",
   "execution_count": 7,
   "metadata": {},
   "outputs": [
    {
     "data": {
      "text/html": [
       "<div>\n",
       "<style scoped>\n",
       "    .dataframe tbody tr th:only-of-type {\n",
       "        vertical-align: middle;\n",
       "    }\n",
       "\n",
       "    .dataframe tbody tr th {\n",
       "        vertical-align: top;\n",
       "    }\n",
       "\n",
       "    .dataframe thead th {\n",
       "        text-align: right;\n",
       "    }\n",
       "</style>\n",
       "<table border=\"1\" class=\"dataframe\">\n",
       "  <thead>\n",
       "    <tr style=\"text-align: right;\">\n",
       "      <th></th>\n",
       "      <th>App</th>\n",
       "      <th>Category</th>\n",
       "      <th>Rating</th>\n",
       "      <th>Reviews</th>\n",
       "      <th>Installs</th>\n",
       "      <th>Type</th>\n",
       "      <th>Content Rating</th>\n",
       "      <th>Year Last Updated</th>\n",
       "    </tr>\n",
       "  </thead>\n",
       "  <tbody>\n",
       "    <tr>\n",
       "      <th>1870</th>\n",
       "      <td>Facebook</td>\n",
       "      <td>SOCIAL</td>\n",
       "      <td>4.1</td>\n",
       "      <td>78158306</td>\n",
       "      <td>1000000000</td>\n",
       "      <td>Free</td>\n",
       "      <td>Teen</td>\n",
       "      <td>2018</td>\n",
       "    </tr>\n",
       "  </tbody>\n",
       "</table>\n",
       "</div>"
      ],
      "text/plain": [
       "           App Category  Rating   Reviews    Installs  Type Content Rating  \\\n",
       "1870  Facebook   SOCIAL     4.1  78158306  1000000000  Free           Teen   \n",
       "\n",
       "      Year Last Updated  \n",
       "1870               2018  "
      ]
     },
     "execution_count": 7,
     "metadata": {},
     "output_type": "execute_result"
    }
   ],
   "source": [
    "# 5. Data aplikasi dengan Reviews maksimum\n",
    "df.loc[df['Reviews'] == df['Reviews'].max()]"
   ]
  },
  {
   "cell_type": "code",
   "execution_count": 8,
   "metadata": {},
   "outputs": [
    {
     "data": {
      "text/html": [
       "<div>\n",
       "<style scoped>\n",
       "    .dataframe tbody tr th:only-of-type {\n",
       "        vertical-align: middle;\n",
       "    }\n",
       "\n",
       "    .dataframe tbody tr th {\n",
       "        vertical-align: top;\n",
       "    }\n",
       "\n",
       "    .dataframe thead th {\n",
       "        text-align: right;\n",
       "    }\n",
       "</style>\n",
       "<table border=\"1\" class=\"dataframe\">\n",
       "  <thead>\n",
       "    <tr style=\"text-align: right;\">\n",
       "      <th></th>\n",
       "      <th>App</th>\n",
       "      <th>Category</th>\n",
       "      <th>Rating</th>\n",
       "      <th>Reviews</th>\n",
       "      <th>Installs</th>\n",
       "      <th>Type</th>\n",
       "      <th>Content Rating</th>\n",
       "      <th>Year Last Updated</th>\n",
       "    </tr>\n",
       "  </thead>\n",
       "  <tbody>\n",
       "    <tr>\n",
       "      <th>1870</th>\n",
       "      <td>Facebook</td>\n",
       "      <td>SOCIAL</td>\n",
       "      <td>4.1</td>\n",
       "      <td>78158306</td>\n",
       "      <td>1000000000</td>\n",
       "      <td>Free</td>\n",
       "      <td>Teen</td>\n",
       "      <td>2018</td>\n",
       "    </tr>\n",
       "    <tr>\n",
       "      <th>287</th>\n",
       "      <td>WhatsApp Messenger</td>\n",
       "      <td>COMMUNICATION</td>\n",
       "      <td>4.4</td>\n",
       "      <td>69119316</td>\n",
       "      <td>1000000000</td>\n",
       "      <td>Free</td>\n",
       "      <td>Everyone</td>\n",
       "      <td>2018</td>\n",
       "    </tr>\n",
       "    <tr>\n",
       "      <th>1871</th>\n",
       "      <td>Instagram</td>\n",
       "      <td>SOCIAL</td>\n",
       "      <td>4.5</td>\n",
       "      <td>66577313</td>\n",
       "      <td>1000000000</td>\n",
       "      <td>Free</td>\n",
       "      <td>Teen</td>\n",
       "      <td>2018</td>\n",
       "    </tr>\n",
       "    <tr>\n",
       "      <th>286</th>\n",
       "      <td>Messenger – Text and Video Chat for Free</td>\n",
       "      <td>COMMUNICATION</td>\n",
       "      <td>4.0</td>\n",
       "      <td>56642847</td>\n",
       "      <td>1000000000</td>\n",
       "      <td>Free</td>\n",
       "      <td>Everyone</td>\n",
       "      <td>2018</td>\n",
       "    </tr>\n",
       "    <tr>\n",
       "      <th>1290</th>\n",
       "      <td>Clash of Clans</td>\n",
       "      <td>GAME</td>\n",
       "      <td>4.6</td>\n",
       "      <td>44891723</td>\n",
       "      <td>100000000</td>\n",
       "      <td>Free</td>\n",
       "      <td>Everyone 10+</td>\n",
       "      <td>2018</td>\n",
       "    </tr>\n",
       "    <tr>\n",
       "      <th>3034</th>\n",
       "      <td>Clean Master- Space Cleaner &amp; Antivirus</td>\n",
       "      <td>TOOLS</td>\n",
       "      <td>4.7</td>\n",
       "      <td>42916526</td>\n",
       "      <td>500000000</td>\n",
       "      <td>Free</td>\n",
       "      <td>Everyone</td>\n",
       "      <td>2018</td>\n",
       "    </tr>\n",
       "    <tr>\n",
       "      <th>1274</th>\n",
       "      <td>Subway Surfers</td>\n",
       "      <td>GAME</td>\n",
       "      <td>4.5</td>\n",
       "      <td>27722264</td>\n",
       "      <td>1000000000</td>\n",
       "      <td>Free</td>\n",
       "      <td>Everyone 10+</td>\n",
       "      <td>2018</td>\n",
       "    </tr>\n",
       "    <tr>\n",
       "      <th>2764</th>\n",
       "      <td>YouTube</td>\n",
       "      <td>VIDEO_PLAYERS</td>\n",
       "      <td>4.3</td>\n",
       "      <td>25655305</td>\n",
       "      <td>1000000000</td>\n",
       "      <td>Free</td>\n",
       "      <td>Teen</td>\n",
       "      <td>2018</td>\n",
       "    </tr>\n",
       "    <tr>\n",
       "      <th>1280</th>\n",
       "      <td>Clash Royale</td>\n",
       "      <td>GAME</td>\n",
       "      <td>4.6</td>\n",
       "      <td>23133508</td>\n",
       "      <td>100000000</td>\n",
       "      <td>Free</td>\n",
       "      <td>Everyone 10+</td>\n",
       "      <td>2018</td>\n",
       "    </tr>\n",
       "    <tr>\n",
       "      <th>1275</th>\n",
       "      <td>Candy Crush Saga</td>\n",
       "      <td>GAME</td>\n",
       "      <td>4.4</td>\n",
       "      <td>22426677</td>\n",
       "      <td>500000000</td>\n",
       "      <td>Free</td>\n",
       "      <td>Everyone</td>\n",
       "      <td>2018</td>\n",
       "    </tr>\n",
       "  </tbody>\n",
       "</table>\n",
       "</div>"
      ],
      "text/plain": [
       "                                           App       Category  Rating  \\\n",
       "1870                                  Facebook         SOCIAL     4.1   \n",
       "287                         WhatsApp Messenger  COMMUNICATION     4.4   \n",
       "1871                                 Instagram         SOCIAL     4.5   \n",
       "286   Messenger – Text and Video Chat for Free  COMMUNICATION     4.0   \n",
       "1290                            Clash of Clans           GAME     4.6   \n",
       "3034   Clean Master- Space Cleaner & Antivirus          TOOLS     4.7   \n",
       "1274                            Subway Surfers           GAME     4.5   \n",
       "2764                                   YouTube  VIDEO_PLAYERS     4.3   \n",
       "1280                              Clash Royale           GAME     4.6   \n",
       "1275                          Candy Crush Saga           GAME     4.4   \n",
       "\n",
       "       Reviews    Installs  Type Content Rating  Year Last Updated  \n",
       "1870  78158306  1000000000  Free           Teen               2018  \n",
       "287   69119316  1000000000  Free       Everyone               2018  \n",
       "1871  66577313  1000000000  Free           Teen               2018  \n",
       "286   56642847  1000000000  Free       Everyone               2018  \n",
       "1290  44891723   100000000  Free   Everyone 10+               2018  \n",
       "3034  42916526   500000000  Free       Everyone               2018  \n",
       "1274  27722264  1000000000  Free   Everyone 10+               2018  \n",
       "2764  25655305  1000000000  Free           Teen               2018  \n",
       "1280  23133508   100000000  Free   Everyone 10+               2018  \n",
       "1275  22426677   500000000  Free       Everyone               2018  "
      ]
     },
     "execution_count": 8,
     "metadata": {},
     "output_type": "execute_result"
    }
   ],
   "source": [
    "# 6. Data 10 aplikasi dengan Reviews terbanyak. Jika ada Reviews yang sama banyak, urutkan dari Rating\n",
    "df.sort_values(['Reviews', 'Rating'], ascending=[False,False])[:10]"
   ]
  },
  {
   "cell_type": "code",
   "execution_count": 9,
   "metadata": {},
   "outputs": [
    {
     "data": {
      "text/plain": [
       "2018    4042\n",
       "2017     872\n",
       "2016     358\n",
       "2015     234\n",
       "2014      99\n",
       "2013      50\n",
       "2012      13\n",
       "2011       8\n",
       "2010       1\n",
       "Name: Year Last Updated, dtype: int64"
      ]
     },
     "execution_count": 9,
     "metadata": {},
     "output_type": "execute_result"
    }
   ],
   "source": [
    "# 7. Tabel frekuensi banyaknya aplikasi terbaru pada tiap tahun\n",
    "df['Year Last Updated'].value_counts()"
   ]
  },
  {
   "cell_type": "code",
   "execution_count": 10,
   "metadata": {},
   "outputs": [
    {
     "data": {
      "text/plain": [
       "48653.555865921786"
      ]
     },
     "execution_count": 10,
     "metadata": {},
     "output_type": "execute_result"
    }
   ],
   "source": [
    "# 8. Rata-rata reviews tahun 2016\n",
    "df.loc[df['Year Last Updated'] == 2016]['Reviews'].mean()"
   ]
  },
  {
   "cell_type": "code",
   "execution_count": 11,
   "metadata": {},
   "outputs": [
    {
     "data": {
      "text/plain": [
       "4.194023904382473"
      ]
     },
     "execution_count": 11,
     "metadata": {},
     "output_type": "execute_result"
    }
   ],
   "source": [
    "# 9. Rata-rata Rating seluruh aplikasi Free\n",
    "df.loc[df['Type'] == 'Free']['Rating'].mean()"
   ]
  },
  {
   "cell_type": "code",
   "execution_count": 12,
   "metadata": {},
   "outputs": [
    {
     "data": {
      "text/plain": [
       "2343945.4962195386"
      ]
     },
     "execution_count": 12,
     "metadata": {},
     "output_type": "execute_result"
    }
   ],
   "source": [
    "# 10. Standar deviasi Reviews aplikasi\n",
    "df['Reviews'].std()"
   ]
  },
  {
   "cell_type": "code",
   "execution_count": 13,
   "metadata": {},
   "outputs": [
    {
     "name": "stdout",
     "output_type": "stream",
     "text": [
      "0.0567250199716017 0.03761333617623013\n"
     ]
    }
   ],
   "source": [
    "# 11. Dengan apakah Rating berkorelasi? Reviews, atau installs? Tuliskan koefisien korelasinya\n",
    "corr_reviews = df['Rating'].corr(df['Reviews'])\n",
    "corr_install = df['Rating'].corr(df['Installs'])\n",
    "print(corr_reviews, corr_install)"
   ]
  }
 ],
 "metadata": {
  "interpreter": {
   "hash": "2be5faf79681da6f2a61fdfdd5405d65d042280f7fba6178067603e3a2925119"
  },
  "kernelspec": {
   "display_name": "Python 3.10.0 64-bit",
   "language": "python",
   "name": "python3"
  },
  "language_info": {
   "codemirror_mode": {
    "name": "ipython",
    "version": 3
   },
   "file_extension": ".py",
   "mimetype": "text/x-python",
   "name": "python",
   "nbconvert_exporter": "python",
   "pygments_lexer": "ipython3",
   "version": "3.8.8"
  },
  "orig_nbformat": 4
 },
 "nbformat": 4,
 "nbformat_minor": 2
}

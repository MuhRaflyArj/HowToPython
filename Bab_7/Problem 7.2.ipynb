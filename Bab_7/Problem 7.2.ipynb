{
 "cells": [
  {
   "cell_type": "code",
   "execution_count": 42,
   "metadata": {},
   "outputs": [],
   "source": [
    "import pandas as pd\n",
    "import matplotlib.pyplot as plt"
   ]
  },
  {
   "cell_type": "code",
   "execution_count": 43,
   "metadata": {},
   "outputs": [],
   "source": [
    "df = pd.read_csv('csv/problem-7-2.csv')"
   ]
  },
  {
   "cell_type": "markdown",
   "metadata": {},
   "source": [
    "<h3>Problem 7.2</h3>\n",
    "<p>Anda diberi data transaksi sebuah toko. Tentukan:</p>\n",
    "\n",
    "<ol>\n",
    "    <li>Banyaknya data</li>\n",
    "    <li>Transaksi yang dilakukan oleh Tuan Wang</li>\n",
    "    <li>Banyaknya transaksi dengan profit diatas 150.000</li>\n",
    "    <li>Banyaknya transaksi dari bulan Oktober 2014 sampai April 2015</li>\n",
    "    <li>Data transaksi makanan dengan profit minimun</li>\n",
    "    <li>Data 10 transaksi alat makan dengan pofit terbesar di tahun 2017</li>\n",
    "    <li>Tabel frekuensi masing-masing tahun</li>\n",
    "    <li>Rata-rata profit di bulan Desember 2016</li>\n",
    "    <li>Standar deviasi dari profit transaksi pakaian</li>\n",
    "    <li>Rata-rata dari profit transaksi pakaian sebelum tahun 2016</li>\n",
    "    <li>Koefisien korelasi dan quantity dengan profit</li>\n",
    "</ol>"
   ]
  },
  {
   "cell_type": "code",
   "execution_count": 44,
   "metadata": {},
   "outputs": [
    {
     "data": {
      "text/plain": [
       "7959"
      ]
     },
     "execution_count": 44,
     "metadata": {},
     "output_type": "execute_result"
    }
   ],
   "source": [
    "# 1.Banyaknya data\n",
    "len(df)"
   ]
  },
  {
   "cell_type": "code",
   "execution_count": 45,
   "metadata": {},
   "outputs": [
    {
     "data": {
      "text/html": [
       "<div>\n",
       "<style scoped>\n",
       "    .dataframe tbody tr th:only-of-type {\n",
       "        vertical-align: middle;\n",
       "    }\n",
       "\n",
       "    .dataframe tbody tr th {\n",
       "        vertical-align: top;\n",
       "    }\n",
       "\n",
       "    .dataframe thead th {\n",
       "        text-align: right;\n",
       "    }\n",
       "</style>\n",
       "<table border=\"1\" class=\"dataframe\">\n",
       "  <thead>\n",
       "    <tr style=\"text-align: right;\">\n",
       "      <th></th>\n",
       "      <th>nama</th>\n",
       "      <th>tipe_barang</th>\n",
       "      <th>bulan</th>\n",
       "      <th>tahun</th>\n",
       "      <th>qty</th>\n",
       "      <th>profit</th>\n",
       "    </tr>\n",
       "  </thead>\n",
       "  <tbody>\n",
       "    <tr>\n",
       "      <th>1556</th>\n",
       "      <td>Tuan Wang</td>\n",
       "      <td>elektronik</td>\n",
       "      <td>4</td>\n",
       "      <td>2017</td>\n",
       "      <td>7</td>\n",
       "      <td>12312</td>\n",
       "    </tr>\n",
       "  </tbody>\n",
       "</table>\n",
       "</div>"
      ],
      "text/plain": [
       "           nama tipe_barang  bulan  tahun  qty  profit\n",
       "1556  Tuan Wang  elektronik      4   2017    7   12312"
      ]
     },
     "execution_count": 45,
     "metadata": {},
     "output_type": "execute_result"
    }
   ],
   "source": [
    "# 2. Transaksi yang dilakukan Tuan Wang\n",
    "df.loc[df['nama'] == 'Tuan Wang']"
   ]
  },
  {
   "cell_type": "code",
   "execution_count": 46,
   "metadata": {},
   "outputs": [
    {
     "data": {
      "text/plain": [
       "1162"
      ]
     },
     "execution_count": 46,
     "metadata": {},
     "output_type": "execute_result"
    }
   ],
   "source": [
    "# 4. Banyaknya transaksi dari bulan Oktober 2014 sampai April 2015\n",
    "len(df.loc[((df['bulan'] >= 10) & (df['tahun'] == 2014)) | ((df['bulan'] <= 4) & (df['tahun'] == 2015))])"
   ]
  },
  {
   "cell_type": "code",
   "execution_count": 47,
   "metadata": {},
   "outputs": [
    {
     "data": {
      "text/html": [
       "<div>\n",
       "<style scoped>\n",
       "    .dataframe tbody tr th:only-of-type {\n",
       "        vertical-align: middle;\n",
       "    }\n",
       "\n",
       "    .dataframe tbody tr th {\n",
       "        vertical-align: top;\n",
       "    }\n",
       "\n",
       "    .dataframe thead th {\n",
       "        text-align: right;\n",
       "    }\n",
       "</style>\n",
       "<table border=\"1\" class=\"dataframe\">\n",
       "  <thead>\n",
       "    <tr style=\"text-align: right;\">\n",
       "      <th></th>\n",
       "      <th>nama</th>\n",
       "      <th>tipe_barang</th>\n",
       "      <th>bulan</th>\n",
       "      <th>tahun</th>\n",
       "      <th>qty</th>\n",
       "      <th>profit</th>\n",
       "    </tr>\n",
       "  </thead>\n",
       "  <tbody>\n",
       "    <tr>\n",
       "      <th>2496</th>\n",
       "      <td>Heny Hanifah</td>\n",
       "      <td>alat kebersihan</td>\n",
       "      <td>3</td>\n",
       "      <td>2016</td>\n",
       "      <td>1</td>\n",
       "      <td>10007</td>\n",
       "    </tr>\n",
       "  </tbody>\n",
       "</table>\n",
       "</div>"
      ],
      "text/plain": [
       "              nama      tipe_barang  bulan  tahun  qty  profit\n",
       "2496  Heny Hanifah  alat kebersihan      3   2016    1   10007"
      ]
     },
     "execution_count": 47,
     "metadata": {},
     "output_type": "execute_result"
    }
   ],
   "source": [
    "# 5. Data transaksi makanan dengan profit minimum\n",
    "df.loc[df['profit'] == df['profit'].min()]"
   ]
  },
  {
   "cell_type": "code",
   "execution_count": 48,
   "metadata": {},
   "outputs": [
    {
     "data": {
      "text/html": [
       "<div>\n",
       "<style scoped>\n",
       "    .dataframe tbody tr th:only-of-type {\n",
       "        vertical-align: middle;\n",
       "    }\n",
       "\n",
       "    .dataframe tbody tr th {\n",
       "        vertical-align: top;\n",
       "    }\n",
       "\n",
       "    .dataframe thead th {\n",
       "        text-align: right;\n",
       "    }\n",
       "</style>\n",
       "<table border=\"1\" class=\"dataframe\">\n",
       "  <thead>\n",
       "    <tr style=\"text-align: right;\">\n",
       "      <th></th>\n",
       "      <th>nama</th>\n",
       "      <th>tipe_barang</th>\n",
       "      <th>bulan</th>\n",
       "      <th>tahun</th>\n",
       "      <th>qty</th>\n",
       "      <th>profit</th>\n",
       "    </tr>\n",
       "  </thead>\n",
       "  <tbody>\n",
       "    <tr>\n",
       "      <th>5966</th>\n",
       "      <td>Nida Anbar Rofifah</td>\n",
       "      <td>alat makan</td>\n",
       "      <td>4</td>\n",
       "      <td>2017</td>\n",
       "      <td>20</td>\n",
       "      <td>198079</td>\n",
       "    </tr>\n",
       "    <tr>\n",
       "      <th>2036</th>\n",
       "      <td>Mahessa Ramadhana</td>\n",
       "      <td>alat makan</td>\n",
       "      <td>4</td>\n",
       "      <td>2017</td>\n",
       "      <td>20</td>\n",
       "      <td>196638</td>\n",
       "    </tr>\n",
       "    <tr>\n",
       "      <th>4100</th>\n",
       "      <td>Binanda Smarta Aji</td>\n",
       "      <td>alat makan</td>\n",
       "      <td>8</td>\n",
       "      <td>2017</td>\n",
       "      <td>20</td>\n",
       "      <td>196255</td>\n",
       "    </tr>\n",
       "    <tr>\n",
       "      <th>5622</th>\n",
       "      <td>Trishanty Eka M</td>\n",
       "      <td>alat makan</td>\n",
       "      <td>6</td>\n",
       "      <td>2017</td>\n",
       "      <td>20</td>\n",
       "      <td>195077</td>\n",
       "    </tr>\n",
       "    <tr>\n",
       "      <th>3313</th>\n",
       "      <td>Putri Juliana</td>\n",
       "      <td>alat makan</td>\n",
       "      <td>12</td>\n",
       "      <td>2017</td>\n",
       "      <td>20</td>\n",
       "      <td>194765</td>\n",
       "    </tr>\n",
       "    <tr>\n",
       "      <th>4080</th>\n",
       "      <td>Greace Nanda Clara Sihotang</td>\n",
       "      <td>alat makan</td>\n",
       "      <td>9</td>\n",
       "      <td>2017</td>\n",
       "      <td>20</td>\n",
       "      <td>194610</td>\n",
       "    </tr>\n",
       "    <tr>\n",
       "      <th>229</th>\n",
       "      <td>Nabiilah Ardini Fauziyyah</td>\n",
       "      <td>alat makan</td>\n",
       "      <td>2</td>\n",
       "      <td>2017</td>\n",
       "      <td>20</td>\n",
       "      <td>193157</td>\n",
       "    </tr>\n",
       "    <tr>\n",
       "      <th>7463</th>\n",
       "      <td>Devina Dwiki Octavius</td>\n",
       "      <td>alat makan</td>\n",
       "      <td>9</td>\n",
       "      <td>2017</td>\n",
       "      <td>20</td>\n",
       "      <td>192036</td>\n",
       "    </tr>\n",
       "    <tr>\n",
       "      <th>2926</th>\n",
       "      <td>Agam Muarif</td>\n",
       "      <td>alat makan</td>\n",
       "      <td>1</td>\n",
       "      <td>2017</td>\n",
       "      <td>20</td>\n",
       "      <td>191432</td>\n",
       "    </tr>\n",
       "    <tr>\n",
       "      <th>7947</th>\n",
       "      <td>Ahmad Adam Zari Ardi Ramadhan</td>\n",
       "      <td>alat makan</td>\n",
       "      <td>4</td>\n",
       "      <td>2017</td>\n",
       "      <td>20</td>\n",
       "      <td>190732</td>\n",
       "    </tr>\n",
       "  </tbody>\n",
       "</table>\n",
       "</div>"
      ],
      "text/plain": [
       "                               nama tipe_barang  bulan  tahun  qty  profit\n",
       "5966             Nida Anbar Rofifah  alat makan      4   2017   20  198079\n",
       "2036              Mahessa Ramadhana  alat makan      4   2017   20  196638\n",
       "4100             Binanda Smarta Aji  alat makan      8   2017   20  196255\n",
       "5622                Trishanty Eka M  alat makan      6   2017   20  195077\n",
       "3313                  Putri Juliana  alat makan     12   2017   20  194765\n",
       "4080    Greace Nanda Clara Sihotang  alat makan      9   2017   20  194610\n",
       "229       Nabiilah Ardini Fauziyyah  alat makan      2   2017   20  193157\n",
       "7463          Devina Dwiki Octavius  alat makan      9   2017   20  192036\n",
       "2926                    Agam Muarif  alat makan      1   2017   20  191432\n",
       "7947  Ahmad Adam Zari Ardi Ramadhan  alat makan      4   2017   20  190732"
      ]
     },
     "execution_count": 48,
     "metadata": {},
     "output_type": "execute_result"
    }
   ],
   "source": [
    "# 6. Data transaksi alat makan dengan profit terbesar di tahun 2017\n",
    "df.loc[(df['tipe_barang'] == 'alat makan') & (df['tahun'] == 2017)].sort_values(['profit'], ascending=False)[:10]"
   ]
  },
  {
   "cell_type": "code",
   "execution_count": 49,
   "metadata": {},
   "outputs": [
    {
     "data": {
      "text/plain": [
       "2016    2039\n",
       "2014    2028\n",
       "2017    1963\n",
       "2015    1929\n",
       "Name: tahun, dtype: int64"
      ]
     },
     "execution_count": 49,
     "metadata": {},
     "output_type": "execute_result"
    }
   ],
   "source": [
    "# 7. Tabel frekuensi masing-masing tahun\n",
    "df['tahun'].value_counts()"
   ]
  },
  {
   "cell_type": "code",
   "execution_count": 50,
   "metadata": {},
   "outputs": [
    {
     "data": {
      "text/plain": [
       "102165.02857142857"
      ]
     },
     "execution_count": 50,
     "metadata": {},
     "output_type": "execute_result"
    }
   ],
   "source": [
    "# 8. Rata-rata profit di bulan Desember 2016\n",
    "df.loc[(df['tahun'] == 2016) & (df['bulan'] == 12)]['profit'].mean()"
   ]
  },
  {
   "cell_type": "code",
   "execution_count": 51,
   "metadata": {},
   "outputs": [
    {
     "data": {
      "text/plain": [
       "54045.06698145228"
      ]
     },
     "execution_count": 51,
     "metadata": {},
     "output_type": "execute_result"
    }
   ],
   "source": [
    "# 9. Standar deviasi dari profit transaksi pakaian\n",
    "df.loc[df['tipe_barang'] == 'pakaian']['profit'].std()"
   ]
  },
  {
   "cell_type": "code",
   "execution_count": 52,
   "metadata": {},
   "outputs": [
    {
     "data": {
      "text/plain": [
       "104515.56380952381"
      ]
     },
     "execution_count": 52,
     "metadata": {},
     "output_type": "execute_result"
    }
   ],
   "source": [
    "# 10. Rata-rata dari profit transaksi pakaian sebelum tahun 2016\n",
    "df.loc[(df['tipe_barang'] == 'pakaian') & (df['tahun'] < 2016)]['profit'].mean()"
   ]
  },
  {
   "cell_type": "code",
   "execution_count": 53,
   "metadata": {},
   "outputs": [
    {
     "data": {
      "text/plain": [
       "0.9758538110359279"
      ]
     },
     "execution_count": 53,
     "metadata": {},
     "output_type": "execute_result"
    }
   ],
   "source": [
    "# 11. Koefisien korelasi dari quantity dengan profit\n",
    "df['qty'].corr(df['profit'])"
   ]
  }
 ],
 "metadata": {
  "interpreter": {
   "hash": "2ef3d3566f7313e896a8dedb09cde89cd23c9d3d8ab674a1ff2f7f75a21b5550"
  },
  "kernelspec": {
   "display_name": "Python 3.9.7 64-bit",
   "language": "python",
   "name": "python3"
  },
  "language_info": {
   "codemirror_mode": {
    "name": "ipython",
    "version": 3
   },
   "file_extension": ".py",
   "mimetype": "text/x-python",
   "name": "python",
   "nbconvert_exporter": "python",
   "pygments_lexer": "ipython3",
   "version": "3.9.7"
  },
  "orig_nbformat": 4
 },
 "nbformat": 4,
 "nbformat_minor": 2
}

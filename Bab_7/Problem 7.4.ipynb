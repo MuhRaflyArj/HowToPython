{
 "cells": [
  {
   "cell_type": "code",
   "execution_count": 1,
   "metadata": {},
   "outputs": [],
   "source": [
    "import pandas as pd\n",
    "import matplotlib.pyplot as plt"
   ]
  },
  {
   "cell_type": "code",
   "execution_count": 2,
   "metadata": {},
   "outputs": [],
   "source": [
    "df = pd.read_csv('csv/problem-7-4.csv')"
   ]
  },
  {
   "cell_type": "markdown",
   "metadata": {},
   "source": [
    "<h3>Problem 7.4</h3>\n",
    "<p>Anda diberi data karyawan. Tentukan:</p>\n",
    "\n",
    "<ol>\n",
    "    <li>Banyaknya data</li>\n",
    "    <li>Data karyawan bernama Tuan Wang</li>\n",
    "    <li>Banyaknya karyawan dengan usia krang dari atau sama dengan 30</li>\n",
    "    <li>Banyaknya karyawan personalia dengan gaji di luar rentang 4-5 juta</li>\n",
    "    <li>Data karyawan produksi dengan gaji minimum</li>\n",
    "    <li>Data 10 karyawan teknologi dengan gaji terbanyak. Jika ada gaji yang sama banyak, urutkan dari usia yang termuda</li>\n",
    "    <li>Tabel frekuensi banyaknya karyawan tiap golongan</li>\n",
    "    <li>Tabel frekuensi banyaknya karyawan tiap departemen yang masuk sebelum 2015.</li>\n",
    "    <li>Rata-rata gaji seluruh karyawan</li>\n",
    "    <li>Standar deviasi usia karyawan operasional</li>\n",
    "    <li>Dengan apakah gaji berkorelasi? Usia, tahun masuk, atau golongan? Tuliskan koefisien korelasinya</li>\n",
    "</ol>"
   ]
  },
  {
   "cell_type": "code",
   "execution_count": 3,
   "metadata": {},
   "outputs": [
    {
     "data": {
      "text/plain": [
       "7939"
      ]
     },
     "execution_count": 3,
     "metadata": {},
     "output_type": "execute_result"
    }
   ],
   "source": [
    "# 1. Banyaknya data\n",
    "len(df)"
   ]
  },
  {
   "cell_type": "code",
   "execution_count": 4,
   "metadata": {},
   "outputs": [
    {
     "data": {
      "text/html": [
       "<div>\n",
       "<style scoped>\n",
       "    .dataframe tbody tr th:only-of-type {\n",
       "        vertical-align: middle;\n",
       "    }\n",
       "\n",
       "    .dataframe tbody tr th {\n",
       "        vertical-align: top;\n",
       "    }\n",
       "\n",
       "    .dataframe thead th {\n",
       "        text-align: right;\n",
       "    }\n",
       "</style>\n",
       "<table border=\"1\" class=\"dataframe\">\n",
       "  <thead>\n",
       "    <tr style=\"text-align: right;\">\n",
       "      <th></th>\n",
       "      <th>nama</th>\n",
       "      <th>departemen</th>\n",
       "      <th>tahun_masuk</th>\n",
       "      <th>usia</th>\n",
       "      <th>golongan</th>\n",
       "      <th>gaji</th>\n",
       "    </tr>\n",
       "  </thead>\n",
       "  <tbody>\n",
       "    <tr>\n",
       "      <th>5319</th>\n",
       "      <td>Tuan Wang</td>\n",
       "      <td>teknologi</td>\n",
       "      <td>2017</td>\n",
       "      <td>31</td>\n",
       "      <td>10</td>\n",
       "      <td>9939125</td>\n",
       "    </tr>\n",
       "  </tbody>\n",
       "</table>\n",
       "</div>"
      ],
      "text/plain": [
       "           nama departemen  tahun_masuk  usia  golongan     gaji\n",
       "5319  Tuan Wang  teknologi         2017    31        10  9939125"
      ]
     },
     "execution_count": 4,
     "metadata": {},
     "output_type": "execute_result"
    }
   ],
   "source": [
    "# 2. Data karyawan bernama Tuan Wang\n",
    "df.loc[df['nama'] == 'Tuan Wang']"
   ]
  },
  {
   "cell_type": "code",
   "execution_count": 5,
   "metadata": {},
   "outputs": [
    {
     "data": {
      "text/plain": [
       "1300"
      ]
     },
     "execution_count": 5,
     "metadata": {},
     "output_type": "execute_result"
    }
   ],
   "source": [
    "# 3. Banyaknya karyawan dengan usia kurang dari atau sama dengan 30\n",
    "len(df.loc[df['usia'] <= 30])"
   ]
  },
  {
   "cell_type": "code",
   "execution_count": 6,
   "metadata": {},
   "outputs": [
    {
     "data": {
      "text/plain": [
       "1021"
      ]
     },
     "execution_count": 6,
     "metadata": {},
     "output_type": "execute_result"
    }
   ],
   "source": [
    "# 4. Banyaknya karyawan personalia dengan gaji di luar rentang 4-5 Juta\n",
    "len(df.loc[((df['gaji'] < 4000000) | (df['gaji'] > 5000000)) & (df['departemen'] == 'personalia')])"
   ]
  },
  {
   "cell_type": "code",
   "execution_count": 7,
   "metadata": {},
   "outputs": [
    {
     "data": {
      "text/html": [
       "<div>\n",
       "<style scoped>\n",
       "    .dataframe tbody tr th:only-of-type {\n",
       "        vertical-align: middle;\n",
       "    }\n",
       "\n",
       "    .dataframe tbody tr th {\n",
       "        vertical-align: top;\n",
       "    }\n",
       "\n",
       "    .dataframe thead th {\n",
       "        text-align: right;\n",
       "    }\n",
       "</style>\n",
       "<table border=\"1\" class=\"dataframe\">\n",
       "  <thead>\n",
       "    <tr style=\"text-align: right;\">\n",
       "      <th></th>\n",
       "      <th>nama</th>\n",
       "      <th>departemen</th>\n",
       "      <th>tahun_masuk</th>\n",
       "      <th>usia</th>\n",
       "      <th>golongan</th>\n",
       "      <th>gaji</th>\n",
       "    </tr>\n",
       "  </thead>\n",
       "  <tbody>\n",
       "    <tr>\n",
       "      <th>7066</th>\n",
       "      <td>Rorytend Samra</td>\n",
       "      <td>kreatif</td>\n",
       "      <td>2013</td>\n",
       "      <td>41</td>\n",
       "      <td>1</td>\n",
       "      <td>9998512</td>\n",
       "    </tr>\n",
       "  </tbody>\n",
       "</table>\n",
       "</div>"
      ],
      "text/plain": [
       "                nama departemen  tahun_masuk  usia  golongan     gaji\n",
       "7066  Rorytend Samra    kreatif         2013    41         1  9998512"
      ]
     },
     "execution_count": 7,
     "metadata": {},
     "output_type": "execute_result"
    }
   ],
   "source": [
    "# 5. Data karyawan produksi dengan gaji maksimum\n",
    "df.loc[df['gaji'] == df['gaji'].max()]"
   ]
  },
  {
   "cell_type": "code",
   "execution_count": 8,
   "metadata": {},
   "outputs": [
    {
     "data": {
      "text/html": [
       "<div>\n",
       "<style scoped>\n",
       "    .dataframe tbody tr th:only-of-type {\n",
       "        vertical-align: middle;\n",
       "    }\n",
       "\n",
       "    .dataframe tbody tr th {\n",
       "        vertical-align: top;\n",
       "    }\n",
       "\n",
       "    .dataframe thead th {\n",
       "        text-align: right;\n",
       "    }\n",
       "</style>\n",
       "<table border=\"1\" class=\"dataframe\">\n",
       "  <thead>\n",
       "    <tr style=\"text-align: right;\">\n",
       "      <th></th>\n",
       "      <th>nama</th>\n",
       "      <th>departemen</th>\n",
       "      <th>tahun_masuk</th>\n",
       "      <th>usia</th>\n",
       "      <th>golongan</th>\n",
       "      <th>gaji</th>\n",
       "    </tr>\n",
       "  </thead>\n",
       "  <tbody>\n",
       "    <tr>\n",
       "      <th>5933</th>\n",
       "      <td>Haryo Edi Wahyupurboyo</td>\n",
       "      <td>teknologi</td>\n",
       "      <td>2013</td>\n",
       "      <td>42</td>\n",
       "      <td>1</td>\n",
       "      <td>9985984</td>\n",
       "    </tr>\n",
       "    <tr>\n",
       "      <th>5319</th>\n",
       "      <td>Tuan Wang</td>\n",
       "      <td>teknologi</td>\n",
       "      <td>2017</td>\n",
       "      <td>31</td>\n",
       "      <td>10</td>\n",
       "      <td>9939125</td>\n",
       "    </tr>\n",
       "    <tr>\n",
       "      <th>1746</th>\n",
       "      <td>Angela Dradjati Dewiatena</td>\n",
       "      <td>teknologi</td>\n",
       "      <td>2015</td>\n",
       "      <td>41</td>\n",
       "      <td>1</td>\n",
       "      <td>9938528</td>\n",
       "    </tr>\n",
       "    <tr>\n",
       "      <th>1877</th>\n",
       "      <td>Risalah Putriani Mirza</td>\n",
       "      <td>teknologi</td>\n",
       "      <td>2014</td>\n",
       "      <td>37</td>\n",
       "      <td>1</td>\n",
       "      <td>9924048</td>\n",
       "    </tr>\n",
       "    <tr>\n",
       "      <th>3969</th>\n",
       "      <td>Astri Kastinah Putri</td>\n",
       "      <td>teknologi</td>\n",
       "      <td>2016</td>\n",
       "      <td>39</td>\n",
       "      <td>1</td>\n",
       "      <td>9913684</td>\n",
       "    </tr>\n",
       "    <tr>\n",
       "      <th>4102</th>\n",
       "      <td>Jayen Aris Kriswantoro</td>\n",
       "      <td>teknologi</td>\n",
       "      <td>2014</td>\n",
       "      <td>25</td>\n",
       "      <td>1</td>\n",
       "      <td>9904155</td>\n",
       "    </tr>\n",
       "    <tr>\n",
       "      <th>6867</th>\n",
       "      <td>Ajeng Puspita</td>\n",
       "      <td>teknologi</td>\n",
       "      <td>2013</td>\n",
       "      <td>44</td>\n",
       "      <td>1</td>\n",
       "      <td>9877126</td>\n",
       "    </tr>\n",
       "    <tr>\n",
       "      <th>4024</th>\n",
       "      <td>Ahmad Fauzan Fibriansyah</td>\n",
       "      <td>teknologi</td>\n",
       "      <td>2015</td>\n",
       "      <td>30</td>\n",
       "      <td>1</td>\n",
       "      <td>9876686</td>\n",
       "    </tr>\n",
       "    <tr>\n",
       "      <th>1974</th>\n",
       "      <td>Billy Richardo Sagala</td>\n",
       "      <td>teknologi</td>\n",
       "      <td>2015</td>\n",
       "      <td>50</td>\n",
       "      <td>1</td>\n",
       "      <td>9875682</td>\n",
       "    </tr>\n",
       "    <tr>\n",
       "      <th>7014</th>\n",
       "      <td>Akbar Prasandhika</td>\n",
       "      <td>teknologi</td>\n",
       "      <td>2015</td>\n",
       "      <td>50</td>\n",
       "      <td>1</td>\n",
       "      <td>9866177</td>\n",
       "    </tr>\n",
       "  </tbody>\n",
       "</table>\n",
       "</div>"
      ],
      "text/plain": [
       "                           nama departemen  tahun_masuk  usia  golongan  \\\n",
       "5933     Haryo Edi Wahyupurboyo  teknologi         2013    42         1   \n",
       "5319                  Tuan Wang  teknologi         2017    31        10   \n",
       "1746  Angela Dradjati Dewiatena  teknologi         2015    41         1   \n",
       "1877     Risalah Putriani Mirza  teknologi         2014    37         1   \n",
       "3969       Astri Kastinah Putri  teknologi         2016    39         1   \n",
       "4102     Jayen Aris Kriswantoro  teknologi         2014    25         1   \n",
       "6867              Ajeng Puspita  teknologi         2013    44         1   \n",
       "4024   Ahmad Fauzan Fibriansyah  teknologi         2015    30         1   \n",
       "1974      Billy Richardo Sagala  teknologi         2015    50         1   \n",
       "7014          Akbar Prasandhika  teknologi         2015    50         1   \n",
       "\n",
       "         gaji  \n",
       "5933  9985984  \n",
       "5319  9939125  \n",
       "1746  9938528  \n",
       "1877  9924048  \n",
       "3969  9913684  \n",
       "4102  9904155  \n",
       "6867  9877126  \n",
       "4024  9876686  \n",
       "1974  9875682  \n",
       "7014  9866177  "
      ]
     },
     "execution_count": 8,
     "metadata": {},
     "output_type": "execute_result"
    }
   ],
   "source": [
    "# 6. Data 10 karyawan teknologi dengan gaji terbanyak. Jika ada gaji yang sama banyak. urutkan dari usia yang termuda.\n",
    "df.loc[df['departemen'] == 'teknologi'].sort_values(['gaji', 'usia'], ascending=[False, True])[:10]"
   ]
  },
  {
   "cell_type": "code",
   "execution_count": 9,
   "metadata": {},
   "outputs": [
    {
     "data": {
      "text/plain": [
       "4     819\n",
       "6     818\n",
       "5     818\n",
       "2     813\n",
       "10    812\n",
       "3     803\n",
       "7     787\n",
       "8     765\n",
       "1     765\n",
       "9     739\n",
       "Name: golongan, dtype: int64"
      ]
     },
     "execution_count": 9,
     "metadata": {},
     "output_type": "execute_result"
    }
   ],
   "source": [
    "# 7. Tabel frekuensi banyaknya karyawan tiap golongan\n",
    "df['golongan'].value_counts()"
   ]
  },
  {
   "cell_type": "code",
   "execution_count": 10,
   "metadata": {},
   "outputs": [
    {
     "data": {
      "text/plain": [
       "produksi       494\n",
       "marketing      463\n",
       "operasional    457\n",
       "personalia     447\n",
       "keuangan       447\n",
       "teknologi      432\n",
       "kreatif        421\n",
       "Name: departemen, dtype: int64"
      ]
     },
     "execution_count": 10,
     "metadata": {},
     "output_type": "execute_result"
    }
   ],
   "source": [
    "# 8. Tabel frekuensi banyaknya karyawan tiap departemen yang masuk sebelum tahun 2015\n",
    "df.loc[df['tahun_masuk'] < 2015]['departemen'].value_counts()"
   ]
  },
  {
   "cell_type": "code",
   "execution_count": 11,
   "metadata": {},
   "outputs": [
    {
     "data": {
      "text/plain": [
       "5454063.010832598"
      ]
     },
     "execution_count": 11,
     "metadata": {},
     "output_type": "execute_result"
    }
   ],
   "source": [
    "# 9. Rata-rata gaji seluruh karyawan\n",
    "df['gaji'].mean()"
   ]
  },
  {
   "cell_type": "code",
   "execution_count": 12,
   "metadata": {},
   "outputs": [
    {
     "data": {
      "text/plain": [
       "10.40528360989844"
      ]
     },
     "execution_count": 12,
     "metadata": {},
     "output_type": "execute_result"
    }
   ],
   "source": [
    "# 10. Standar deviasi usia karyawan operasional\n",
    "df.loc[df['departemen'] == 'operasional']['usia'].std()"
   ]
  },
  {
   "cell_type": "code",
   "execution_count": 13,
   "metadata": {},
   "outputs": [
    {
     "name": "stdout",
     "output_type": "stream",
     "text": [
      "0.004535809880458935 -0.00010187560881536198 -0.9397051622858397\n"
     ]
    }
   ],
   "source": [
    "# 11. Apakah gaji berkorelasi? Usia, tahun masuk, atau golongan? Tuliskan korelasinya\n",
    "corr_usia = df['gaji'].corr(df['usia'])\n",
    "corr_tahun_masuk = df['gaji'].corr(df['tahun_masuk'])\n",
    "corr_golongan = df['gaji'].corr(df['golongan'])\n",
    "print(corr_usia, corr_tahun_masuk, corr_golongan)"
   ]
  }
 ],
 "metadata": {
  "interpreter": {
   "hash": "2ef3d3566f7313e896a8dedb09cde89cd23c9d3d8ab674a1ff2f7f75a21b5550"
  },
  "kernelspec": {
   "display_name": "Python 3.9.7 64-bit",
   "language": "python",
   "name": "python3"
  },
  "language_info": {
   "codemirror_mode": {
    "name": "ipython",
    "version": 3
   },
   "file_extension": ".py",
   "mimetype": "text/x-python",
   "name": "python",
   "nbconvert_exporter": "python",
   "pygments_lexer": "ipython3",
   "version": "3.9.7"
  },
  "orig_nbformat": 4
 },
 "nbformat": 4,
 "nbformat_minor": 2
}

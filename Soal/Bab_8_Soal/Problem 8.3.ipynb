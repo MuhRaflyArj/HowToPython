{
 "cells": [
  {
   "cell_type": "code",
   "execution_count": null,
   "metadata": {},
   "outputs": [],
   "source": [
    "import pandas as pd\n",
    "import matplotlib.pyplot as plt"
   ]
  },
  {
   "cell_type": "code",
   "execution_count": null,
   "metadata": {},
   "outputs": [],
   "source": [
    "df = pd.read_csv('csv/problem-8-3.csv')"
   ]
  },
  {
   "cell_type": "markdown",
   "metadata": {},
   "source": [
    "<h3>Problem 8.3</h3>\n",
    "<p>Anda diberi data kesehatan manusia. Tuliskan/Gambarkan:</p>\n",
    "\n",
    "<ol>\n",
    "    <li>Banyaknya data</li>\n",
    "    <li>Pie chart banyaknya mahasiswa tiap gender</li>\n",
    "    <li>Berdasarkan plot sebelumnya, gender mana yang lebih banyak orangnya</li>\n",
    "    <li>Bar chart dengan fakultas sebagai sumbu x dan jumlah mahasiswa dengan tinggi di atas 160 dengan sumbu y</li>\n",
    "    <li>Histogram dengan tinggi sebagai sumbu x dan jumlah mahasiswa laki-laki sebagai sumbu y</li>\n",
    "    <li>Stacked bar chart dengan fakultas sebagai sumbu x dan jumlah mahasiswa tiap gender sebagai stacked sumbu y</li>\n",
    "    <li>Berdasarkan plot sebelumnya, fakultas mana yang rasio mahasiswa perempuannya paling banyak dibanding fakultas lain?</li>\n",
    "    <li>Line chart dengan berat badan sebagai sumbu x dan jumlah mahasiswa sebagai sumbu y</li>\n",
    "    <li>Line chart seperti soal sebelumnya. namun terdapat 2 garis, masing-masing untuk tiap gender</li>\n",
    "    <li>Berdasarkan plot sebelumnya, gender manakah yang cenderung memiliki berat badan ringan</li>\n",
    "    <li>Scatter plot dengan berat badan sebagai sumbu x dan tinggi badan sebagai sumbu y</li>\n",
    "</ol>"
   ]
  },
  {
   "cell_type": "code",
   "execution_count": null,
   "metadata": {},
   "outputs": [],
   "source": [
    "# 1. Banyaknya data"
   ]
  },
  {
   "cell_type": "code",
   "execution_count": null,
   "metadata": {},
   "outputs": [],
   "source": [
    "# 2. Pie chart banyaknya mahasiswa tiap gender"
   ]
  },
  {
   "cell_type": "code",
   "execution_count": null,
   "metadata": {},
   "outputs": [],
   "source": [
    "# 3. Berdasasrkan plot sebelumnya, gender mana yang lebih banyak orangnya"
   ]
  },
  {
   "cell_type": "code",
   "execution_count": null,
   "metadata": {},
   "outputs": [],
   "source": [
    "# 4. Bar chart dengan fakultas sebagai sumbu x dan jumlah mahasiswa dengan tinggi diatas 160 sebagai sumbu y"
   ]
  },
  {
   "cell_type": "code",
   "execution_count": null,
   "metadata": {},
   "outputs": [],
   "source": [
    "# 5. Histogram dengan tinggi sebagai sumbu x dan jumlah mahasiswa laki-laki sebagai sumbu y"
   ]
  },
  {
   "cell_type": "code",
   "execution_count": null,
   "metadata": {},
   "outputs": [],
   "source": [
    "# 6. Stacked bar chart dengan fakultas sebagai sumbu x dan jumlah mahasiswa tiap gender sebagai sumbu y"
   ]
  },
  {
   "cell_type": "code",
   "execution_count": null,
   "metadata": {},
   "outputs": [],
   "source": [
    "# 7. Berdasarkan plot sebelumnya, fakultas mana yang rasio mahasiswa perempuannya paling banyak dibanding fakultas lain"
   ]
  },
  {
   "cell_type": "code",
   "execution_count": null,
   "metadata": {},
   "outputs": [],
   "source": [
    "# 8. Line chart dengan berat badan sebagai sumbu x dan jumlah mahasiswa sebagai sumbu y"
   ]
  },
  {
   "cell_type": "code",
   "execution_count": null,
   "metadata": {},
   "outputs": [],
   "source": [
    "# 9. Line chart seperti soal sebelumnya, namun terdapat 2 garis, masing-masing untuk setiap gender"
   ]
  },
  {
   "cell_type": "code",
   "execution_count": null,
   "metadata": {},
   "outputs": [],
   "source": [
    "# 10. Berdasarkan plot sebelumnya, gender manakah yang cenderung memiliki berat lebih ringan"
   ]
  },
  {
   "cell_type": "code",
   "execution_count": null,
   "metadata": {},
   "outputs": [],
   "source": [
    "# 11. Scatter plot dengan berat badan sebagai sumbu x dan tinggi badan sebagai sumbu y"
   ]
  }
 ],
 "metadata": {
  "interpreter": {
   "hash": "2ef3d3566f7313e896a8dedb09cde89cd23c9d3d8ab674a1ff2f7f75a21b5550"
  },
  "kernelspec": {
   "display_name": "Python 3.9.7 64-bit",
   "language": "python",
   "name": "python3"
  },
  "language_info": {
   "codemirror_mode": {
    "name": "ipython",
    "version": 3
   },
   "file_extension": ".py",
   "mimetype": "text/x-python",
   "name": "python",
   "nbconvert_exporter": "python",
   "pygments_lexer": "ipython3",
   "version": "3.9.7"
  },
  "orig_nbformat": 4
 },
 "nbformat": 4,
 "nbformat_minor": 2
}

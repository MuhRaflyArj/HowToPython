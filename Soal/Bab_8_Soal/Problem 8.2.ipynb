{
 "cells": [
  {
   "cell_type": "code",
   "execution_count": null,
   "metadata": {},
   "outputs": [],
   "source": [
    "import pandas as pd\n",
    "import matplotlib.pyplot as plt"
   ]
  },
  {
   "cell_type": "code",
   "execution_count": null,
   "metadata": {},
   "outputs": [],
   "source": [
    "df = pd.read_csv('csv/problem-8-2.csv')"
   ]
  },
  {
   "cell_type": "markdown",
   "metadata": {},
   "source": [
    "<h3>Problem 8.2</h3>\n",
    "<p>Anda diberi nilai data mahasiswa. Tuliskan/Gambarkan:</p>\n",
    "\n",
    "<ol>\n",
    "    <li>Banyaknya data</li>\n",
    "    <li>Pie chart banyaknya mahasiswa tiap fakultas</li>\n",
    "    <li>Pie chart banyaknya mahasiswa FTSL berdasarkan tingkat</li>\n",
    "    <li>Histogram dengan tingkat sebagai sumbu x dan jumlah mahasiswa sebagai sumbu y</li>\n",
    "    <li>Berdasarkan plot sebelumnya. Range IP mana yang paling banyak diperoleh?</li>\n",
    "    <li>Stacked bar chart dengan tingkat sebagai sumbu x dan jumlah mahasiswa tiap fakultas sebagai stacked sumbu y</li>\n",
    "    <li>Berdasarkan plot sebelumnya, angkatan ke berapa STEI yang jumlah mahasiswanya paling sedikit?</li>\n",
    "    <li>Line chart dengan tingkat sebagai sumbu x dan jumlah mahasiswa sebagai sumbu y</li>\n",
    "    <li>Line chart seperti soal sebelumnya, namun terdapat 4 garis, masing-masing untuk tiap fakultas</li>\n",
    "    <li>Berdasarkan plot sebelumnya, fakultas manakah yang jumlah mahasiswanya terus bertambah?</li>\n",
    "    <li>Berdasarkan plot sebelumnya, fakultas manakah yang jumlah mahasiswanya terus berkurang?</li>\n",
    "</ol>"
   ]
  },
  {
   "cell_type": "code",
   "execution_count": null,
   "metadata": {},
   "outputs": [],
   "source": [
    "# 1. Banyaknya data"
   ]
  },
  {
   "cell_type": "code",
   "execution_count": null,
   "metadata": {},
   "outputs": [],
   "source": [
    "# 2. Pie chart banyaknya mahasiswa tiap fakultas"
   ]
  },
  {
   "cell_type": "code",
   "execution_count": null,
   "metadata": {},
   "outputs": [],
   "source": [
    "# 3. Pie chart banyaknya mahasiswa FTSL berdasarkan tingkat"
   ]
  },
  {
   "cell_type": "code",
   "execution_count": null,
   "metadata": {},
   "outputs": [],
   "source": [
    "# 4. Histogram dengan IP sebagai sumbu x dan jumlah mahasiswa tiap fakultas sebagai sumbu y, gunakan pertambahan 0.5"
   ]
  },
  {
   "cell_type": "code",
   "execution_count": null,
   "metadata": {},
   "outputs": [],
   "source": [
    "# 5. Berdasarkan plot sebelumnya, range IP mana yang paling banyak diperoleh?"
   ]
  },
  {
   "cell_type": "code",
   "execution_count": null,
   "metadata": {},
   "outputs": [],
   "source": [
    "# 6. Stacked bar chart dengan tingkat sebagai sumbu x dan jumlah mahasiswa setiap fakultas sebagai sumbu y"
   ]
  },
  {
   "cell_type": "code",
   "execution_count": null,
   "metadata": {},
   "outputs": [],
   "source": [
    "# 7. Berdasarkan plot sebelumnya, angkatan STEI yang jumlah mahasiswanya paling sedikit ?"
   ]
  },
  {
   "cell_type": "code",
   "execution_count": null,
   "metadata": {},
   "outputs": [],
   "source": [
    "# 8. Line chart dengan tingkat sebagai sumbu x dan jumlah mahasiswa sumbu y"
   ]
  },
  {
   "cell_type": "code",
   "execution_count": null,
   "metadata": {},
   "outputs": [],
   "source": [
    "# 9. Line chart seperti soal sebelumnya, namun terdapat 4 garis, masing-masing untuk tiap fakultas"
   ]
  },
  {
   "cell_type": "code",
   "execution_count": null,
   "metadata": {},
   "outputs": [],
   "source": [
    "# 10. Berdasarkan plot sebelumnya, manakah yang jumlah mahasiswanya terus bertambah ?"
   ]
  },
  {
   "cell_type": "code",
   "execution_count": null,
   "metadata": {},
   "outputs": [],
   "source": [
    "# 11. Berdasarkan plot sebelumnya, manakah yang jumlah mahasiswanya terus berkurang ?"
   ]
  }
 ],
 "metadata": {
  "interpreter": {
   "hash": "2ef3d3566f7313e896a8dedb09cde89cd23c9d3d8ab674a1ff2f7f75a21b5550"
  },
  "kernelspec": {
   "display_name": "Python 3.9.7 64-bit",
   "language": "python",
   "name": "python3"
  },
  "language_info": {
   "codemirror_mode": {
    "name": "ipython",
    "version": 3
   },
   "file_extension": ".py",
   "mimetype": "text/x-python",
   "name": "python",
   "nbconvert_exporter": "python",
   "pygments_lexer": "ipython3",
   "version": "3.9.7"
  },
  "orig_nbformat": 4
 },
 "nbformat": 4,
 "nbformat_minor": 2
}

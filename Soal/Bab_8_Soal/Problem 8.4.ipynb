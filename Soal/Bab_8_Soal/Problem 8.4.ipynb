{
 "cells": [
  {
   "cell_type": "code",
   "execution_count": null,
   "metadata": {},
   "outputs": [],
   "source": [
    "import pandas as pd\n",
    "import matplotlib.pyplot as plt"
   ]
  },
  {
   "cell_type": "code",
   "execution_count": null,
   "metadata": {},
   "outputs": [],
   "source": [
    "df = pd.read_csv('csv/problem-8-4.csv')"
   ]
  },
  {
   "cell_type": "markdown",
   "metadata": {},
   "source": [
    "<h3>Problem 8.4</h3>\n",
    "<p>Anda diberi data seluruh digimon yang dapat ditangkap maupun dilawan dari permainan \"Digimon Story: Cyber Sleuth (PS Vita / PS 4)\". Tuliskan/Gambarkan:</p>\n",
    "\n",
    "<ol>\n",
    "    <li>Banyaknya data</li>\n",
    "    <li>Banyaknya unique value dari kolom Type beserta isinya</li>\n",
    "    <li>Bar chart dengan Stage sebagai sumbu x dan jumlah digimon sebagai sumbu y</li>\n",
    "    <li>Pie chart banyaknya digiomon dengan Attribute \"Fire\" terhadap Stage tertentu</li>\n",
    "    <li>Berdasarkan plot sebelumnya, Stage apa yang memiliki jumlah digimon paling banyak untuk Attribute \"Fire\"?</li>\n",
    "    <li>Stacked bar chart dengan Attribute sebagai sumbu x dan jumlah digimon setiap Type sebagai stacked sumbu y</li>\n",
    "    <li>Berdasarkan plot sebelumnya. Attribut apa yang memilik jumlah digimon paling banyak untuk Type \"Virus\"</li>\n",
    "    <li>Line chart dengan Stage selain \"Armor\" tanpa perubahan urutan sebagai sumbu x dan rata-rata Lv50 Spd sebagai sumbu y</li>\n",
    "    <li>Berdasarkan plot sebelumnya. apakah secara mayoritas pertumbuhan Stage meningkatkan potensi Spd dari digimon?</li>\n",
    "    <li>Line chart seperti soal sebelumnya, namun terdapat 5 garis, masing-masing untuk setiap Type</li>\n",
    "    <li>Berdasarkan plot sebelumnya, Type apa yang memiliki potensi Spd mayoritas paling rendah untuk Stage \"Rookie\" sampai \"Mega\"?</li>\n",
    "</ol>"
   ]
  },
  {
   "cell_type": "code",
   "execution_count": null,
   "metadata": {},
   "outputs": [],
   "source": [
    "# 1. Banyaknya data"
   ]
  },
  {
   "cell_type": "code",
   "execution_count": null,
   "metadata": {},
   "outputs": [],
   "source": [
    "# 2. Banyaknya uniqe value dari kolom type beserta isinya"
   ]
  },
  {
   "cell_type": "code",
   "execution_count": null,
   "metadata": {},
   "outputs": [],
   "source": [
    "# 3. Bar chart dengan Stage sebagai sumbu X dan jumlah digimon sebagai sumbu Y"
   ]
  },
  {
   "cell_type": "code",
   "execution_count": null,
   "metadata": {},
   "outputs": [],
   "source": [
    "# 4. Pie chart banyaknya digimin dengan Attribute \"Fire\" terhadap Stage tertentu"
   ]
  },
  {
   "cell_type": "code",
   "execution_count": null,
   "metadata": {},
   "outputs": [],
   "source": [
    "# 5. Berdasarkan plot sebelumnya., Stage apa yang memiliki jumlah digimon paling banyak untuk stacked sumbu Y"
   ]
  },
  {
   "cell_type": "code",
   "execution_count": null,
   "metadata": {},
   "outputs": [],
   "source": [
    "# 6. Stacked bar chart dengan Attribute dengan sumbu X dan jumlah digimon tiap Type sebagai stacked sumbu Y"
   ]
  },
  {
   "cell_type": "code",
   "execution_count": null,
   "metadata": {},
   "outputs": [],
   "source": [
    "# 7. Berdasarkan plot sebelumnya, Attribute apa yang memiliki jumlah digimon paling banyak untuk Type \"Virus\" ?"
   ]
  },
  {
   "cell_type": "code",
   "execution_count": null,
   "metadata": {},
   "outputs": [],
   "source": [
    "# 8. Line chart dengan Stage selain \"Armor\" tanpa perubahan urutan sebagai sumbu X dan rata-rata Lv50 Spd sebagai sumbu Y"
   ]
  },
  {
   "cell_type": "code",
   "execution_count": null,
   "metadata": {},
   "outputs": [],
   "source": [
    "# 9. Berdasarkan plot sebelumnya, apakah secara mayoritas pertumbuhan Stage meningkatkan potensi Spd dari digimon ?"
   ]
  },
  {
   "cell_type": "code",
   "execution_count": null,
   "metadata": {},
   "outputs": [],
   "source": [
    "# 10. Line chart seperti soal sebelumnya, namun terdapat 5 garis. masing-masing untuk setiap type"
   ]
  },
  {
   "cell_type": "code",
   "execution_count": null,
   "metadata": {},
   "outputs": [],
   "source": [
    "# 11. Berdasarkan plot sebelumnya. Type apa yang memiliki potensi Spd mayoritas paling rendah untuk Stage \"Rookie\" sampai \"Mega\" ?"
   ]
  }
 ],
 "metadata": {
  "interpreter": {
   "hash": "2ef3d3566f7313e896a8dedb09cde89cd23c9d3d8ab674a1ff2f7f75a21b5550"
  },
  "kernelspec": {
   "display_name": "Python 3.9.7 64-bit",
   "language": "python",
   "name": "python3"
  },
  "language_info": {
   "codemirror_mode": {
    "name": "ipython",
    "version": 3
   },
   "file_extension": ".py",
   "mimetype": "text/x-python",
   "name": "python",
   "nbconvert_exporter": "python",
   "pygments_lexer": "ipython3",
   "version": "3.9.7"
  },
  "orig_nbformat": 4
 },
 "nbformat": 4,
 "nbformat_minor": 2
}

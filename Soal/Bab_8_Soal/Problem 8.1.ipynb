{
 "cells": [
  {
   "cell_type": "code",
   "execution_count": null,
   "metadata": {},
   "outputs": [],
   "source": [
    "import pandas as pd\n",
    "import matplotlib.pyplot as plt"
   ]
  },
  {
   "cell_type": "code",
   "execution_count": null,
   "metadata": {},
   "outputs": [],
   "source": [
    "df = pd.read_csv('csv/problem-8-1.csv')"
   ]
  },
  {
   "cell_type": "markdown",
   "metadata": {},
   "source": [
    "<h3>Problem 8.1</h3>\n",
    "<p>Anda diberi data kendaraan mahasiswa. Tuliskan/Gambarkan :</p>\n",
    "\n",
    "<ol>\n",
    "    <li>Banyaknya data</li>\n",
    "    <li>Pie chart banyaknya mahasiswa tiap kendaraan yang digunakan untuk berangkat ke kampus</li>\n",
    "    <li>Pie chart banyaknya mahasiswa tiap tingkat yang berjalan kaki</li>\n",
    "    <li>Histogram dengan tingkat sebagai sumbu x dan jumlah mahasiswa sebagai sumbu y</li>\n",
    "    <li>Berdasarkan plot sebelumnya, angkatan berapa yang jumlah mahasiswanya paling banyak</li>\n",
    "    <li>Stacked bar chart dengan tingkat sebagai sumbu x dan jumlah mahasiswa tiap kendaraan sebagai stacked sumbu y</li>\n",
    "    <li>Berdasarkan plot sebelumnya, sebutkan trend kendaraan transportasi tiap tingkat!</li>\n",
    "    <li>Line chart dengan tingkat sebagai sumbu x dan jumlah mahasiswa sebagai sumbu y</li>\n",
    "    <li>Line chart seperti soal sebelumnya, namun terdapat 4 garis, masing-masing untuk tiap kendaraan</li>\n",
    "    <li>Berdasarkan plot sebelumnya, apa kendaraan yang penggemarnya terus bertamabh ?</li>\n",
    "    <li>Berdasarkan plot sebelumnya, apa kendaraan yang penggemarnya terus menurun ?</li>\n",
    "</ol>"
   ]
  },
  {
   "cell_type": "code",
   "execution_count": null,
   "metadata": {},
   "outputs": [],
   "source": [
    "# 1. Banyaknya data"
   ]
  },
  {
   "cell_type": "code",
   "execution_count": null,
   "metadata": {},
   "outputs": [],
   "source": [
    "# 2. Pie chart banyaknya mahasiswa tiap kendaraan yang digunakan untuk berangkat ke kampus"
   ]
  },
  {
   "cell_type": "code",
   "execution_count": null,
   "metadata": {},
   "outputs": [],
   "source": [
    "# 3. Pie chart banyaknya mahasiswa tiap angktan yang berjalan kaki"
   ]
  },
  {
   "cell_type": "code",
   "execution_count": null,
   "metadata": {},
   "outputs": [],
   "source": [
    "# 4. Histogram dengan tingkat sebagai sumbu x dan jumlah mahasiswa sebagai sumbu y"
   ]
  },
  {
   "cell_type": "code",
   "execution_count": null,
   "metadata": {},
   "outputs": [],
   "source": [
    "# 5. Berdasarkan plot sebelumnya, angkatan berapa yang jumlah mahasiswanya paling banyak"
   ]
  },
  {
   "cell_type": "code",
   "execution_count": null,
   "metadata": {},
   "outputs": [],
   "source": [
    "# 6. Stacked bar chart dengan tingkat sebagai sumbu x dan jumlah mahasiswa tiap kendaraan sebagai stacked sumbu y"
   ]
  },
  {
   "cell_type": "code",
   "execution_count": null,
   "metadata": {},
   "outputs": [],
   "source": [
    "# 7. Berdasarkan plot sebelumnya, sebutkan trend kendaraan transportasi tiap tingkat!"
   ]
  },
  {
   "cell_type": "code",
   "execution_count": null,
   "metadata": {},
   "outputs": [],
   "source": [
    "# 8. Line chart dengan tingkat sebagai sumbu x dan jumlah mahasiswa sebagai sumbu y"
   ]
  },
  {
   "cell_type": "code",
   "execution_count": null,
   "metadata": {},
   "outputs": [],
   "source": [
    "# 9. Line chart seperti soal sebelumnya, namun terdapat 4 garis, masing-masing untuk tiap kendaraan"
   ]
  },
  {
   "cell_type": "code",
   "execution_count": null,
   "metadata": {},
   "outputs": [],
   "source": [
    "# 10. Berdasarkan plot sebelumnya, apa kendaraan yang penggemarnya terus bertambah ?"
   ]
  },
  {
   "cell_type": "code",
   "execution_count": null,
   "metadata": {},
   "outputs": [],
   "source": [
    "# 11. Berdasarkan plot sebelumnya, apa kendaraan yang penggemarnya terus menurun ?"
   ]
  }
 ],
 "metadata": {
  "interpreter": {
   "hash": "2ef3d3566f7313e896a8dedb09cde89cd23c9d3d8ab674a1ff2f7f75a21b5550"
  },
  "kernelspec": {
   "display_name": "Python 3.9.7 64-bit",
   "language": "python",
   "name": "python3"
  },
  "language_info": {
   "codemirror_mode": {
    "name": "ipython",
    "version": 3
   },
   "file_extension": ".py",
   "mimetype": "text/x-python",
   "name": "python",
   "nbconvert_exporter": "python",
   "pygments_lexer": "ipython3",
   "version": "3.9.7"
  },
  "orig_nbformat": 4
 },
 "nbformat": 4,
 "nbformat_minor": 2
}

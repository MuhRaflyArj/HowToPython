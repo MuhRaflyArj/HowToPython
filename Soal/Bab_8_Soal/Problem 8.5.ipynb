{
 "cells": [
  {
   "cell_type": "code",
   "execution_count": null,
   "metadata": {},
   "outputs": [],
   "source": [
    "import pandas as pd\n",
    "import matplotlib.pyplot as plt"
   ]
  },
  {
   "cell_type": "code",
   "execution_count": null,
   "metadata": {},
   "outputs": [],
   "source": [
    "df = pd.read_csv('csv/problem-8-5.csv')"
   ]
  },
  {
   "cell_type": "markdown",
   "metadata": {},
   "source": [
    "<h3>Problem 8.5</h3>\n",
    "<p>Anda diberi populasi berdasarkan lokasi dan age group. Tuliskan/Gambarkan :</p>\n",
    "\n",
    "<ol>\n",
    "    <li>Banyaknya data</li>\n",
    "    <li>Banyaknya unique value dari kolom AgeGrp beserta isinya</li>\n",
    "    <li>Pie chart banyaknya populasi total untuk rentang usia 0-19 berdasarkan Locatuon untuk 10 Location Unique pertama sesuai abjad</li>\n",
    "    <li>Berdasarkan plot sebelumnya, lokasi apakah yang memiliki populasi total terkecil?</li>\n",
    "    <li>Stacked Bar Chart dengan rentang usia sebagai sumbu x dan populasi laki-laki beserta populasi peprempuan sebagai stacked sumbu y untuk lokasi 'World'</li>\n",
    "    <li>Dari chart sebelumnya, rentang usia manakah yang memiliki populasi laki-laki terkecil?</li>\n",
    "    <li>Line chart dengan rentang usia sabagai sumbu x dan populasi total sebagai sumbu y unutk lokasi Indonesia</li>\n",
    "    <li>Dari chart sebelumnya, rentang usia apakah yang paling dominan?</li>\n",
    "    <li>Scatter Plot dengan populasi laki-laki sebagai sumbu x dan populasi perempuan sebagai sumbu y</li>\n",
    "    <li>(Bonus) Sama seperti soal sebelumnya, namun buat warnanya berbeda berdasarkan rentang usia</li>"
   ]
  },
  {
   "cell_type": "code",
   "execution_count": null,
   "metadata": {},
   "outputs": [],
   "source": [
    "# 1. Banyaknya data"
   ]
  },
  {
   "cell_type": "code",
   "execution_count": null,
   "metadata": {},
   "outputs": [],
   "source": [
    "# 2. Banyaknya unique value dari kolom AgeGrp beserta isinya"
   ]
  },
  {
   "cell_type": "code",
   "execution_count": null,
   "metadata": {},
   "outputs": [],
   "source": [
    "# 3. Pie chart banyaknya populasi total untuk rentan usia 0-19 berdasarkan Location untuk 10 Locatuin Uniqe pertama sesuai abjad"
   ]
  },
  {
   "cell_type": "code",
   "execution_count": null,
   "metadata": {},
   "outputs": [],
   "source": [
    "# 4. Berdasarkan plot sebelumnya, lokasi apakah yang memiliki populasi total terkecil ?"
   ]
  },
  {
   "cell_type": "code",
   "execution_count": null,
   "metadata": {},
   "outputs": [],
   "source": [
    "# 5. Stacked Bar Chart dengan rentan usia sebagai sumbu X dan populasi laki-laki beserta perempuan sebagai stacked sumbu Y untuk lokasi 'World'"
   ]
  },
  {
   "cell_type": "code",
   "execution_count": null,
   "metadata": {},
   "outputs": [],
   "source": [
    "# 6. Dari chart sebelumnya, rentang usia manakah yang memiliki poulasi laki-laki terkecil ?"
   ]
  },
  {
   "cell_type": "code",
   "execution_count": null,
   "metadata": {},
   "outputs": [],
   "source": [
    "# 7. Line Chart dengan rentan usia sebagai sumbu X dan populasi total sebagai sumbu Y untuk lokasi Indonesia"
   ]
  },
  {
   "cell_type": "code",
   "execution_count": null,
   "metadata": {},
   "outputs": [],
   "source": [
    "# 8. Dari chart sebelumnya, rentang usia apakah yang paling dominan?"
   ]
  },
  {
   "cell_type": "code",
   "execution_count": null,
   "metadata": {},
   "outputs": [],
   "source": [
    "# 9. Scatter Plot dengan populasi laki-laki sebagai sumbu X dan populasi perempuan sebagai sumbu Y"
   ]
  },
  {
   "cell_type": "code",
   "execution_count": null,
   "metadata": {},
   "outputs": [],
   "source": [
    "# 10. (Bonus) Sama seperti soal sebelumnya, namun buat warnanya berbeda berdasarkan rentan usia"
   ]
  }
 ],
 "metadata": {
  "interpreter": {
   "hash": "2ef3d3566f7313e896a8dedb09cde89cd23c9d3d8ab674a1ff2f7f75a21b5550"
  },
  "kernelspec": {
   "display_name": "Python 3.9.7 64-bit",
   "language": "python",
   "name": "python3"
  },
  "language_info": {
   "codemirror_mode": {
    "name": "ipython",
    "version": 3
   },
   "file_extension": ".py",
   "mimetype": "text/x-python",
   "name": "python",
   "nbconvert_exporter": "python",
   "pygments_lexer": "ipython3",
   "version": "3.9.7"
  },
  "orig_nbformat": 4
 },
 "nbformat": 4,
 "nbformat_minor": 2
}

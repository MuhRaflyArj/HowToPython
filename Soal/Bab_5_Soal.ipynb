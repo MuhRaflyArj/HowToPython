{
 "cells": [
  {
   "cell_type": "markdown",
   "metadata": {},
   "source": [
    "<h3>Problem 5.1 - Mudah</h3>\n",
    "<p>Tuan Wang melihat ada N angka yang dituliskan di kertas dari kiri ke kanan. Kini ia penasaran,\n",
    "bagaimana<br>jika angka tersebut dituliskan dari kanan ke kiri?</p>\n",
    "\n",
    "<h4>Contoh</h4>\n",
    "<p>Masukkan N: <u>4</u></p>\n",
    "\n",
    "<p>Masukkan angka dari kiri ke kanan:</p>\n",
    "<p><u>10<br>15<br>8<br>7</u></p>\n",
    "\n",
    "<p>Angka dari kanan ke kiri :</p>\n",
    "<p>7<br>8<br>15<br>10</p>"
   ]
  },
  {
   "cell_type": "code",
   "execution_count": null,
   "metadata": {},
   "outputs": [],
   "source": [
    "# Problem 5.1 - Mudah"
   ]
  },
  {
   "cell_type": "markdown",
   "metadata": {},
   "source": [
    "<h3>Problem 5.2 - Mudah</h3>\n",
    "<p>Tuan Wang membeli <i>N</i> buah barang di toko langganannya. Karena ia dihafal oleh penjual toko, ia diberi diskon<br>sebesar <i>X</i>%. Berapakah\n",
    "harga masing-masing barang Tuan Wang setelah diskon?</p>\n",
    "\n",
    "<h4>Contoh</h4>\n",
    "\n",
    "<p>Masukkan harga barang: <u>5</u></p>\n",
    "<p><u>500<br>1000<br>1500<br>4000<br>1700</u></p>\n",
    "\n",
    "<p>Masukkan Diskon: <u>10</u></p>\n",
    "\n",
    "<p>Harga barang sesudah diskon:</p>\n",
    "<p>450<br>900<br>1350<br>3600<br>1530</p>\n",
    "\n"
   ]
  },
  {
   "cell_type": "code",
   "execution_count": null,
   "metadata": {},
   "outputs": [],
   "source": [
    "# Problem 5.2 - Mudah"
   ]
  },
  {
   "cell_type": "markdown",
   "metadata": {},
   "source": [
    "<h3>Problem 5.3 - Mudah</h3>\n",
    "<p>Tuan Wang bermain Pokemon Go. Tuan Wang memiliki N buah pokemon, dan ia mengetahui <i>combat power</i> dari setiap pokemonnya. Tuan Wang akan melawan musuh yang juga memiliki N Pokemon. Tuan Wang juga mengetahui <i>combat power</i> dari pokemon musuh yang seluruhnya bernilai sama. Sebuah pokemon dapat mengalahkan pokemon lain apabila <i>combat power</i> pokemon tersebut lebih besar. Setiap pokemon Tuan Wang akan dipertarungkan dengan pokemon musuh secara satu lawan satu (N pertarungan). Karena musuh Tuan wang cukup licik, setiap seri akan dihitung sebagai kemenangan musuh. Pemenang ditentukan dengan membandingkan total kemenangan dari pertarungan. Tugasmu adalah menentukan apakah Tuan Wang akan menjadi pemenang</p>\n",
    "\n",
    "<h4>Contoh 1</h4>\n",
    "<p>Masukkan jumlah pokemon Tuan Wang: <u>5</u><br>\n",
    "Masukkan combat power pokemon Tuan Wang ke-1: <u>333</u><br>\n",
    "Masukkan combat power pokemon Tuan Wang ke-2: <u>373</u><br>\n",
    "Masukkan combat power pokemon Tuan Wang ke-3: <u>889</u><br>\n",
    "Masukkan combat power pokemon Tuan Wang ke-4: <u>1456</u><br>\n",
    "Masukkan combat power pokemon Tuan Wang ke-5: <u>567</u><br>\n",
    "Masukkan combat power pokemon musuh: <u>444</u><br>\n",
    "Tuan Wang dapat mengalahkan pokemon musuh.</p>\n",
    "<p>Keterangan: Pokemon 3,4, dan 5 Tuan Wang memiliki <i>combat power</i> yang lebih besar daripada pokemon musuh (3 menang > 2 kalah).</p>\n",
    "\n",
    "<h4>Contoh 2</h4>\n",
    "<p>Masukkan jumlah pokemon Tuan Wang: <u>4</u><br>\n",
    "Masukkan combat power pokemon Tuan Wang ke-1: <u>446</u><br>\n",
    "Masukkan combat power pokemon Tuan Wang ke-2: <u>445</u><br>\n",
    "Masukkan combat power pokemon Tuan Wang ke-3: <u>444</u><br>\n",
    "Masukkan combat power pokemon Tuan Wang ke-4: <u>443</u><br>\n",
    "Masukkan combat power pokemon musuh: <u>444</u><br>\n",
    "Tuan Wang tidak dapat mengalahkan pokemon musuh.</p>\n",
    "<p>Keterangan: Pokemon 1 dan 2 Tuan Wang memiliki <i>combat power</i> yang lebih besar daripada pokemon musuh (2 menang ≤ 2 kalah).</p>"
   ]
  },
  {
   "cell_type": "code",
   "execution_count": null,
   "metadata": {},
   "outputs": [],
   "source": [
    "# Problem 5.3 - Mudah"
   ]
  },
  {
   "cell_type": "markdown",
   "metadata": {},
   "source": [
    "<h3>Problem 5.4 - Sedang</h3>\n",
    "<p>Tuan Wang memiliki <i>N</i> buah stik dengan panjang yang berbeda. Ia ingin membuat segitiga dibuang dengan mengambil 3 stik tersebut. Tentukan jenis-jenis segitiga yang dapat dibentuk. Tentukan jenis-jenis seigitiga yang dapat dibentuk!</p>\n",
    "<p>Catatan dengan sisi <i>a, b,</i> dan <i>c</i> dapat dibentuk jika <i>a + b > c, a + c > b, dan b + c > a.</i></p>\n",
    "\n",
    "<h4>Contoh</h4>\n",
    "<p>Masukkan banyaknya stik Tuan Wang: <u>6</u><br>\n",
    "Masukkan panjang stik:<br>\n",
    "<u>2<br>3<br>4<br>5<br>12<br>13</u><br>\n",
    "Daftar segitiga yang dibuat:<br>\n",
    "2 3 4<br>2 4 5<br>2 12 13<br>3 4 5<br>3 12 13<br>4 12 13<br>5 12 13</p>"
   ]
  },
  {
   "cell_type": "code",
   "execution_count": null,
   "metadata": {},
   "outputs": [],
   "source": [
    "# Problem 5.4 - Sedang"
   ]
  },
  {
   "cell_type": "markdown",
   "metadata": {},
   "source": [
    "<h3>Problem 5.5 - Sedang</h3>\n",
    "<p>Tuan Wang memiliki sebuah rantai DNA. Rantai DNA adalah sebuah string yang terdiri dari karakter C, G, A atau T. Tuan Wang ingin mencari sebuah pola rantai DNA tersebut, apakah pola tersebut ada atau tidak. Buatkan program untuk mencari pola itu!</p>\n",
    "\n",
    "<h4>Contoh 1</h4>\n",
    "<p>Masukkan rantai DNA: <u>GCATAGTCTAGTCAGTGACTA</u><br>\n",
    "Masukkan pola yang dicari: <u>AGT</u><br>\n",
    "Pola muncul pada rantai DNA.</p>\n",
    "\n",
    "<h4>Contoh 2</h4>\n",
    "<p>Masukkan rantai DNA: <u>GCAGC</u><br>\n",
    "Masukkan pola yang dicari: <u>AGT</u><br>\n",
    "Pola tidak muncul pada rantai DNA.</p>"
   ]
  },
  {
   "cell_type": "code",
   "execution_count": null,
   "metadata": {},
   "outputs": [],
   "source": [
    "#Problem 5.5 - Sedang"
   ]
  },
  {
   "cell_type": "markdown",
   "metadata": {},
   "source": [
    "<h3>Problem 5.6 - Sedang</h3>\n",
    "<p>Tuan Wang memiliki data nilai tes Pengenalan Komputas. Nilai berkisar dari 1 sampai 100. Namun ia baru sadar kalau beberapa mahasiswa memiliki nilai yang sama. Ia mencurigai bila ada setidaknya 2 mahasiswa sekaligus memiliki nilai yang sama. Bantulah Tuan Wang dengan menunjukkan nilai mana saja yang patut dicurigai!</p>\n",
    "\n",
    "<h4>Contoh</h4>\n",
    "<p>Banyaknya nilai: <u>10</u><br>\n",
    "Daftar Nilai:<br>\n",
    "<u>100<br>99<br>20<br>95<br>70<br>100<br>60<br>80<br>100<br>70</u><br>\n",
    "Daftar nilai yang dicurigai:<br>\n",
    "70<br>100</p>"
   ]
  },
  {
   "cell_type": "code",
   "execution_count": null,
   "metadata": {},
   "outputs": [],
   "source": [
    "# Problem 5.6 - Sedang"
   ]
  },
  {
   "cell_type": "markdown",
   "metadata": {},
   "source": [
    "<h3>Problem 5.7 - Sedang</h3>\n",
    "<p>Untuk keperluan perayaan ulang taun universitasnya, Tuan Wang diminta mencari mahasiswa dan mahasiswi tertinggi untuk jadi ambassador universitas. Rektor memberikan data berupa tinggi serta gender dari semua mahasiswa di unviersitas tersebut. Karena Tuan Wang sudah sangat sibuk, maka beliau meminta bantuan anda untuk membuat program yang dapat mengerjakan hal tersebut. Kembalikam urutan mahasiswa dan mahasiswi tertinggi.</p>\n",
    "\n",
    "<h4>Contoh 1</h4>\n",
    "<p>Masukkan jumlah peserta didik: <u>5</u><br>\n",
    "Masukkan tinggi masing-masing peserta didik:<br>\n",
    "150<br>145<br>154<br>160<br>155<br>\n",
    "Masukkan gender masing-masing peserta didik:<br>\n",
    "L<br>P<br>P<br>L<br>P<br>\n",
    "Urutan Mahasiswa Tertinggi: 4 (tinggi 160)<br>\n",
    "Urutan Mahasiswi Tertinggi: 5 (tinggi 155)</p>\n",
    "\n",
    "<h4>Contoh 2</h4>\n",
    "<p>Masukkan jumlah peserta didik: <u>4</u><br>\n",
    "Masukkan tinggi masing-masing peserta didik:<br>\n",
    "160<br>150<br>154<br>160<br>\n",
    "Masukkan gender masing-masing peserta didik:<br>\n",
    "L<br>L<br>P<br>P<br>\n",
    "Urutan Mahasiswa Tertinggi: 1 (tinggi 160)<br>\n",
    "Urutan Mahasiswi Tertinggi: 4 (tinggi 160)</p>"
   ]
  },
  {
   "cell_type": "code",
   "execution_count": null,
   "metadata": {},
   "outputs": [],
   "source": [
    "# Problem 5.7 - Sulit"
   ]
  },
  {
   "cell_type": "markdown",
   "metadata": {},
   "source": [
    "<h3>Problem 5.8 - Sedang</h3>\n",
    "<p>Buatlah sebuah program yang menerima masukkan bilangan bulat <i>n</i> yaitu jumlah elemen array, diikuti masukkan setiap elemennya yang berupa bilangan bulat. Kemudian program memberikan keluaran yaitu array yang elemennya berselang-seling antara nilai minimum dan maksumum array tersebut. Asumsikan semua bilangan array tidak lebih dari 100.</p>\n",
    "\n",
    "<h4>Contoh 1</h4>\n",
    "<p>Masukkan n: <u>7</u><br>\n",
    "Masukkan elemen ke 1: <u>3</u><br>\n",
    "Masukkan elemen ke 2: <u>7</u><br>\n",
    "Masukkan elemen ke 3: <u>9</u><br>\n",
    "Masukkan elemen ke 4: <u>9</u><br>\n",
    "Masukkan elemen ke 5: <u>5</u><br>\n",
    "Masukkan elemen ke 6: <u>4</u><br>\n",
    "Masukkan elemen ke 7: <u>2</u><br>\n",
    "[2, 9, 3, 9, 4, 7, 5]</p>\n",
    "\n",
    "<h4>Contoh 2</h4>\n",
    "<p>Masukkan n: <u>8</u><br>\n",
    "Masukkan elemen ke 1: <u>14</u><br>\n",
    "Masukkan elemen ke 2: <u>7</u><br>\n",
    "Masukkan elemen ke 3: <u>9</u><br>\n",
    "Masukkan elemen ke 4: <u>11</u><br>\n",
    "Masukkan elemen ke 5: <u>10</u><br>\n",
    "Masukkan elemen ke 6: <u>1</u><br>\n",
    "Masukkan elemen ke 7: <u>-5</u><br>\n",
    "Masukkan elemen ke 8: <u>99</u><br>\n",
    "[-5, 99, 1, 14, 7, 11, 9, 10]</p>"
   ]
  },
  {
   "cell_type": "code",
   "execution_count": null,
   "metadata": {},
   "outputs": [],
   "source": [
    "# Problem 5.8 - Sulit"
   ]
  },
  {
   "cell_type": "markdown",
   "metadata": {},
   "source": [
    "<h3>Problem 5.9 - Sulit</h3>\n",
    "<p>Tuan Wang ingin mencari tahu apakah suatu tulisan acak dapat disusun menjadi suatu palindrom atau tidak. Suatu tulisan tidak dikatakan palindrom apabila tulisan tersebut sama apabila huruf-hurufnya dibalik</p>\n",
    "\n",
    "<h4>Contoh 1</h4>\n",
    "<p>Masukkan jumlah huruf pada tulisan: <u>5</u><br>\n",
    "Masukkan tulisan: <u>KTKAA</u><br>\n",
    "Tulisan tersebut dapat disusun menjadi sebuah palindrom.</p>\n",
    "\n",
    "<p>Keterangan: Huruf-huruf di atass dapat disusun menjadi \"KATAK\" yang merupakan tulisan palindrom.</p>\n",
    "\n",
    "<h4>Contoh 2</h4>\n",
    "<p>Masukkan jumlah huruf pada tulisan: <u>6</u><br>\n",
    "Masukkan tulisan: <u>EADBCX</u><br>\n",
    "Tulisan tersebut tidak dapat disusun menjadi sebuah palindrom.</p>\n",
    "\n",
    "<p>Hint: Suatu tulisan dapat disusun menjadi sebuah palindrom apabila memiliki maksimal satu huruf yang jumlahnya ganjil.</p>"
   ]
  },
  {
   "cell_type": "code",
   "execution_count": null,
   "metadata": {},
   "outputs": [],
   "source": [
    "# Problem 5.9 - Sulit"
   ]
  },
  {
   "cell_type": "markdown",
   "metadata": {},
   "source": [
    "<h3>Problem 5.10 - Sulit</h3>\n",
    "<p>Tuan Wang memiliki data <i>N</i> bilangan asli yang masing-masing berada diantara - hingga 99. Buatlah program yang mengeluarkan mean, median, dan modus dari <i>N</i> bilangan tersebut.</p>\n",
    "\n",
    "<p>Hint: Untuk mengurutkan array, gunakan array yang dapat menghitung kemunculan suatu bilangan dan buatlah array baru untuk menampun bilangan yang sudah terurut. Dilarang menggunakan fungsi sorting bawaan.</p>\n",
    "\n",
    "<h4>Contoh 1</h4>\n",
    "<p>Masukkan jumlah bilangan: <u>5</u><br>\n",
    "Masukkan bilangan ke-1: <u>3</u><br>\n",
    "Masukkan bilangan ke-2: <u>2</u><br>\n",
    "Masukkan bilangan ke-3: <u>1</u><br>\n",
    "Masukkan bilangan ke-4: <u>6</u><br>\n",
    "Masukkan bilangan ke-5: <u>2</u><br>\n",
    "Mean: 2.8<br>\n",
    "Median: 2<br>\n",
    "Modus: 2</p>\n",
    "\n",
    "<h4>Contoh 2</h4>\n",
    "<p>Masukkan jumlah bilangan: <u>6</u><br>\n",
    "Masukkan bilangan ke-1: <u>90</u><br>\n",
    "Masukkan bilangan ke-2: <u>20</u><br>\n",
    "Masukkan bilangan ke-3: <u>20</u><br>\n",
    "Masukkan bilangan ke-4: <u>70</u><br>\n",
    "Masukkan bilangan ke-5: <u>20</u><br>\n",
    "Masukkan bilangan ke-6: <u>70</u><br>\n",
    "Mean: 48.333<br>\n",
    "Median: 45<br>\n",
    "Modus: 20</p>"
   ]
  },
  {
   "cell_type": "code",
   "execution_count": null,
   "metadata": {},
   "outputs": [],
   "source": [
    "# Problem 5.10 - Sulit"
   ]
  },
  {
   "cell_type": "markdown",
   "metadata": {},
   "source": [
    "<h3>Problem 5.11 - Sulit</h3>\n",
    "<p>Himpunan adalah pengelompokan objek dengan kesamaan tertentu. Dalam ilmu matematika, kita sering mendengar istilah himpunan bilangan, seperti himpunan bilangan real., himpunan bilangan bulat, dll. Daru dua himpunan, terdapat relasi atau hubungan antara keduanya, yaitu relasa sama dengan dan relasi subset. Himpunan A merupakan subset dari himpunan B apabila seluruh elemen pada A juga merupakan elemen pada B. Himpunan A dikatakan sama dengan himpunan B apabila anggota dari himpunan A sama persis dengan anggota dari himpunan B ( A subset B dan B subset A, maka A sama dengan B).</p>\n",
    "\n",
    "<p>Buatlah suatu program yang menerima input berupa jumlah elemen himpunan A dan himpunan B, beserta isi anggotanya. program memberikan output berupa relasi antara kedua himpunan tersebut (A sama dengan B, A subset B, B subset A, atau tidak ada relasi). Asumsikan bahwa angka masukkan adalah bilangan bulat positif dan berbeda satu sama lain.</p>\n",
    "\n",
    "<p>Hint: Dicoba per kasus, cek apakah A sama dengan B, jika tidak cek apakah A subset B, dan seterusnya</p>\n",
    "\n",
    "<h4>Contoh 1</h4>\n",
    "<p>Masukkan jumlah anggota A: <u>5</u><br>\n",
    "Masukkan jumlah anggota B: <u>3</u><br>\n",
    "Masukkan anggota A ke-1: <u>1</u><br>\n",
    "Masukkan anggota A ke-2: <u>2</u><br>\n",
    "Masukkan anggota A ke-3: <u>3</u><br>\n",
    "Masukkan anggota A ke-4: <u>4</u><br>\n",
    "Masukkan anggota A ke-5: <u>5</u><br>\n",
    "Masukkan anggota B ke-1: <u>1</u><br>\n",
    "Masukkan anggota B ke-2: <u>3</u><br>\n",
    "Masukkan anggota B ke-3: <u>5</u><br>\n",
    "B adalah subset A</p>\n",
    "\n",
    "<h4>Contoh 2</h4>\n",
    "<p>Masukkan jumlah anggota A: <u>3</u><br>\n",
    "Masukkan jumlah anggota B: <u>3</u><br>\n",
    "Masukkan anggota A ke-1: <u>1</u><br>\n",
    "Masukkan anggota A ke-2: <u>2</u><br>\n",
    "Masukkan anggota A ke-3: <u>3</u><br>\n",
    "Masukkan anggota B ke-1: <u>1</u><br>\n",
    "Masukkan anggota B ke-2: <u>2</u><br>\n",
    "Masukkan anggota B ke-3: <u>3</u><br>\n",
    "A sama dengan B</p>\n",
    "\n",
    "<h4>Contoh 2</h4>\n",
    "<p>Masukkan jumlah anggota A: <u>2</u><br>\n",
    "Masukkan jumlah anggota B: <u>4</u><br>\n",
    "Masukkan anggota A ke-1: <u>1</u><br>\n",
    "Masukkan anggota A ke-2: <u>5</u><br>\n",
    "Masukkan anggota B ke-1: <u>1</u><br>\n",
    "Masukkan anggota B ke-2: <u>2</u><br>\n",
    "Masukkan anggota B ke-3: <u>3</u><br>\n",
    "Masukkan anggota B ke-4: <u>4</u><br>\n",
    "Tidak ada Relasi</p>"
   ]
  },
  {
   "cell_type": "code",
   "execution_count": null,
   "metadata": {},
   "outputs": [],
   "source": [
    "# Problem 5.11 - Sulit"
   ]
  }
 ],
 "metadata": {
  "interpreter": {
   "hash": "2ef3d3566f7313e896a8dedb09cde89cd23c9d3d8ab674a1ff2f7f75a21b5550"
  },
  "kernelspec": {
   "display_name": "Python 3.9.7 64-bit",
   "language": "python",
   "name": "python3"
  },
  "language_info": {
   "codemirror_mode": {
    "name": "ipython",
    "version": 3
   },
   "file_extension": ".py",
   "mimetype": "text/x-python",
   "name": "python",
   "nbconvert_exporter": "python",
   "pygments_lexer": "ipython3",
   "version": "3.9.7"
  },
  "orig_nbformat": 4
 },
 "nbformat": 4,
 "nbformat_minor": 2
}

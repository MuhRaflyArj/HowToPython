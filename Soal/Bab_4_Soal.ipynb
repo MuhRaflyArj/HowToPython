{
 "cells": [
  {
   "cell_type": "markdown",
   "metadata": {},
   "source": [
    "<h3>Problem 4.1 - Mudah</h3>\n",
    "<p> Tuan Wang memiliki sebuah bilangan <i>N</i>. Berapa saja faktor-faktor dari bilangan  <i>N</i>? Tuliskan terurut dari yang terbesar.\n",
    "\n",
    "<h4>Contoh</h4>\n",
    "<p>Masukkan N: <u>60</u><br>\n",
    "Faktor-faktornya:<br>\n",
    "60<br>30<br>20<br>15<br>12<br>10<br>6<br>4<br>3<br>2<br>1"
   ]
  },
  {
   "cell_type": "code",
   "execution_count": null,
   "metadata": {},
   "outputs": [],
   "source": [
    "# Problem 4.1 - Mudah"
   ]
  },
  {
   "cell_type": "markdown",
   "metadata": {},
   "source": [
    "<h3>Problem 4.2 - Mudah</h3>\n",
    "<p>Tuan Wang mendapatkan info menarik saat mendengarkan kelas kalkulus. Katanya semua bilangan kelipatan 9 jika semua digitnya dijumlahkan akan menghasilkan kelipatan 9 juga. karena ia tidak percaya, ia butuh program yang dapat menerima sebuah bilangan dan menuliskan jumlah semua digitnya.</p>\n",
    "\n",
    "<h4>Contoh</h4>\n",
    "<p>Masukkan bilangan: <u>576</u><br>\n",
    "Jumlah semua digitnya adalah 18.</p>\n",
    "\n",
    "<p>Penjelasan: 5 + 7 + 6</p>"
   ]
  },
  {
   "cell_type": "code",
   "execution_count": null,
   "metadata": {},
   "outputs": [],
   "source": [
    "# Problem 4.2 - Mudah"
   ]
  },
  {
   "cell_type": "markdown",
   "metadata": {},
   "source": [
    "<h3>Problem 4.3 - Sedang</h3>\n",
    "<p>Tuan Wang ingin menghitung nilai dari akar sebauh bilangan. Ia membutuhkan nilai tersebut hingga 3 bilangan di belakang koma.</p>\n",
    "<p>Tentukan nilai dari &radic;<span style=\"text-decoration:overline;\"><i>N</i>&nbsp;&nbsp;</span> tanpa menggunakan fugnsi <i>sqrt</i> atau fungsi matematika lainnya</p>\n",
    "\n",
    "<h4>Contoh</h4>\n",
    "<p>Masukkan N: <u>10</u><br>\n",
    "Nilai akar N adalah : 3.162</p>"
   ]
  },
  {
   "cell_type": "code",
   "execution_count": null,
   "metadata": {},
   "outputs": [],
   "source": [
    "# Problem 4.3 - Sedang"
   ]
  },
  {
   "cell_type": "markdown",
   "metadata": {},
   "source": [
    "<h3>Problem 4.4 - Sedang</h3>\n",
    "<p>Tuan Wang ingin menulis daftar bilangan prima. Ia memiliki bilangan A dan B. Tulis semua bilangan prima dari A hingga B secara inklusif. Inklusif disini berarti bahawa dilakukan pengecekan juga untuk A dan B.</p>\n",
    "\n",
    "<h4>Contoh</h4>\n",
    "<p>Masukkan A: <u>10</u><br>\n",
    "Masukkan B: <u>30</u><br>\n",
    "Bilangan prima dari A hingga B:<br>\n",
    "11<br>13<br>17<br>19<br>23<br>29"
   ]
  },
  {
   "cell_type": "code",
   "execution_count": null,
   "metadata": {},
   "outputs": [],
   "source": [
    "# Problem 4.4 - Sedang"
   ]
  },
  {
   "cell_type": "markdown",
   "metadata": {},
   "source": [
    "<h3>Problem 4.5 - Sulit</h3>\n",
    "<p>Tuan Wang ingin menghitung rumus berikut:</p>\n",
    "<p align=\"center\">f(<i>a,b</i>) = <i>a</i> + (<i>a</i>+1) + (<i>a</i>+2) + ... + <i>b</i></p>\n",
    "<p>Kini ia bertanya, berapa sajakah pasangan nilai (<i>a,b</i>) yang memungkinkan untuk semua kemungkinan nilai pada <i>L ≤ a < b ≤ R</i> sehingga f(<i>a,b</i>) ≥ <i>X</i>?</p>\n",
    "\n",
    "<h4>Contoh</h4>\n",
    "<p>Masukkan L: <u>10</u><br>\n",
    "Masukkan R: <u>15</u><br>\n",
    "Masukkan X: <u>40</u><br>\n",
    "Pasangan a, b yang mungkin:<br>\n",
    "10 13<br>10 14<br>10 15<br>11 14<br>11 15<br>12 15<br>13 15<br>"
   ]
  },
  {
   "cell_type": "code",
   "execution_count": null,
   "metadata": {},
   "outputs": [],
   "source": [
    "# Problem 4.5 - Sulit\n",
    "        "
   ]
  },
  {
   "cell_type": "markdown",
   "metadata": {},
   "source": [
    "<h3>Pertanyaan 4.6 - Sedang</h3>\n",
    "<p>Tuan Wang diminta oleh temannya untuk mendesain tegel berukuran <i>N x N</i>. Temannya sewaktu-waktu dapat mengubah motif/desain dari tegel tersebut. Buatkan Tuan Wang sebuah program membuat tegel sesuai keinginan temannya!</p>\n",
    "\n",
    "<h4>Contoh</h4>\n",
    "<p>Masukkan ukuran tegel: <u>6</u><br>\n",
    "Masukkan motif diagonal: <u>+</u><br>\n",
    "Masukkan motif isi: <u>=</u><br>\n",
    "+====+<br>\n",
    "=+==+=<br>\n",
    "==++==<br>\n",
    "==++==<br>\n",
    "=+==+=<br>\n",
    "+====+</p>"
   ]
  },
  {
   "cell_type": "code",
   "execution_count": null,
   "metadata": {},
   "outputs": [],
   "source": [
    "# Problem 4.6 - Sedang"
   ]
  },
  {
   "cell_type": "markdown",
   "metadata": {},
   "source": [
    "<h3>Problem 4.7 - Sedang</h3>\n",
    "<p>Diberikan 3 bilangan bulat positif <i>a, b</i> dan <i>c</i>. Tentukan nilai dari <i>a<sup>b<sup>c</sup></sup></i> tanpa menggunakan fungsi <i>pow</i> atau operator lainnya!</p>\n",
    "\n",
    "<h4>Contoh</h4>\n",
    "<p>Masukkan nilai a: <u>3</u><br>\n",
    "Masukkan nilai b: <u>3</u><br>\n",
    "Masukkan nilai c: <u>2</u><br>\n",
    "Hasil: 19683</p>"
   ]
  },
  {
   "cell_type": "code",
   "execution_count": null,
   "metadata": {},
   "outputs": [],
   "source": [
    "# Problem 4.7 - Mudah"
   ]
  },
  {
   "cell_type": "markdown",
   "metadata": {},
   "source": [
    "<h3>Problem 4.8 - Mudah</h3>\n",
    "<p>Tuan Wang sedang menghadapi coding interview di perusahaan X. Pewawancara memberi dia sebuah bilangan riil <i>N</i>. Tuan Wang diminta untuk membuat program yang menuliskan deret fibonacci sampai bilangan ke-<i>N</i>. Untungnya Tuan Wang mahir dalam teknik telepati untuk meminta bantuan anda. Bantu Tuan Wang untuk menyelesaikan soal tersebut!</p>\n",
    "\n",
    "<h4>Contoh</h4>\n",
    "<p>Masukkan N: <u>10</u><br>\n",
    "Deret Fibonacci adalah:<br>\n",
    "0, 1, 1, 2, 3, 5, 8, 13, 21, 34</p>"
   ]
  },
  {
   "cell_type": "code",
   "execution_count": null,
   "metadata": {},
   "outputs": [],
   "source": [
    "# Problem 4.8 - Mudah"
   ]
  },
  {
   "cell_type": "markdown",
   "metadata": {},
   "source": [
    "<h3>Problem 4.9 - Mudah</h3>\n",
    "<p>Tuan Wang sedang mengoreksi nilai murid-muridnya. Pada setiap saat dia ingin mengetahui berapakan nilai maksimum yang didapat oleh murid-muridnya sejauh ini. Bantulah Tuan Wang untuk mengetahui nilai maksimum murid-muridnya setiap kali selesai mengoreksi nilai murid yang baru!</p>\n",
    "\n",
    "<h4>Contoh</h4>\n",
    "<p>Masukkan banyak nilai murid: <u>4</u><br>\n",
    "Masukkan nilai murid-1: <u>60</u><br>\n",
    "Nilai maksimum saat ini adalah: 60<br>\n",
    "Masukkan nilai murid-2: <u>65</u><br>\n",
    "Nilai maksimum saat ini adalah: 65<br>\n",
    "Masukkan nilai murid-3: <u>47</u><br>\n",
    "Nilai maksimum saat ini adalah: 65<br>\n",
    "Masukkan nilai murid-4: <u>99</u><br>\n",
    "Nilai maksimum saat ini adalah: 99<br>"
   ]
  },
  {
   "cell_type": "code",
   "execution_count": null,
   "metadata": {},
   "outputs": [],
   "source": [
    "# Problem 4.9 - Mudah"
   ]
  },
  {
   "cell_type": "markdown",
   "metadata": {},
   "source": [
    "<h3>Problem 4.10 - Sedang</h3>\n",
    "<p>Buatlah sebuah program yang dapat membuat program diamond berukuran (2<i>N</i>-1) x (2<i>N</i>-1)!</p>\n",
    "\n",
    "<h4>Contoh</h4>\n",
    "<p>Masukkan N: <u>3</u><br>\n",
    "Pola Diamond:<br>\n",
    "&nbsp;&nbsp;*<br>\n",
    "&nbsp;***<br>\n",
    "*****<br>\n",
    "&nbsp;***<br> \n",
    "&nbsp;&nbsp;*<br>\n"
   ]
  },
  {
   "cell_type": "code",
   "execution_count": null,
   "metadata": {},
   "outputs": [],
   "source": [
    "# Problem 4.10 - Sedang"
   ]
  },
  {
   "cell_type": "markdown",
   "metadata": {},
   "source": [
    "<h3>Problem 4.11 - Sulit</h3>\n",
    "<p>Buatlah sebuah program yang dapat mencari bilangan prima ke-<i>N</i></p>\n",
    "\n",
    "<h4>Contoh</h4>\n",
    "<p>Masukkan N: <u>5</u><br>\n",
    "Bilangan prima ke-5: 11</p>\n"
   ]
  },
  {
   "cell_type": "code",
   "execution_count": null,
   "metadata": {},
   "outputs": [],
   "source": [
    "# Problem 4.11 - Sulit"
   ]
  },
  {
   "cell_type": "markdown",
   "metadata": {},
   "source": [
    "<h3>Problem 4.12 - Mudah</h3>\n",
    "<p>Buatlah sebuah programyang dapat mencari <i>FPB</i> (faktor persekutuan terbesar) dari 2 buah bilangan bulat <i>a</i> dan <i>b</i></p>\n",
    "\n",
    "<h4>Contoh</h4>\n",
    "<p>Masukkan nilai a: <u>12</u><br>\n",
    "Masukkan nilai b: <u>15</u><br>\n",
    "FPB dari a dan b adalah : 3"
   ]
  },
  {
   "cell_type": "code",
   "execution_count": null,
   "metadata": {},
   "outputs": [],
   "source": [
    "# Problem 4.12- Mudah"
   ]
  },
  {
   "cell_type": "markdown",
   "metadata": {},
   "source": [
    "<h3>Problem 4.13 - Mudah</h3>\n",
    "<p>Tuan Wang memiliki teman yang memberikan tantangan, nama tantangan tersebut adalah <i>EngiPitonMamat.</i> Diberikan sebuah angka <i>N</i>, proses angka dari 1 sampai <i>N</i> dengan kondisi berikut:<br></p>\n",
    "<p>Misal <i>i</i> adalah angka yang sedang di proses:</p>\n",
    "<ul>\n",
    "    <li>Jika <i>i</i> adalah kelipatan 3, 5, dan 7, maka cetak <i>EngiPitonMamat</i></li>\n",
    "    <li>Selain itu, jika <i>i</i> adalah kelipatan 3 dan 5, maka cetak <i>EngiPiton</i></li>\n",
    "    <li>Selain itu, jika <i>i</i> adalah kelipatan 3 dan 7, maka cetak <i>EngiMamat</i></li>\n",
    "    <li>Selain itu, jika <i>i</i> adalah kelipatan 5 dan 7, maka cetak <i>PitonMamat</i></li>\n",
    "    <li>Selain itu, jika <i>i</i> adalah kelipatan 3, maka cetak <i>Engi</i></li>\n",
    "    <li>Selain itu, jika <i>i</i> adalah kelipatan 5, maka cetak <i>Piton</i></li>\n",
    "    <li>Selain itu, jika <i>i</i> adalah kelipatan 7, maka cetak <i>Mamat</i></li>\n",
    "</ul>\n",
    "\n",
    "<h4>Contoh</h4>\n",
    "<p>Masukkan N: <u>15</u><br>\n",
    "1<br>2<br>Engi<br>4<br>Piton<br>Engi<br>Mamat<br>8<br>Engi<br>Piton<br>11<br>Engi<br>13<br>Mamat<br>EngiPiton\n",
    "    "
   ]
  },
  {
   "cell_type": "code",
   "execution_count": null,
   "metadata": {},
   "outputs": [],
   "source": [
    "# Problem 4.13 - Mudah"
   ]
  }
 ],
 "metadata": {
  "interpreter": {
   "hash": "2ef3d3566f7313e896a8dedb09cde89cd23c9d3d8ab674a1ff2f7f75a21b5550"
  },
  "kernelspec": {
   "display_name": "Python 3.9.7 64-bit",
   "name": "python3"
  },
  "language_info": {
   "codemirror_mode": {
    "name": "ipython",
    "version": 3
   },
   "file_extension": ".py",
   "mimetype": "text/x-python",
   "name": "python",
   "nbconvert_exporter": "python",
   "pygments_lexer": "ipython3",
   "version": "3.9.7"
  },
  "orig_nbformat": 4
 },
 "nbformat": 4,
 "nbformat_minor": 2
}

{
 "cells": [
  {
   "cell_type": "markdown",
   "metadata": {},
   "source": [
    "<h3>Problem 3.1 - Mudah</h3>\n",
    "<p>Tuan Wang saat ini sedang berkunjung ke ITB. Ia melihat banyak mahasiswa TPB yang membawa ktoak-kotak danusan. Mirisnya, tidak semua danusan memberikan keuntungan. Setelah satu bulan, dengan masukan modal awal dan hasil penjualan, ia ingin tahu apakah mahasiswa TPB itu mendapat keuntungan atau tidak.</p>\n",
    "\n",
    "<h4>Contoh 1</h4>\n",
    "<p>Masukkan modal awal: <u>100000</u><br>\n",
    "Masukkan hsail penjualan: <u>150000</u><br>\n",
    "Mahasiswa TPB mendapat keuntungan 50000</p>\n",
    "\n",
    "<h4>Contoh 2</h4>\n",
    "<p>Masukkan modal awal: <u>100000</u><br>\n",
    "Masukkan hsail penjualan: <u>90000</u><br>\n",
    "Mahasiswa TPB mendapat kerugian 10000</p>\n",
    "\n",
    "<h4>Contoh 3</h4>\n",
    "<p>Masukkan modal awal: <u>100000</u><br>\n",
    "Masukkan hsail penjualan: <u>100000</u><br>\n",
    "Mahasiswa TPB tidak mendapat keuntungan maupun kerugian</p>"
   ]
  },
  {
   "cell_type": "code",
   "execution_count": null,
   "metadata": {},
   "outputs": [],
   "source": [
    "# Problem 3.1 - Mudah"
   ]
  },
  {
   "cell_type": "markdown",
   "metadata": {},
   "source": [
    "<h3>Problem 3.2 - Mudah</h3>\n",
    "<p>Tuan Wang saat ini sedang berkunjung ke ITB. Saat bertanya-tanya pada mahasiswa ITB, ia kaget akan adanya indeks AB dan BC, berbeda dengan perguruan tinggi lain. Misalnya pada mata kuliah Kalkulus, konversi dari nilai ke indeks adalah sebagai berikut:</p>\n",
    "\n",
    "<p align=\"center\">Nilai Akhir &nbsp;&nbsp; Indeks<br>\n",
    "80-100 &nbsp;&nbsp;&nbsp;&nbsp;&nbsp;&nbsp;&nbsp; A &nbsp;&nbsp;<br>\n",
    "73-79 &nbsp;&nbsp;&nbsp;&nbsp;&nbsp;&nbsp;&nbsp;&nbsp; AB<br>\n",
    "65-72 &nbsp;&nbsp;&nbsp;&nbsp;&nbsp;&nbsp;&nbsp;&nbsp; B &nbsp;<br>\n",
    "57-64 &nbsp;&nbsp;&nbsp;&nbsp;&nbsp;&nbsp;&nbsp;&nbsp; BC<br>\n",
    "50-56 &nbsp;&nbsp;&nbsp;&nbsp;&nbsp;&nbsp;&nbsp;&nbsp; C &nbsp;<br>\n",
    "35-49 &nbsp;&nbsp;&nbsp;&nbsp;&nbsp;&nbsp;&nbsp;&nbsp; D &nbsp;<br>\n",
    "0-34 &nbsp;&nbsp;&nbsp;&nbsp;&nbsp;&nbsp;&nbsp;&nbsp;&nbsp;  E &nbsp;<br>\n",
    "\n",
    "<p>Karena Tuan Wang pelupa, bantulah ia dengan membuatkan program yang mentranslasi nilai akhir menjadi indeks.</p>\n",
    "\n",
    "<h4>Contoh 1</h4>\n",
    "<p>Masukkan nilai akhir: <u>79</u><br>\n",
    "79 mendapat indeks AB.</p>\n",
    "\n",
    "<h4>Contoh 2</h4>\n",
    "<p>Masukkan nilai akhir: <u>60</u><br>\n",
    "79 mendapat indeks BC.</p>\n",
    "\n",
    "<h4>Contoh 3</h4>\n",
    "<p>Masukkan nilai akhir: <u>40</u><br>\n",
    "79 mendapat indeks D.</p>"
   ]
  },
  {
   "cell_type": "code",
   "execution_count": null,
   "metadata": {},
   "outputs": [],
   "source": [
    "# Problem 3.2 - Mudah"
   ]
  },
  {
   "cell_type": "markdown",
   "metadata": {},
   "source": [
    "<h3>Problem 3.3 - Mudah</h3>\n",
    "<p>Tuan Wang saat ini sedang berkunjung ke ITB. Ia sedang mencari kantin terdekat, namun ia sdang tersesat. Ia mendatang mahasiswa TPB terdekat dan bertanya dimana lokasi kantin terdekat. Kemudian, mahasiswa TPB itu menjawab:<br>\n",
    "\n",
    "\"Jika kita sedang berada di koordinat (X,Y), kantin A ada di (X<small>A</small>,Y<small>A</small>) dan kantin B ada di (X<small>B</small>,Y<small>B</small>).\"<br>\n",
    "\n",
    "Kini ia penasaran, kantin mana yang terdekat? Buatkan program untuk Tuan Wang yang menerima masukkan koordinat kantin A dan kantin B, dan menentukan mana kantin yang paling dekat!\n",
    "\n",
    "Catatan: Anda dapat mengasumsikan pasti ada salah satu kantin yang lebih dekat dibanding kantin lainnya.</p>\n",
    "\n",
    "<h4>Contoh</h4>\n",
    "<p>Masukkan nilai X : <u>0</u><br>\n",
    "Masukkan nilai Y : <u>0</u><br>\n",
    "Masukkan nilai XA : <u>3</u><br>\n",
    "Masukkan nilai YA : <u>5</u><br>\n",
    "Masukkan nilai XB : <u>4</u><br>\n",
    "Masukkan nilai YB : <u>4</u><br>\n",
    "Kantin B lebih dekat.</p>\n",
    "\n",
    "<p>Keterangan: Jarak terdekat didapat dari rumus pythagoras.</p>"
   ]
  },
  {
   "cell_type": "code",
   "execution_count": null,
   "metadata": {},
   "outputs": [],
   "source": [
    "# Problem 3.3 - Mudah"
   ]
  },
  {
   "cell_type": "markdown",
   "metadata": {},
   "source": [
    "<h3>Problem 3.4 - Mudah</h3>\n",
    "<p>Saat berjalan-jalan di ITB, Tuan Wang melihat mahasiswa TPB yang kebingungan. Tenyata, ia akan mengikuti kuis fisika, tapi lupa membawa kalkulator. Ia takut tidak bisa mencari akar-akar dari persamaan kuadrat.<br>\n",
    "\n",
    "Akar-akar persamaan kuadrat dapat dicari dengan menghitung:</p>\n",
    "\n",
    "<p align=\"center\"><i>-b ±&radic;<span style=\"text-decoration:overline;\">&nbsp;b<sup>2</sup> - 4ac&nbsp;</span><br>\n",
    "<span style=\"text-decoration:overline;\">&nbsp;&nbsp;&nbsp;&nbsp;&nbsp;&nbsp;&nbsp;&nbsp;&nbsp; 2a &nbsp;&nbsp;&nbsp;&nbsp;&nbsp;&nbsp;&nbsp;&nbsp;&nbsp;</span></i></p>\n",
    "\n",
    "<p>Tuan Wang ingin membuatkan program untuk membantu mahasiswa itu, tapi ia tidak bisa <i>ngoding</i>. Ia ingin programnya dapat menuliskan jumlah <i>x</i> yang valid beserta nilai-nilainya berupa bilangan desimal. Bantulah Tuan Wang menyelamatkan nilai kuis mahasiswa TPB!</p>\n",
    "\n",
    "<h4>Contoh 1</h4>\n",
    "<p>Masukkan nilai a: <u>1</u><br>\n",
    "Masukkan nilai b: <u>-2.5</u><br>\n",
    "Masukkan nilai c: <u>1</u><br>\n",
    "Akar-akar dari persamaan kuadrat ada 2, yakni 0.5 dan 2.</p>\n",
    "\n",
    "<h4>Contoh 2</h4>\n",
    "<p>Masukkan nilai a: <u>1</u><br>\n",
    "Masukkan nilai b: <u>-6</u><br>\n",
    "Masukkan nilai c: <u>9</u><br>\n",
    "Akar-akar dari persamaan kuadrat ada 1, yakni 3.</p>\n",
    "\n",
    "<h4>Contoh 3</h4>\n",
    "<p>Masukkan nilai a: <u>1</u><br>\n",
    "Masukkan nilai b: <u>-6</u><br>\n",
    "Masukkan nilai c: <u>20</u><br>\n",
    "Akar-akar dari persamaan kuadrat tidak ada.</p>"
   ]
  },
  {
   "cell_type": "code",
   "execution_count": null,
   "metadata": {},
   "outputs": [],
   "source": [
    "# Problem 3.4 - Mudah"
   ]
  },
  {
   "cell_type": "markdown",
   "metadata": {},
   "source": [
    "<h3>Problem 3.5 - Mudah</h3>\n",
    "<p>Saat berjalan-jalan di daerah Cisitu, Tuan Wang melihat mahasiswa TPB sedang membeli beras. Ada tiga merk beras yang ditawarkan. Beras merk <i>A</i> memiliki harga <i>P<small>A</small></i> per <i>U<small>A</small></i> kilogram. Beras merk <i>B</i> memiliki harga <i>P<small>B</small></i> per <i>U<small>B</small></i> kilogram. Beras merk <i>C</i> memiliki harga <i>P<small>C</small></i> per <i>U<small>C</small></i> kilogram.<br>\n",
    "\n",
    "Menurut Tuan Wang, sistem harga ini terlalu membuat bingung mahasiswa TPB. Ia takut mahasiswaw TPB membeli beras yang mahal, sehingga ia ingin memberi tahu beras termurah per kilogramnya.<br>\n",
    "\n",
    "Buatkan program untuk Tuan Wang, supaya dapat menentukan beras merk mana yang termurah!<br>\n",
    "\n",
    "Catatan: jika ada lebih dari satu beras yang termurah, keluarkan mana saja. Perhatikan juga hasil pembagian harga beras dengan satuannya tidak selalu bulat.</p>\n",
    "\n",
    "<h4>Contoh</h4>\n",
    "<p>Masukkan beras merk A!<br>\n",
    "Harga : <u>30000</u><br>\n",
    "Satuan : <u>2</u><br>\n",
    "\n",
    "Masukkan beras merk B!<br>\n",
    "Harga : <u>31000</u><br>\n",
    "Satuan : <u>3</u><br>\n",
    "\n",
    "Masukkan beras merk C!<br>\n",
    "Harga : <u>25000</u><br>\n",
    "Satuan : <u>2</u><br></p>\n",
    "\n",
    "<p>Penjelasan: jika Tuan Wang membeli 6kg beras, ia harus membayar 90.000 untuk beras A, 62.000 untuk beras B, dan 75.000 untuk beras C. Jadi beras termurah adalah beras B.</p>"
   ]
  },
  {
   "cell_type": "code",
   "execution_count": null,
   "metadata": {},
   "outputs": [],
   "source": [
    "# Problem 3.5 - Mudah"
   ]
  },
  {
   "cell_type": "markdown",
   "metadata": {},
   "source": [
    "<h3>Problem 3.6 - Sulit</h3>\n",
    "<p>Tuan Wang adalah orang yang kaya raya. Ia ingin mulai melakukan investasi demi menambah kekayaannya. Saat ini ia kebingungan dalam memilih jenis investasi apa yang cocok dengannya. Kamu sebagai seorang yang pernah berinvestasi, mempunyai cara untuk menentukan profil risiko investasi seseorang. Tabel profil risikonya adalah sebagai berikut:</p>\n",
    "\n",
    "|Pertanyaan                      |this    |that      |\n",
    "|--------------------------------|--------|----------|\n",
    "|Status?                         |Menikah |Lajang    |\n",
    "|Mengerti investasi?             |Tidak   |Iya       |\n",
    "|Investasi buat apa?             |Menikah |Masa depan|\n",
    "|Jangka waktu investasi?         |<5 tahun|>5 tahun  |\n",
    "|Nilai investasi -15%, bagaimana?|Jual    |Tambah    |\n",
    "\n",
    "<p> Dan berikut jenis investasi yang cocok sesuai dengan jumlah jawaban <i>that</i> dari tabel profil risiko:</p>\n",
    "<ul>\n",
    "    <li>RD Pasar Uang, Emas, USD = 0 sampai 5 <i>that</i></li>\n",
    "    <li>Deposito = 0 sampai 2 <i>that</i></li>\n",
    "    <li>RD Pendapatan Tetap, Obligasi = 0 sampai 3 <i>that</i></li>\n",
    "    <li>Properti Tanah = 2 sampai 4 <i>that</i></li>\n",
    "    <li>RD Saham, RD Campuran, P2P Lending = 2 sampai 5 <i>that</i></li>\n",
    "    <li>Saham = 3 sampai 5 <i>that</i></li>\n",
    "</ul>\n",
    "<p>Misalkan hasil jawaban pertanyaan profil risiko seseorang didapatkan 4 <i>that</i>, maka jenis investasi yang cocok bagi orang tersebut adalah:</p>\n",
    "<ul>\n",
    "    <li>RD Pasasr Uang, Emas, USD</li>\n",
    "    <li>Properti Tanah</li>\n",
    "    <li>RD Saham, RD Campuran, P2P Lending</li>\n",
    "    <li>Saham</li>\n",
    "</ul>\n",
    "\n",
    "<p>Bantulah Tuan Wang dengan membuatkan program yang dapat merekomendasikan jenis investasi yang cocok sesuai dengan profil risikonya.</p>\n",
    "<p>Catatan : RD merupakan singkatan dari Reksadana</p>\n",
    "\n",
    "<h4>Contoh 1</h4>\n",
    "<p>Status: <u>Lajang</u><br>\n",
    "Mengerti investasi: <u>Tidak</u><br>\n",
    "Investasi buat apa: <u>Menikah</u><br>\n",
    "Jangka waktu investasi: <u>kurang dari 5 tahun</u><br>\n",
    "Nilai investasi -15%, bagaimana: <u>Jual</u><br>\n",
    "Jenis investasi yang cocok adalah<br>\n",
    "RD Pasar Uang, Emas, USD<br>\n",
    "Deposito<br>\n",
    "RD Pendapatan Tetap, Obligasi</p>\n",
    "\n",
    "<h4>Contoh 2</h4>\n",
    "<p>Status: <u>Lajang</u><br>\n",
    "Mengerti investasi: <u>Iya</u><br>\n",
    "Investasi buat apa: <u>Masa Depan</u><br>\n",
    "Jangka waktu investasi: <u>lebih dari 5 tahun</u><br>\n",
    "Nilai investasi -15%, bagaimana: <u>Tambah</u><br>\n",
    "Jenis investasi yang cocok adalah<br>\n",
    "RD Pasar Uang, Emas, USD<br>\n",
    "RD Saham, RD Campuran, P2P Lending<br>\n",
    "Saham</p>\n",
    "\n",
    "<h4>Contoh 3</h4>\n",
    "<p>Status: <u>Lajang</u><br>\n",
    "Mengerti investasi: <u>Tidak</u><br>\n",
    "Investasi buat apa: <u>Masa Depan</u><br>\n",
    "Jangka waktu investasi: <u>kurang dari 5 tahun</u><br>\n",
    "Nilai investasi -15%, bagaimana: <u>Jual</u><br>\n",
    "Jenis investasi yang cocok adalah<br>\n",
    "RD Pasar Uang, Emas, USD<br>\n",
    "RD Pendapatan Tetap, Obligasi<br>\n",
    "Properti Tanah<br>\n",
    "RD Saham, RD Campuran, P2P Lending</p>"
   ]
  },
  {
   "cell_type": "code",
   "execution_count": null,
   "metadata": {},
   "outputs": [],
   "source": [
    "# Problem 3.6 - Sulit"
   ]
  },
  {
   "cell_type": "markdown",
   "metadata": {},
   "source": [
    "<h3>Problem 3.7 - Sedang</h3>\n",
    "<p>Tuan Wang sedang bingung karena melihat kue kesenangannya hilang. Setelah ditelusuri, ditemukan 3 tersangka yaitu <i>A, B,</i> dan <i>C</i>. Salah satu diantara mereka merupakan pelaku yang memakan kuenya.<br>\n",
    "\n",
    "Untuk mengetahuinya, maka Tuan Wang menanyakan mereka satu per satu. Hal yang ditanyakan Tuan Wang adalah siapa yang memakan kue tersebut. Karena mungkin ada yang bohong, maka Tuan Wang memutuskan untuk menyimpulkan sebagai berikut:</a>\n",
    "\n",
    "<ul>\n",
    "    <li>Jika semua jawaban sama:</li>\n",
    "    <ul>\n",
    "        <li>Tidak ada yang berbohong</li>\n",
    "        <li>Pelaku adalah jawaban dari mereka</li>\n",
    "    </ul>\n",
    "    <li>Jika terdapat 2 jawaban yang sama:</li>\n",
    "    <ul>\n",
    "        <li>Terdapat 2 orang yang berbohong, yaitu dia yang menjawab jawaban yang berbeda</li>\n",
    "        <li>Pelaku adalah orang yang ditunjuk oleh jawaban mayoritas (2 orang yang menjawab sama)</li>\n",
    "    </ul>\n",
    "    <li>Jika semua jawaban berbeda:</li>\n",
    "    <ul>\n",
    "        <li>Tidak dapat disimpulkan siapa yang berbohong dan siapa yang berkata jujur</li>\n",
    "        <li>Pelaku tidak dapat ditentukan</li>\n",
    "    </ul>\n",
    "</ul>\n",
    "<p>Buatkanlah program untuk Tuan Wang agar dia dapat mengetahui pelaku yang memakan kuenya</p>\n",
    "\n",
    "<h4>Contoh 1</h4>\n",
    "<p>Masukkan pelaku yang ditunjuk A: <u>A</u><br>\n",
    "Masukkan pelaku yang ditunjuk oleh B: <u>A</u><br>\n",
    "Masukkan pelaku yang ditunjuk oleh C: <u>A</u><br>\n",
    "Tidak ada yang berbohong<br>\n",
    "Pelaku yang memakan kue Tuan Wang adalah A</p>\n",
    "\n",
    "<h4>Contoh 2</h4>\n",
    "<p>Masukkan pelaku yang ditunjuk A: <u>C</u><br>\n",
    "Masukkan pelaku yang ditunjuk oleh B: <u>C</u><br>\n",
    "Masukkan pelaku yang ditunjuk oleh C: <u>A</u><br>\n",
    "C berbohong<br>\n",
    "Pelaku yang memakan kue Tuan Wang adalah C</p>\n",
    "\n",
    "<h4>Contoh 3</h4>\n",
    "<p>Masukkan pelaku yang ditunjuk A: <u>A</u><br>\n",
    "Masukkan pelaku yang ditunjuk oleh B: <u>B</u><br>\n",
    "Masukkan pelaku yang ditunjuk oleh C: <u>C</u><br>\n",
    "Tidak dapat disimpulkan siapa yang berbohong dan siapa yang jujur<br>\n",
    "Pelaku tidak dapat ditentukan</p>"
   ]
  },
  {
   "cell_type": "code",
   "execution_count": null,
   "metadata": {},
   "outputs": [],
   "source": [
    "# Problem 3.7 - Sedang"
   ]
  },
  {
   "cell_type": "markdown",
   "metadata": {},
   "source": [
    "<h3>Problem 3.8 - Sedang</h3>\n",
    "<p>Tuan Mor memberikan Anda suatu bilangan acak dari 1-999, Anda diminta untuk mengecek apakah bilangan tersebut merupakan bilangan satuan/puluhan/ratusan serta mengecek apakah bilangan tersebut habis dibagi 2,3,5 dan 7.</p>\n",
    "\n",
    "<h4>Contoh 1</h4>\n",
    "<p>Masukkan bilangan: <u>999</u><br>\n",
    "999 merupakan ratusan yang habis dibagi tiga</p>\n",
    "\n",
    "<h4>Contoh 2</h4>\n",
    "<p>Masukkan bilangan: <u>210</u><br>\n",
    "210 merupakan ratusan yang habis dibagi dua, tiga, lima dan tujuh</p>\n",
    "\n",
    "<h4>Contoh 3</h4>\n",
    "<p>Masukkan bilangan: <u>5</u><br>\n",
    "5 merupakan ratusan yang habis dibagi lima</p>"
   ]
  },
  {
   "cell_type": "code",
   "execution_count": null,
   "metadata": {},
   "outputs": [],
   "source": [
    "# Problem 3.8 - Sedang"
   ]
  }
 ],
 "metadata": {
  "interpreter": {
   "hash": "7a6f81f0630d402b6bcfef1550e42088390b39ce5db88dffe431c198eafd6c32"
  },
  "kernelspec": {
   "display_name": "Python 3.8.5 64-bit",
   "name": "python3"
  },
  "language_info": {
   "codemirror_mode": {
    "name": "ipython",
    "version": 3
   },
   "file_extension": ".py",
   "mimetype": "text/x-python",
   "name": "python",
   "nbconvert_exporter": "python",
   "pygments_lexer": "ipython3",
   "version": "3.8.5"
  },
  "orig_nbformat": 4
 },
 "nbformat": 4,
 "nbformat_minor": 2
}

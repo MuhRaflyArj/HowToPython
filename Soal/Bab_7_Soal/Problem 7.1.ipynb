{
 "cells": [
  {
   "cell_type": "code",
   "execution_count": null,
   "metadata": {},
   "outputs": [],
   "source": [
    "import pandas as pd\n",
    "import matplotlib.pyplot as plt"
   ]
  },
  {
   "cell_type": "code",
   "execution_count": null,
   "metadata": {},
   "outputs": [],
   "source": [
    "# Problem 7.1\n",
    "df = pd.read_csv(\"csv/problem-7-1.csv\")"
   ]
  },
  {
   "cell_type": "markdown",
   "metadata": {},
   "source": [
    "<h3>Problem 7.1</h3>\n",
    "<p>Anda diberi data nilai mahasiswa, Tuliskan:</p>\n",
    "\n",
    "<ol>\n",
    "    <li>Banyaknya data.</li>\n",
    "    <li>Nilai matematika, fisika, dan kimia dari mahasiswa bernama Tuan Wang.</li>\n",
    "    <li>Banyaknya mahasiswa dengan nilai kimia di atas 60.</li>\n",
    "    <li>Banyaknya mahasiswa yang mendapat nilai lebih dari 90 di matkul apapun.</li>\n",
    "    <li>Banyaknya mahasiswa yang mendapat nilai terendah di matematika</li>\n",
    "    <li>Data 10 besar peserta peraih nilai tertinggi di kimia. Jika ada yang nilainya sama, ambil mahasiswa dengan nama lebih kecil.</li>\n",
    "    <li>Tabel frekuensi masing-masing fakultas.</li>\n",
    "    <li>Rata-rata dari nilai fisika semua mahasiswa.</li>\n",
    "    <li>Standar deviasi dari nilai kimia semua mahasiswa.</li>\n",
    "    <li>Rata-rata dari nilai matematika FMIPA</li>\n",
    "    <li>Dengan nilai manakah (matematika / kimia) nilai fisika berkorelasi ? berapa koefisien korelasinya</li>\n",
    "</ol>"
   ]
  },
  {
   "cell_type": "code",
   "execution_count": null,
   "metadata": {},
   "outputs": [],
   "source": [
    "# 1. Banyaknya data"
   ]
  },
  {
   "cell_type": "code",
   "execution_count": null,
   "metadata": {},
   "outputs": [],
   "source": [
    "# 2. Nilai Mat, Fis, dan Kim mahasiswa bernama Tuan Wang"
   ]
  },
  {
   "cell_type": "code",
   "execution_count": null,
   "metadata": {},
   "outputs": [],
   "source": [
    "# 3. Banyaknya mahasiswa dengan nilai kimia lebih dari 60"
   ]
  },
  {
   "cell_type": "code",
   "execution_count": null,
   "metadata": {},
   "outputs": [],
   "source": [
    "# 4. Banyaknya mahasiswa yang mendapat nilai lebih dari 90 dari matkul apapun"
   ]
  },
  {
   "cell_type": "code",
   "execution_count": null,
   "metadata": {},
   "outputs": [],
   "source": [
    "# 5. Banyaknya mahasiswa yang mendapat nilai terrendah di matemetika"
   ]
  },
  {
   "cell_type": "code",
   "execution_count": null,
   "metadata": {},
   "outputs": [],
   "source": [
    "# 6. Data 10 besar nilai kimia"
   ]
  },
  {
   "cell_type": "code",
   "execution_count": null,
   "metadata": {},
   "outputs": [],
   "source": [
    "# 7. Tabel frekuensi masing-masing fakultas"
   ]
  },
  {
   "cell_type": "code",
   "execution_count": null,
   "metadata": {},
   "outputs": [],
   "source": [
    "# 8. Rata-rata dari nilai fisika semua mahasiswa"
   ]
  },
  {
   "cell_type": "code",
   "execution_count": null,
   "metadata": {},
   "outputs": [],
   "source": [
    "# 9. Standar deviasi dari nilai kimia semua mahasiswa"
   ]
  },
  {
   "cell_type": "code",
   "execution_count": null,
   "metadata": {},
   "outputs": [],
   "source": [
    "# 10. Rata-rata nilai matematika FMIPA"
   ]
  },
  {
   "cell_type": "code",
   "execution_count": null,
   "metadata": {},
   "outputs": [],
   "source": [
    "# 11. Dengan nilai manakah (matematika / kimia) nilai fisika berkorelasi? Berapa koefisien korelasinya ?"
   ]
  }
 ],
 "metadata": {
  "interpreter": {
   "hash": "2ef3d3566f7313e896a8dedb09cde89cd23c9d3d8ab674a1ff2f7f75a21b5550"
  },
  "kernelspec": {
   "display_name": "Python 3.9.7 64-bit",
   "language": "python",
   "name": "python3"
  },
  "language_info": {
   "codemirror_mode": {
    "name": "ipython",
    "version": 3
   },
   "file_extension": ".py",
   "mimetype": "text/x-python",
   "name": "python",
   "nbconvert_exporter": "python",
   "pygments_lexer": "ipython3",
   "version": "3.9.7"
  },
  "orig_nbformat": 4
 },
 "nbformat": 4,
 "nbformat_minor": 2
}

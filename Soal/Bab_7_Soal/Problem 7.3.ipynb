{
 "cells": [
  {
   "cell_type": "code",
   "execution_count": null,
   "metadata": {},
   "outputs": [],
   "source": [
    "import pandas as pd\n",
    "import matplotlib.pyplot as plt"
   ]
  },
  {
   "cell_type": "code",
   "execution_count": null,
   "metadata": {},
   "outputs": [],
   "source": [
    "df = pd.read_csv(\"csv/problem-7-3.csv\")"
   ]
  },
  {
   "cell_type": "markdown",
   "metadata": {},
   "source": [
    "<h3>Problem 7.3</h3>\n",
    "<p>Anda diberi data penerbangan, Tentukan:</p>\n",
    "\n",
    "<ol>\n",
    "    <li>Banyaknya data</li>\n",
    "    <li>Data penerbangan yang memiliki harga 1.999.999</li>\n",
    "    <li>Banyaknya penerbangan dengan harga di atas 3.500.000</li>\n",
    "    <li>Banyaknya transaksi dari bulan Oktober 2014 sampai April 2015</li>\n",
    "    <li>Data penerbangan maskapai macan dengan harga minimum</li>\n",
    "    <li>Data 10 penerbangan rajawali dengan penumpang terbanyak. Jika ada penerbangan yang sama banyak, urutkan berdasarkan harga dari yang termurah</li>\n",
    "    <li>Tabel frekuensi penerbangan country link masing-masing tahun</li>\n",
    "    <li>Rata-rata harga jumlah seluruh penerbangan</li>\n",
    "    <li>Standar deviasi jumlah penumpang maskapai mataram</li>\n",
    "    <li>Rata-rata daru harga maskapai country link</li>\n",
    "    <li>Koefisien korelasi jumlah penumpang dan harga</li>\n",
    "</ol>"
   ]
  },
  {
   "cell_type": "code",
   "execution_count": null,
   "metadata": {},
   "outputs": [],
   "source": [
    "# 1. Banyaknya data"
   ]
  },
  {
   "cell_type": "code",
   "execution_count": null,
   "metadata": {},
   "outputs": [],
   "source": [
    "# 2. Data penerbangan yang memiliki harga 1.999.999"
   ]
  },
  {
   "cell_type": "code",
   "execution_count": null,
   "metadata": {},
   "outputs": [],
   "source": [
    "# 3. Banyaknya penerbangan dengan harga di atas 3.500.000"
   ]
  },
  {
   "cell_type": "code",
   "execution_count": null,
   "metadata": {},
   "outputs": [],
   "source": [
    "# 4. Banyaknya penerbangan di tahun 2014 dengan asal manapun tujuan kota bukan PDG"
   ]
  },
  {
   "cell_type": "code",
   "execution_count": null,
   "metadata": {},
   "outputs": [],
   "source": [
    "# 5. Data penerbangan maskapai macan dengan harga minimum"
   ]
  },
  {
   "cell_type": "code",
   "execution_count": null,
   "metadata": {},
   "outputs": [],
   "source": [
    "# 6. Data 10 penerbangan rajawali dengan penumpang terbanyak, urutkan dengan harga termurah"
   ]
  },
  {
   "cell_type": "code",
   "execution_count": null,
   "metadata": {},
   "outputs": [],
   "source": [
    "# 7. Tabel frekuensi penerbangan country link masing-masing tahun"
   ]
  },
  {
   "cell_type": "code",
   "execution_count": null,
   "metadata": {},
   "outputs": [],
   "source": [
    "# 8. Rata-rata harga seluruh penerbangan"
   ]
  },
  {
   "cell_type": "code",
   "execution_count": null,
   "metadata": {},
   "outputs": [],
   "source": [
    "# 9. Standar deviasi jumlah penumpang maskapai mataram"
   ]
  },
  {
   "cell_type": "code",
   "execution_count": null,
   "metadata": {},
   "outputs": [],
   "source": [
    "# 10. Rata-rata dari harga maskapai country link"
   ]
  },
  {
   "cell_type": "code",
   "execution_count": null,
   "metadata": {},
   "outputs": [],
   "source": [
    "# 11. Koefisien korelasi dari jumlah penumpang dan harga"
   ]
  }
 ],
 "metadata": {
  "interpreter": {
   "hash": "2ef3d3566f7313e896a8dedb09cde89cd23c9d3d8ab674a1ff2f7f75a21b5550"
  },
  "kernelspec": {
   "display_name": "Python 3.9.7 64-bit",
   "language": "python",
   "name": "python3"
  },
  "language_info": {
   "codemirror_mode": {
    "name": "ipython",
    "version": 3
   },
   "file_extension": ".py",
   "mimetype": "text/x-python",
   "name": "python",
   "nbconvert_exporter": "python",
   "pygments_lexer": "ipython3",
   "version": "3.9.7"
  },
  "orig_nbformat": 4
 },
 "nbformat": 4,
 "nbformat_minor": 2
}

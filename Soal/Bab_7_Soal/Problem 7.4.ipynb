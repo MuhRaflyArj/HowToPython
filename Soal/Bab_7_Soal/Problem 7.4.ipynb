{
 "cells": [
  {
   "cell_type": "code",
   "execution_count": null,
   "metadata": {},
   "outputs": [],
   "source": [
    "import pandas as pd\n",
    "import matplotlib.pyplot as plt"
   ]
  },
  {
   "cell_type": "code",
   "execution_count": null,
   "metadata": {},
   "outputs": [],
   "source": [
    "df = pd.read_csv('csv/problem-7-4.csv')"
   ]
  },
  {
   "cell_type": "markdown",
   "metadata": {},
   "source": [
    "<h3>Problem 7.4</h3>\n",
    "<p>Anda diberi data karyawan. Tentukan:</p>\n",
    "\n",
    "<ol>\n",
    "    <li>Banyaknya data</li>\n",
    "    <li>Data karyawan bernama Tuan Wang</li>\n",
    "    <li>Banyaknya karyawan dengan usia krang dari atau sama dengan 30</li>\n",
    "    <li>Banyaknya karyawan personalia dengan gaji di luar rentang 4-5 juta</li>\n",
    "    <li>Data karyawan produksi dengan gaji minimum</li>\n",
    "    <li>Data 10 karyawan teknologi dengan gaji terbanyak. Jika ada gaji yang sama banyak, urutkan dari usia yang termuda</li>\n",
    "    <li>Tabel frekuensi banyaknya karyawan tiap golongan</li>\n",
    "    <li>Tabel frekuensi banyaknya karyawan tiap departemen yang masuk sebelum 2015.</li>\n",
    "    <li>Rata-rata gaji seluruh karyawan</li>\n",
    "    <li>Standar deviasi usia karyawan operasional</li>\n",
    "    <li>Dengan apakah gaji berkorelasi? Usia, tahun masuk, atau golongan? Tuliskan koefisien korelasinya</li>\n",
    "</ol>"
   ]
  },
  {
   "cell_type": "code",
   "execution_count": null,
   "metadata": {},
   "outputs": [],
   "source": [
    "# 1. Banyaknya data"
   ]
  },
  {
   "cell_type": "code",
   "execution_count": null,
   "metadata": {},
   "outputs": [],
   "source": [
    "# 2. Data karyawan bernama Tuan Wang"
   ]
  },
  {
   "cell_type": "code",
   "execution_count": null,
   "metadata": {},
   "outputs": [],
   "source": [
    "# 3. Banyaknya karyawan dengan usia kurang dari atau sama dengan 30"
   ]
  },
  {
   "cell_type": "code",
   "execution_count": null,
   "metadata": {},
   "outputs": [],
   "source": [
    "# 4. Banyaknya karyawan personalia dengan gaji di luar rentang 4-5 Juta"
   ]
  },
  {
   "cell_type": "code",
   "execution_count": null,
   "metadata": {},
   "outputs": [],
   "source": [
    "# 5. Data karyawan produksi dengan gaji maksimum"
   ]
  },
  {
   "cell_type": "code",
   "execution_count": null,
   "metadata": {},
   "outputs": [],
   "source": [
    "# 6. Data 10 karyawan teknologi dengan gaji terbanyak. Jika ada gaji yang sama banyak. urutkan dari usia yang termuda."
   ]
  },
  {
   "cell_type": "code",
   "execution_count": null,
   "metadata": {},
   "outputs": [],
   "source": [
    "# 7. Tabel frekuensi banyaknya karyawan tiap golongan"
   ]
  },
  {
   "cell_type": "code",
   "execution_count": null,
   "metadata": {},
   "outputs": [],
   "source": [
    "# 8. Tabel frekuensi banyaknya karyawan tiap departemen yang masuk sebelum tahun 2015"
   ]
  },
  {
   "cell_type": "code",
   "execution_count": null,
   "metadata": {},
   "outputs": [],
   "source": [
    "# 9. Rata-rata gaji seluruh karyawan"
   ]
  },
  {
   "cell_type": "code",
   "execution_count": null,
   "metadata": {},
   "outputs": [],
   "source": [
    "# 10. Standar deviasi usia karyawan operasional"
   ]
  },
  {
   "cell_type": "code",
   "execution_count": null,
   "metadata": {},
   "outputs": [],
   "source": [
    "# 11. Apakah gaji berkorelasi? Usia, tahun masuk, atau golongan? Tuliskan korelasinya"
   ]
  }
 ],
 "metadata": {
  "interpreter": {
   "hash": "2ef3d3566f7313e896a8dedb09cde89cd23c9d3d8ab674a1ff2f7f75a21b5550"
  },
  "kernelspec": {
   "display_name": "Python 3.9.7 64-bit",
   "language": "python",
   "name": "python3"
  },
  "language_info": {
   "codemirror_mode": {
    "name": "ipython",
    "version": 3
   },
   "file_extension": ".py",
   "mimetype": "text/x-python",
   "name": "python",
   "nbconvert_exporter": "python",
   "pygments_lexer": "ipython3",
   "version": "3.9.7"
  },
  "orig_nbformat": 4
 },
 "nbformat": 4,
 "nbformat_minor": 2
}

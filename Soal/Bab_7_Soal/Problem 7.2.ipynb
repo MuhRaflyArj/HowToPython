{
 "cells": [
  {
   "cell_type": "code",
   "execution_count": null,
   "metadata": {},
   "outputs": [],
   "source": [
    "import pandas as pd\n",
    "import matplotlib.pyplot as plt"
   ]
  },
  {
   "cell_type": "code",
   "execution_count": null,
   "metadata": {},
   "outputs": [],
   "source": [
    "df = pd.read_csv('csv/problem-7-2.csv')"
   ]
  },
  {
   "cell_type": "markdown",
   "metadata": {},
   "source": [
    "<h3>Problem 7.2</h3>\n",
    "<p>Anda diberi data transaksi sebuah toko. Tentukan:</p>\n",
    "\n",
    "<ol>\n",
    "    <li>Banyaknya data</li>\n",
    "    <li>Transaksi yang dilakukan oleh Tuan Wang</li>\n",
    "    <li>Banyaknya transaksi dengan profit diatas 150.000</li>\n",
    "    <li>Banyaknya transaksi dari bulan Oktober 2014 sampai April 2015</li>\n",
    "    <li>Data transaksi makanan dengan profit minimun</li>\n",
    "    <li>Data 10 transaksi alat makan dengan pofit terbesar di tahun 2017</li>\n",
    "    <li>Tabel frekuensi masing-masing tahun</li>\n",
    "    <li>Rata-rata profit di bulan Desember 2016</li>\n",
    "    <li>Standar deviasi dari profit transaksi pakaian</li>\n",
    "    <li>Rata-rata dari profit transaksi pakaian sebelum tahun 2016</li>\n",
    "    <li>Koefisien korelasi dan quantity dengan profit</li>\n",
    "</ol>"
   ]
  },
  {
   "cell_type": "code",
   "execution_count": null,
   "metadata": {},
   "outputs": [],
   "source": [
    "# 1.Banyaknya data"
   ]
  },
  {
   "cell_type": "code",
   "execution_count": null,
   "metadata": {},
   "outputs": [],
   "source": [
    "# 2. Transaksi yang dilakukan Tuan Wang"
   ]
  },
  {
   "cell_type": "code",
   "execution_count": null,
   "metadata": {},
   "outputs": [],
   "source": [
    "# 4. Banyaknya transaksi dari bulan Oktober 2014 sampai April 2015"
   ]
  },
  {
   "cell_type": "code",
   "execution_count": null,
   "metadata": {},
   "outputs": [],
   "source": [
    "# 5. Data transaksi makanan dengan profit minimum"
   ]
  },
  {
   "cell_type": "code",
   "execution_count": null,
   "metadata": {},
   "outputs": [],
   "source": [
    "# 6. Data transaksi alat makan dengan profit terbesar di tahun 2017"
   ]
  },
  {
   "cell_type": "code",
   "execution_count": null,
   "metadata": {},
   "outputs": [],
   "source": [
    "# 7. Tabel frekuensi masing-masing tahun"
   ]
  },
  {
   "cell_type": "code",
   "execution_count": null,
   "metadata": {},
   "outputs": [],
   "source": [
    "# 8. Rata-rata profit di bulan Desember 2016"
   ]
  },
  {
   "cell_type": "code",
   "execution_count": null,
   "metadata": {},
   "outputs": [],
   "source": [
    "# 9. Standar deviasi dari profit transaksi pakaian"
   ]
  },
  {
   "cell_type": "code",
   "execution_count": null,
   "metadata": {},
   "outputs": [],
   "source": [
    "# 10. Rata-rata dari profit transaksi pakaian sebelum tahun 2016"
   ]
  },
  {
   "cell_type": "code",
   "execution_count": null,
   "metadata": {},
   "outputs": [],
   "source": [
    "# 11. Koefisien korelasi dari quantity dengan profit"
   ]
  }
 ],
 "metadata": {
  "interpreter": {
   "hash": "2ef3d3566f7313e896a8dedb09cde89cd23c9d3d8ab674a1ff2f7f75a21b5550"
  },
  "kernelspec": {
   "display_name": "Python 3.9.7 64-bit",
   "language": "python",
   "name": "python3"
  },
  "language_info": {
   "codemirror_mode": {
    "name": "ipython",
    "version": 3
   },
   "file_extension": ".py",
   "mimetype": "text/x-python",
   "name": "python",
   "nbconvert_exporter": "python",
   "pygments_lexer": "ipython3",
   "version": "3.9.7"
  },
  "orig_nbformat": 4
 },
 "nbformat": 4,
 "nbformat_minor": 2
}

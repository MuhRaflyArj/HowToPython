{
 "cells": [
  {
   "cell_type": "code",
   "execution_count": null,
   "metadata": {},
   "outputs": [],
   "source": [
    "import pandas as pd\n",
    "import matplotlib.pyplot as plt"
   ]
  },
  {
   "cell_type": "code",
   "execution_count": null,
   "metadata": {},
   "outputs": [],
   "source": [
    "df = pd.read_csv(\"csv/problem-7-6.csv\")"
   ]
  },
  {
   "cell_type": "markdown",
   "metadata": {},
   "source": [
    "<h3>Problem 7.6</h3>\n",
    "<p>Anda diberi data aplikasi. Tentukan:</p>\n",
    "<ol>\n",
    "    <li>Banyaknya data</li>\n",
    "    <li>Aplikasi bernama Tuan Wang</li>\n",
    "    <li>Banyaknya aplikasi dengan Rating 5</li>\n",
    "    <li>Banyaknya aplikasi dengan rentang Rating 4-5 sekaligus diunduh lebih dari 10 juta</li>\n",
    "    <li>Data aplikasi dengan Reviews maksimum</li>\n",
    "    <li>Data 10 aplikasi dengan reviews terbanyak. Jika ada reviews yang sama banyak, urutkan dari Rating</li>\n",
    "    <li>Tabel frekuensi banyaknya aplikasi terbaru pada tiap tahun</li>\n",
    "    <li>Rata-rata Reviews di tahun 2016</li>\n",
    "    <li>Rata-rata Rating seluruh aplikasi Free</li>\n",
    "    <li>Standar deviasi Review aplikasi</li>\n",
    "    <li>Dengan apakah jumlah rating berkorelasi? Reviews atau Install? Tuliskan koefisien korelasinya, serta jenis korelasinya jika berkorelasi!</li>\n",
    "</ol>"
   ]
  },
  {
   "cell_type": "code",
   "execution_count": null,
   "metadata": {},
   "outputs": [],
   "source": [
    "# 1. Banyaknya data"
   ]
  },
  {
   "cell_type": "code",
   "execution_count": null,
   "metadata": {},
   "outputs": [],
   "source": [
    "# 2. Aplikasi bernama Tuan Wang"
   ]
  },
  {
   "cell_type": "code",
   "execution_count": null,
   "metadata": {},
   "outputs": [],
   "source": [
    "# 3. Banyaknya aplikasi dengan Rating 5"
   ]
  },
  {
   "cell_type": "code",
   "execution_count": null,
   "metadata": {},
   "outputs": [],
   "source": [
    "# 4. Banyaknya aplikasi dengan rentang Rating 4-5 sekaligus diundung lebih dari 10 juta"
   ]
  },
  {
   "cell_type": "code",
   "execution_count": null,
   "metadata": {},
   "outputs": [],
   "source": [
    "# 5. Data aplikasi dengan Reviews maksimum"
   ]
  },
  {
   "cell_type": "code",
   "execution_count": null,
   "metadata": {},
   "outputs": [],
   "source": [
    "# 6. Data 10 aplikasi dengan Reviews terbanyak. Jika ada Reviews yang sama banyak, urutkan dari Rating"
   ]
  },
  {
   "cell_type": "code",
   "execution_count": null,
   "metadata": {},
   "outputs": [],
   "source": [
    "# 7. Tabel frekuensi banyaknya aplikasi terbaru pada tiap tahun"
   ]
  },
  {
   "cell_type": "code",
   "execution_count": null,
   "metadata": {},
   "outputs": [],
   "source": [
    "# 8. Rata-rata reviews tahun 2016"
   ]
  },
  {
   "cell_type": "code",
   "execution_count": null,
   "metadata": {},
   "outputs": [],
   "source": [
    "# 9. Rata-rata Rating seluruh aplikasi Free"
   ]
  },
  {
   "cell_type": "code",
   "execution_count": null,
   "metadata": {},
   "outputs": [],
   "source": [
    "# 10. Standar deviasi Reviews aplikasi"
   ]
  },
  {
   "cell_type": "code",
   "execution_count": null,
   "metadata": {},
   "outputs": [],
   "source": [
    "# 11. Dengan apakah Rating berkorelasi? Reviews, atau installs? Tuliskan koefisien korelasinya"
   ]
  }
 ],
 "metadata": {
  "interpreter": {
   "hash": "2be5faf79681da6f2a61fdfdd5405d65d042280f7fba6178067603e3a2925119"
  },
  "kernelspec": {
   "display_name": "Python 3.10.0 64-bit",
   "language": "python",
   "name": "python3"
  },
  "language_info": {
   "codemirror_mode": {
    "name": "ipython",
    "version": 3
   },
   "file_extension": ".py",
   "mimetype": "text/x-python",
   "name": "python",
   "nbconvert_exporter": "python",
   "pygments_lexer": "ipython3",
   "version": "3.8.8"
  },
  "orig_nbformat": 4
 },
 "nbformat": 4,
 "nbformat_minor": 2
}

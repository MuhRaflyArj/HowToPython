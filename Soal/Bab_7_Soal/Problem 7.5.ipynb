{
 "cells": [
  {
   "cell_type": "code",
   "execution_count": null,
   "metadata": {},
   "outputs": [],
   "source": [
    "import pandas as pd\n",
    "import matplotlib.pyplot as plt"
   ]
  },
  {
   "cell_type": "code",
   "execution_count": null,
   "metadata": {},
   "outputs": [],
   "source": [
    "df = pd.read_csv('csv/problem-7-5.csv')"
   ]
  },
  {
   "cell_type": "markdown",
   "metadata": {},
   "source": [
    "<h3>Problem 7.5</h3>\n",
    "<p>Anda diberi data anime. Tentukan:</p>\n",
    "\n",
    "<ol>\n",
    "    <li>Banyaknya data</li>\n",
    "    <li>Data anime berjudul \"Fullmetal Alchemist: Brotherhood\"</li>\n",
    "    <li>Banyaknya anime dengan jumlah member lebih dari 40.000 dan kecil dari 80.000</li>\n",
    "    <li>Data anime bertipe OVA dengan jumlah member lebih dari 120.000</li>\n",
    "    <li>Data anime dengan rating terendah</li>\n",
    "    <li>Data 10 anime dengan rating tertinggi. Jika ada rating yang sama, urutkan dari member terbanyak</li>\n",
    "    <li>Tabel frekuensi banyaknya anime setiap jenis</li>\n",
    "    <li>Rata-rata jumlah episode anime bertipe TV dan bergenre Shounen</li>\n",
    "    <li>Rata-rata ratung anime bertipe Movie dengan jumlah member lebih dari 100.000</li>\n",
    "    <li>Standar deviasi jumlah member</li>\n",
    "    <li>Koefisien korelasi jumlah member dan rating</li>\n",
    "</ol>"
   ]
  },
  {
   "cell_type": "code",
   "execution_count": null,
   "metadata": {},
   "outputs": [],
   "source": [
    "# 1. Banyaknya data"
   ]
  },
  {
   "cell_type": "code",
   "execution_count": null,
   "metadata": {},
   "outputs": [],
   "source": [
    "# 2. Data anime berjudul \"Fullmetal Alchemist: Brotherhood\""
   ]
  },
  {
   "cell_type": "code",
   "execution_count": null,
   "metadata": {},
   "outputs": [],
   "source": [
    "# 3. Banyaknya anime dengan jumlah member lebih dari 40.000 dan kecil dari 80.000"
   ]
  },
  {
   "cell_type": "code",
   "execution_count": null,
   "metadata": {},
   "outputs": [],
   "source": [
    " # 4. Data anime bertipe OVE dengan jumlah member lebih dari 120.000"
   ]
  },
  {
   "cell_type": "code",
   "execution_count": null,
   "metadata": {},
   "outputs": [],
   "source": [
    "# 5. Data anime dengan rating terendah"
   ]
  },
  {
   "cell_type": "code",
   "execution_count": null,
   "metadata": {},
   "outputs": [],
   "source": [
    "# 6. Data 10 anime dengan rating tertinggi. Jika ada rating yang sama, urutkan dari member terbanyak"
   ]
  },
  {
   "cell_type": "code",
   "execution_count": null,
   "metadata": {},
   "outputs": [],
   "source": [
    "# 7. Tabel frekuensi banyaknya anime tiap jenis."
   ]
  },
  {
   "cell_type": "code",
   "execution_count": null,
   "metadata": {},
   "outputs": [],
   "source": [
    "# 8. Rata-rata jumlah anime episode bertipe TV dan bergenre Shounen"
   ]
  },
  {
   "cell_type": "code",
   "execution_count": null,
   "metadata": {},
   "outputs": [],
   "source": [
    "# 9. Rata-rata rating anime bertipe Movie dengan jumlah member lebih dari 100.000"
   ]
  },
  {
   "cell_type": "code",
   "execution_count": null,
   "metadata": {},
   "outputs": [],
   "source": [
    "# 10. Standar deviasi jumlah member"
   ]
  },
  {
   "cell_type": "code",
   "execution_count": null,
   "metadata": {},
   "outputs": [],
   "source": [
    "# 11. Koefisien korelasi jumlah member dan rating"
   ]
  }
 ],
 "metadata": {
  "interpreter": {
   "hash": "2ef3d3566f7313e896a8dedb09cde89cd23c9d3d8ab674a1ff2f7f75a21b5550"
  },
  "kernelspec": {
   "display_name": "Python 3.9.7 64-bit",
   "language": "python",
   "name": "python3"
  },
  "language_info": {
   "codemirror_mode": {
    "name": "ipython",
    "version": 3
   },
   "file_extension": ".py",
   "mimetype": "text/x-python",
   "name": "python",
   "nbconvert_exporter": "python",
   "pygments_lexer": "ipython3",
   "version": "3.9.7"
  },
  "orig_nbformat": 4
 },
 "nbformat": 4,
 "nbformat_minor": 2
}

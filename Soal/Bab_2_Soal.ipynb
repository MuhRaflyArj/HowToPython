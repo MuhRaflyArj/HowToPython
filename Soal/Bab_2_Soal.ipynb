{
 "cells": [
  {
   "cell_type": "markdown",
   "metadata": {},
   "source": [
    "<h3>Problem 2.1 - Mudah</h3>\n",
    "<p>Tuan Wang sangat senang karena tahun ini mahasiswa ITB angkatan 2020 masuk ke ITB. Karenanya, ia ingin menyambut mahasiswa ITB dengan membuat program yang menerima nama mahasiswa baru dan menuliskan ucapan selamat datang.</p>\n",
    "\n",
    "<h4>Contoh</h4>\n",
    "<p>Masukkan nama mahasiswa: <u>Akbar</u><br>\n",
    "Halo Akbar, Selamat datang di ITB!</p>\n"
   ]
  },
  {
   "cell_type": "code",
   "execution_count": null,
   "metadata": {},
   "outputs": [],
   "source": [
    "# Problem 2.1 - Mudah"
   ]
  },
  {
   "cell_type": "markdown",
   "metadata": {},
   "source": [
    "<h3>Problem 2.2 - Mudah</h3>\n",
    "<p>Tuan Wang memiliki sebuah bilangan yang terdiri dari <b>tepat 5 digit.</b> Kini ia bertanya,berapakah hasil perkalian semua digit-digitnya ?. Buatlah program untuk menjawab pertanyaan Tuan Wang</p>\n",
    "\n",
    "<h4>Contoh</h4>\n",
    "<p>Masukkan bilangan: <u>42516</u><br>\n",
    "Hasil Perkalian : 240</p>"
   ]
  },
  {
   "cell_type": "code",
   "execution_count": null,
   "metadata": {},
   "outputs": [],
   "source": [
    "# Problem 2.2 - Mudah"
   ]
  },
  {
   "cell_type": "markdown",
   "metadata": {},
   "source": [
    "<h3>Problem 2.3 - Mudah</h3>\n",
    "<p>Setelah belajar <i>ngoding</i>, Tuang Wang berpikir, apakah <i>ngoding</i> dapat membatunya dalam menghitung volume bangun 3 dimensi. Ia memiliki sebuah nilai <i>r</i>, ia ingin tahu berapa volume kubus dengan panjang rusuk <i>r</i> dan volume bola dengan radius r. Bantulah Tuan Wang dengan membuat program kalkulator sederhana!<br>\n",
    "Rumus yang dapat anda gunakan :</p>\n",
    "\n",
    "<p align='center'><b>V</b> <i>Kubus</i> = r<sup>3</sup><br>\n",
    "<b>V</b> <i>Bola</i> = 4&frasl;3</sup>πr<sup>3</sup></p>\n",
    "<p>Catatan: Jika dibutuhkan, gunakan π = 3.14</p>\n",
    "\n",
    "<h4>Contoh</h4>\n",
    "<p>Masukkan nilai r: <u>3</u><br>\n",
    "Volume kubus adalah 27<br>\n",
    "Volume bola adalah 113.04</p>"
   ]
  },
  {
   "cell_type": "code",
   "execution_count": null,
   "metadata": {},
   "outputs": [],
   "source": [
    "# Problem 2.3 - Mudah"
   ]
  },
  {
   "cell_type": "markdown",
   "metadata": {},
   "source": [
    "<h3>Problem 2.4 - Mudah</h3>\n",
    "<p>Tuan Wang kehabisan uang dan memutuskan untuk mencari pekerjaan di restoran milik temannya, yaitu Tuan Jan. Tuan Jan memberi pekerjaan Tuan Wang sebagai seorang kasir. Karena ingin meningkatkan penjualannya. tuan Jan ingin mencoba memberikan diskon untuk pelanggan di restorannya. Namun baru diketahui bahwa mesin kasir yang digunakan selama ini masih belum bisa menangani penjualan yang menggunakan diskon. Bantulah Tuan Wang dan Tuan Jan untuk menghitung harga makanan setelah diskon.</p>\n",
    "\n",
    "<h4>Contoh</h4>\n",
    "<p>Harga sebelum diskon: <u>17845</u><br>\n",
    "Besar diskon (dalam persen) : <u>11</u><br>\n",
    "Harga setelah diskon adalah 15882.05</p>\n"
   ]
  },
  {
   "cell_type": "code",
   "execution_count": null,
   "metadata": {},
   "outputs": [],
   "source": [
    "# Problem 2.4 - Mudah"
   ]
  },
  {
   "cell_type": "markdown",
   "metadata": {},
   "source": [
    "<h3>Problem 2.5 - Mudah</h3>\n",
    "<p>Tuan Wang menemukan peta harta karun di ITB. Di peta tersebut, tertulis demikian:</p>\n",
    "<p><i>Berdirilah di Plaza Widya. Berjalanlah A meter ke utara, B meter ke barat daya, C Meter ke timur, dan D meter ke tenggara</i></p>\n",
    "<p>Tuan Wang ingin mencari, tapi ia malas kalau harta karunnya terlalu jauh. Hitung berapa jauh (dalam meter) harta karun tersebut!</p>\n",
    "\n",
    "<h4>Contoh</h4>\n",
    "<p>Masukkan A: <u>5.5</u><br>\n",
    "Masukkan B: <u>8.5</u><br>\n",
    "Masukkan C: <u>9</u><br>\n",
    "Masukkan D: <u>10.5</u><br>\n",
    "Jarak harta karun: 13.09</p>\n",
    "\n",
    "<p>Misalkan Plaza Widya berada pada korrdinat (0,0), maka Tuan Wang akan berjalan ke koordinat (0,5.5), lalu ke (-6.01,-0.51), lalu ke (2.99,-0.51), dan akhirnya ke (10.41,-7.94)."
   ]
  },
  {
   "cell_type": "code",
   "execution_count": null,
   "metadata": {},
   "outputs": [],
   "source": [
    "# Problem 2.5 - Mudah"
   ]
  },
  {
   "cell_type": "markdown",
   "metadata": {},
   "source": [
    "<h3>Problem 2.6 - Mudah</h3>\n",
    "<p>Tuan Wang diberi tahu bahwa kelas di ITB dibagi sesuai dengan nilai bilangan yang tersisa jika 3 angka terakhir NIM tersebut dibagi dengan banyak kelas yang ada. Penjelasannya adalah sebagai berikut:</p>\n",
    "\n",
    "<ul>\n",
    "    <li>3 Angka terakhir NIM yang ketika dibagi 2:</li>\n",
    "    <ul>\n",
    "        <li>Bersisa 0: Kelas 1 Matematika</li>\n",
    "        <li>Bersisa 1: Kelas 2 Matematika</li>\n",
    "    </ul>\n",
    "    <li>3 Angka terakhir NIM yang ketika dibagi 3:</li>\n",
    "    <ul>\n",
    "        <li>Bersisa 0: Kelas 7 Fisika</li>\n",
    "        <li>Bersisa 1: Kelas 8 Fisika</li>\n",
    "        <li>Bersisa 2: Kelas 9 Fisika</li>\n",
    "    </ul>\n",
    "    <li>3 Angka terakhir NIM yang ketika dibagi 4</li>\n",
    "    <ul>\n",
    "        <li>Bersisa 0: Kelas 9 Kimia</li>\n",
    "        <li>Bersisa 1: Kelas 10 Kimia</li>\n",
    "        <li>Bersisa 2: Kelas 11 Kimia</li>\n",
    "        <li>Bersisa 3: Kelas 12 Kimia</li>\n",
    "    </ul>\n",
    "</ul>\n",
    "\n",
    "<p>Kini Anda sebagai programmer handal ingin membatu teman-teman Anda dan membuat suatu program yang menerima 3 buah angka NIM lalu mengeluarkan kelas matematika, fisika, serta kimia dimana saja</p>\n",
    "\n",
    "<h4>Contoh</h4>\n",
    "<p>Masukkan 3 angka terakhir NIM anda: <u>142</u><br>\n",
    "Anda berada di kelas:<br>\n",
    "Kelas 1 - Matematika<br>Kelas 8 - Fisika<br>Kelas 11 - Kimia<br></p>"
   ]
  },
  {
   "cell_type": "code",
   "execution_count": null,
   "metadata": {},
   "outputs": [],
   "source": [
    "# Problem 2.6 - Mudah"
   ]
  },
  {
   "cell_type": "markdown",
   "metadata": {},
   "source": [
    "<h3>Problem 2.7 - Mudah</h3>\n",
    "<p>Tuan Wang sangat suka bermain <i>pou</i>. Ia menghabiskan 4 jam setiap harinya untuk memberi makan dan memandikan <i>pou</i> miliknya. Namun Tuan Wang merasa bahwa betrai <i>handpone</i>-nya cepat habis ketika bermain <i>pou</i></p>\n",
    "\n",
    "<p>Tuan Wang sadar bahwa ia dapat menyimpan <i>state</i> atau kondisi <i>pou</i> miliknya hanya dengan menggunakan sebuah angka saja. Berikut algoritma yang digunakan Tuan Wang untuk menyimpan <i>state</i> atau kondisi <i>pou</i> miliknya:</p>\n",
    "\n",
    "<p>Misal <i>n</i> adalah angka yang menyatakan kondisi <i>pou</i> Tuan Wang, maka:</p>\n",
    "<ul>\n",
    "    <li>Pou lapar ketika <i>n</i> modulo 2 adalah 1</li>\n",
    "    <li>Pou kotor ketika <i>n</i> modulo 4 adalah 2 atau 3</li>\n",
    "    <li>Pou bosan ketika <i>n</i> modulo 8 adalah 4 atau 5 atau 6 atau 7</li>\n",
    "</ul>\n",
    "<p>Selain itu, ketika kondisi <i>pou</i> Tuan Wang sangat buruk (lapar, kotor, dan bosan), <i>pou</i> miliknya akan meninggal.<br>\n",
    "Bantulah Tuan Wang dengan membuat program untuk meng-konversi <i>n</i> menjadi <i>state</i> atau kondisi <i>pou</i> miliknya!</p>\n",
    "\n",
    "<h4>Contoh 1</h4>\n",
    "<p>Masukkan n: <u>5</u><br>\n",
    "kondisi pou:<br>\n",
    "Lapar: True<br>Kotor: False<br>Bosan: True<br>Hidup: True</p>\n",
    "\n",
    "<h4>Contoh 2</h4>\n",
    "<p>Masukkan n: <u>7</u><br>\n",
    "kondisi pou:<br>\n",
    "Lapar: True<br>Kotor: True<br>Bosan: True<br>Hidup: False</p>"
   ]
  },
  {
   "cell_type": "code",
   "execution_count": null,
   "metadata": {},
   "outputs": [],
   "source": [
    "# Problem 2.7 - Mudah"
   ]
  },
  {
   "cell_type": "markdown",
   "metadata": {},
   "source": [
    "<h3>Problem 2.8 - Sedang</h3>\n",
    "<p>Tuan Wang baru saja menemukan barisan Fibonacci, yaitu barisan di mana angka pada posisi tertentu ditentukan dengan menjumlahkan dua angka pada posisi sebelumnya: F(<i>n</i>) = F(<i>n</i>-1)+F(<i>n</i>-2) dengan nilai F(1) = F(2) = 1.<br>\n",
    "\n",
    "<i>1,1,2,3,5,8,12,21,34,55,144,233,377,610,987,1597, ...</i><br>\n",
    "\n",
    "Kini, Tuan Wang merasa sangat pandai matematika dan ingin menantang Anda untuk menyelesaikan permasalahan barisan Wangbonacci: diberikan F(1) dan F(6) barisan Wangbonacci, bagaimana bentuk barisan enam bilangan pertama yang masih memenuhi aturan F(<i>n</i>) = F(<i>n</i>-1)+F(<i>n</i>-2)?</p>\n",
    "\n",
    "<h4>Contoh</h4>\n",
    "<p>Bilangan ke-1 barisan Wangbonacci: <u>4</u><br>\n",
    "Bilangan ke-6 barisan Wangbonacci: <u>17</u><br>\n",
    "Enam bilangan pertama adalah 4, 1, 5, 6, 11, 17</p>"
   ]
  },
  {
   "cell_type": "code",
   "execution_count": null,
   "metadata": {},
   "outputs": [],
   "source": [
    "# Problem 2.8 - Sedang"
   ]
  },
  {
   "cell_type": "markdown",
   "metadata": {},
   "source": [
    "<h3>Problem 2.9 - Sedang</h3>\n",
    "<p>Tuan Wang memiliki <i>countdown</i> yang akan berhenti setelah X detik. Pada pukul berapakan <i>countdown</i> tersebut akan berhenti?</p>\n",
    "\n",
    "<h4>Contoh</h4>\n",
    "<p>Masukkan Jam Sekarang!<br>\n",
    "Jam: <u>15</u><br>\n",
    "Menit: <u>10</u><br>\n",
    "Detik: <u>50</u><br>\n",
    "Masukkan X: <u>7000</u><br>\n",
    "Countdown akan berhenti pada jam 17, menit 7, detik 30."
   ]
  },
  {
   "cell_type": "code",
   "execution_count": null,
   "metadata": {},
   "outputs": [],
   "source": [
    "# Problem 2.9 - Sedang"
   ]
  }
 ],
 "metadata": {
  "interpreter": {
   "hash": "b3ba2566441a7c06988d0923437866b63cedc61552a5af99d1f4fb67d367b25f"
  },
  "kernelspec": {
   "display_name": "Python 3.8.8 64-bit ('base': conda)",
   "name": "python3"
  },
  "language_info": {
   "codemirror_mode": {
    "name": "ipython",
    "version": 3
   },
   "file_extension": ".py",
   "mimetype": "text/x-python",
   "name": "python",
   "nbconvert_exporter": "python",
   "pygments_lexer": "ipython3",
   "version": "3.8.8"
  },
  "orig_nbformat": 4
 },
 "nbformat": 4,
 "nbformat_minor": 2
}

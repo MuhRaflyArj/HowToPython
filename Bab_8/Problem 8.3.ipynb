{
 "cells": [
  {
   "cell_type": "code",
   "execution_count": 1,
   "metadata": {},
   "outputs": [],
   "source": [
    "import pandas as pd\n",
    "import matplotlib.pyplot as plt"
   ]
  },
  {
   "cell_type": "code",
   "execution_count": 2,
   "metadata": {},
   "outputs": [],
   "source": [
    "df = pd.read_csv('csv/problem-8-3.csv')"
   ]
  },
  {
   "cell_type": "markdown",
   "metadata": {},
   "source": [
    "<h3>Problem 8.3</h3>\n",
    "<p>Anda diberi data kesehatan manusia. Tuliskan/Gambarkan:</p>\n",
    "\n",
    "<ol>\n",
    "    <li>Banyaknya data</li>\n",
    "    <li>Pie chart banyaknya mahasiswa tiap gender</li>\n",
    "    <li>Berdasarkan plot sebelumnya, gender mana yang lebih banyak orangnya</li>\n",
    "    <li>Bar chart dengan fakultas sebagai sumbu x dan jumlah mahasiswa dengan tinggi di atas 160 dengan sumbu y</li>\n",
    "    <li>Histogram dengan tinggi sebagai sumbu x dan jumlah mahasiswa laki-laki sebagai sumbu y</li>\n",
    "    <li>Stacked bar chart dengan fakultas sebagai sumbu x dan jumlah mahasiswa tiap gender sebagai stacked sumbu y</li>\n",
    "    <li>Berdasarkan plot sebelumnya, fakultas mana yang rasio mahasiswa perempuannya paling banyak dibanding fakultas lain?</li>\n",
    "    <li>Line chart dengan berat badan sebagai sumbu x dan jumlah mahasiswa sebagai sumbu y</li>\n",
    "    <li>Line chart seperti soal sebelumnya. namun terdapat 2 garis, masing-masing untuk tiap gender</li>\n",
    "    <li>Berdasarkan plot sebelumnya, gender manakah yang cenderung memiliki berat badan ringan</li>\n",
    "    <li>Scatter plot dengan berat badan sebagai sumbu x dan tinggi badan sebagai sumbu y</li>\n",
    "</ol>"
   ]
  },
  {
   "cell_type": "code",
   "execution_count": 13,
   "metadata": {},
   "outputs": [
    {
     "data": {
      "text/plain": [
       "8681"
      ]
     },
     "execution_count": 13,
     "metadata": {},
     "output_type": "execute_result"
    }
   ],
   "source": [
    "# 1. Banyaknya data\n",
    "len(df)"
   ]
  },
  {
   "cell_type": "code",
   "execution_count": 14,
   "metadata": {},
   "outputs": [
    {
     "data": {
      "text/plain": [
       "<AxesSubplot:ylabel='gender'>"
      ]
     },
     "execution_count": 14,
     "metadata": {},
     "output_type": "execute_result"
    },
    {
     "data": {
      "image/png": "[encoded data removed]",
      "text/plain": [
       "<Figure size 432x288 with 1 Axes>"
      ]
     },
     "metadata": {},
     "output_type": "display_data"
    }
   ],
   "source": [
    "# 2. Pie chart banyaknya mahasiswa tiap gender\n",
    "df['gender'].value_counts().plot(kind='pie')"
   ]
  },
  {
   "cell_type": "code",
   "execution_count": 15,
   "metadata": {},
   "outputs": [
    {
     "data": {
      "text/plain": [
       "M    7078\n",
       "F    1603\n",
       "Name: gender, dtype: int64"
      ]
     },
     "execution_count": 15,
     "metadata": {},
     "output_type": "execute_result"
    }
   ],
   "source": [
    "# 3. Berdasasrkan plot sebelumnya, gender mana yang lebih banyak orangnya\n",
    "\n",
    "# Laki-laki berjumlah lebih banyak dari perempuan\n",
    "df['gender'].value_counts()"
   ]
  },
  {
   "cell_type": "code",
   "execution_count": 18,
   "metadata": {},
   "outputs": [
    {
     "data": {
      "text/plain": [
       "<AxesSubplot:>"
      ]
     },
     "execution_count": 18,
     "metadata": {},
     "output_type": "execute_result"
    },
    {
     "data": {
      "image/png": "[encoded data removed]",
      "text/plain": [
       "<Figure size 432x288 with 1 Axes>"
      ]
     },
     "metadata": {
      "needs_background": "light"
     },
     "output_type": "display_data"
    }
   ],
   "source": [
    "# 4. Bar chart dengan fakultas sebagai sumbu x dan jumlah mahasiswa dengan tinggi diatas 160 sebagai sumbu y\n",
    "df.loc[df['tinggi'] > 160]['fakultas'].value_counts().plot(kind='bar')"
   ]
  },
  {
   "cell_type": "code",
   "execution_count": 19,
   "metadata": {},
   "outputs": [
    {
     "data": {
      "text/plain": [
       "<AxesSubplot:ylabel='Frequency'>"
      ]
     },
     "execution_count": 19,
     "metadata": {},
     "output_type": "execute_result"
    },
    {
     "data": {
      "image/png": "[encoded data removed]",
      "text/plain": [
       "<Figure size 432x288 with 1 Axes>"
      ]
     },
     "metadata": {
      "needs_background": "light"
     },
     "output_type": "display_data"
    }
   ],
   "source": [
    "# 5. Histogram dengan tinggi sebagai sumbu x dan jumlah mahasiswa laki-laki sebagai sumbu y\n",
    "df.loc[df['gender'] == \"M\"]['tinggi'].plot(kind='hist', bins =[150, 155, 160, 165, 170, 175, 180, 185], rwidth = 0.75)"
   ]
  },
  {
   "cell_type": "code",
   "execution_count": 20,
   "metadata": {},
   "outputs": [
    {
     "data": {
      "text/plain": [
       "<AxesSubplot:xlabel='fakultas'>"
      ]
     },
     "execution_count": 20,
     "metadata": {},
     "output_type": "execute_result"
    },
    {
     "data": {
      "image/png": "[encoded data removed]",
      "text/plain": [
       "<Figure size 432x288 with 1 Axes>"
      ]
     },
     "metadata": {
      "needs_background": "light"
     },
     "output_type": "display_data"
    }
   ],
   "source": [
    "# 6. Stacked bar chart dengan fakultas sebagai sumbu x dan jumlah mahasiswa tiap gender sebagai sumbu y\n",
    "df.groupby(['fakultas', 'gender'])['nama'].size().unstack().plot(kind='bar', stacked=True)"
   ]
  },
  {
   "cell_type": "code",
   "execution_count": 21,
   "metadata": {},
   "outputs": [
    {
     "data": {
      "text/plain": [
       "fakultas  gender\n",
       "FTMD      M         2231\n",
       "          F           85\n",
       "FTSL      M         1503\n",
       "          F          561\n",
       "SITHR     M         1268\n",
       "          F          775\n",
       "STEI      M         2076\n",
       "          F          182\n",
       "Name: gender, dtype: int64"
      ]
     },
     "execution_count": 21,
     "metadata": {},
     "output_type": "execute_result"
    }
   ],
   "source": [
    "# 7. Berdasarkan plot sebelumnya, fakultas mana yang rasio mahasiswa perempuannya paling banyak dibanding fakultas lain\n",
    "df.groupby(['fakultas'])['gender'].value_counts()"
   ]
  },
  {
   "cell_type": "code",
   "execution_count": 31,
   "metadata": {},
   "outputs": [
    {
     "data": {
      "text/plain": [
       "<AxesSubplot:>"
      ]
     },
     "execution_count": 31,
     "metadata": {},
     "output_type": "execute_result"
    },
    {
     "data": {
      "image/png": "[encoded data removed]",
      "text/plain": [
       "<Figure size 432x288 with 1 Axes>"
      ]
     },
     "metadata": {
      "needs_background": "light"
     },
     "output_type": "display_data"
    }
   ],
   "source": [
    "# 8. Line chart dengan berat badan sebagai sumbu x dan jumlah mahasiswa sebagai sumbu y\n",
    "df['berat'].value_counts().sort_index().plot(kind='line')"
   ]
  },
  {
   "cell_type": "code",
   "execution_count": 32,
   "metadata": {},
   "outputs": [
    {
     "data": {
      "text/plain": [
       "<AxesSubplot:xlabel='berat'>"
      ]
     },
     "execution_count": 32,
     "metadata": {},
     "output_type": "execute_result"
    },
    {
     "data": {
      "image/png": "[encoded data removed]",
      "text/plain": [
       "<Figure size 432x288 with 1 Axes>"
      ]
     },
     "metadata": {
      "needs_background": "light"
     },
     "output_type": "display_data"
    }
   ],
   "source": [
    "# 9. Line chart seperti soal sebelumnya, namun terdapat 2 garis, masing-masing untuk setiap gender\n",
    "df.groupby(['berat','gender'])['nama'].size().unstack().plot(kind='line')"
   ]
  },
  {
   "cell_type": "code",
   "execution_count": 34,
   "metadata": {},
   "outputs": [
    {
     "data": {
      "text/plain": [
       "gender\n",
       "F    48.600749\n",
       "M    68.562588\n",
       "Name: berat, dtype: float64"
      ]
     },
     "execution_count": 34,
     "metadata": {},
     "output_type": "execute_result"
    }
   ],
   "source": [
    "# 10. Berdasarkan plot sebelumnya, gender manakah yang cenderung memiliki berat lebih ringan\n",
    "\n",
    "# Perempuan cenderung memiliki berat badan lebih ringan\n",
    "df.groupby(['gender'])['berat'].mean()"
   ]
  },
  {
   "cell_type": "code",
   "execution_count": null,
   "metadata": {},
   "outputs": [],
   "source": [
    "# 11. Scatter plot dengan berat badan sebagai sumbu x dan tinggi badan sebagai sumbu y\n",
    "df.plot(kind='scatter', x='berat', y='tinggi')"
   ]
  }
 ],
 "metadata": {
  "interpreter": {
   "hash": "2ef3d3566f7313e896a8dedb09cde89cd23c9d3d8ab674a1ff2f7f75a21b5550"
  },
  "kernelspec": {
   "display_name": "Python 3.9.7 64-bit",
   "language": "python",
   "name": "python3"
  },
  "language_info": {
   "codemirror_mode": {
    "name": "ipython",
    "version": 3
   },
   "file_extension": ".py",
   "mimetype": "text/x-python",
   "name": "python",
   "nbconvert_exporter": "python",
   "pygments_lexer": "ipython3",
   "version": "3.9.7"
  },
  "orig_nbformat": 4
 },
 "nbformat": 4,
 "nbformat_minor": 2
}

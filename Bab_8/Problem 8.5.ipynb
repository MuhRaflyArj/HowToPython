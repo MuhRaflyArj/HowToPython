{
 "cells": [
  {
   "cell_type": "code",
   "execution_count": 77,
   "metadata": {},
   "outputs": [],
   "source": [
    "import pandas as pd\n",
    "import matplotlib.pyplot as plt"
   ]
  },
  {
   "cell_type": "code",
   "execution_count": 78,
   "metadata": {},
   "outputs": [],
   "source": [
    "df = pd.read_csv('csv/problem-8-5.csv')"
   ]
  },
  {
   "cell_type": "markdown",
   "metadata": {},
   "source": [
    "<h3>Problem 8.5</h3>\n",
    "<p>Anda diberi populasi berdasarkan lokasi dan age group. Tuliskan/Gambarkan :</p>\n",
    "\n",
    "<ol>\n",
    "    <li>Banyaknya data</li>\n",
    "    <li>Banyaknya unique value dari kolom AgeGrp beserta isinya</li>\n",
    "    <li>Pie chart banyaknya populasi total untuk rentang usia 0-19 berdasarkan Locatuon untuk 10 Location Unique pertama sesuai abjad</li>\n",
    "    <li>Berdasarkan plot sebelumnya, lokasi apakah yang memiliki populasi total terkecil?</li>\n",
    "    <li>Stacked Bar Chart dengan rentang usia sebagai sumbu x dan populasi laki-laki beserta populasi peprempuan sebagai stacked sumbu y untuk lokasi 'World'</li>\n",
    "    <li>Dari chart sebelumnya, rentang usia manakah yang memiliki populasi laki-laki terkecil?</li>\n",
    "    <li>Line chart dengan rentang usia sabagai sumbu x dan populasi total sebagai sumbu y unutk lokasi Indonesia</li>\n",
    "    <li>Dari chart sebelumnya, rentang usia apakah yang paling dominan?</li>\n",
    "    <li>Scatter Plot dengan populasi laki-laki sebagai sumbu x dan populasi perempuan sebagai sumbu y</li>\n",
    "    <li>(Bonus) Sama seperti soal sebelumnya, namun buat warnanya berbeda berdasarkan rentang usia</li>"
   ]
  },
  {
   "cell_type": "code",
   "execution_count": 79,
   "metadata": {},
   "outputs": [
    {
     "data": {
      "text/plain": [
       "1760"
      ]
     },
     "execution_count": 79,
     "metadata": {},
     "output_type": "execute_result"
    }
   ],
   "source": [
    "# 1. Banyaknya data\n",
    "len(df)"
   ]
  },
  {
   "cell_type": "code",
   "execution_count": 80,
   "metadata": {},
   "outputs": [
    {
     "name": "stdout",
     "output_type": "stream",
     "text": [
      "['0-19' '20-39' '40-59' '60+']\n"
     ]
    },
    {
     "data": {
      "text/plain": [
       "4"
      ]
     },
     "execution_count": 80,
     "metadata": {},
     "output_type": "execute_result"
    }
   ],
   "source": [
    "# 2. Banyaknya unique value dari kolom AgeGrp beserta isinya\n",
    "df2 = df.AgeGrp.unique()\n",
    "print(df2)\n",
    "len(df2)"
   ]
  },
  {
   "cell_type": "code",
   "execution_count": 81,
   "metadata": {},
   "outputs": [
    {
     "data": {
      "text/plain": [
       "<AxesSubplot:ylabel='PopTotal'>"
      ]
     },
     "execution_count": 81,
     "metadata": {},
     "output_type": "execute_result"
    },
    {
     "data": {
      "image/png": "[encoded data removed]",
      "text/plain": [
       "<Figure size 432x288 with 1 Axes>"
      ]
     },
     "metadata": {},
     "output_type": "display_data"
    }
   ],
   "source": [
    "# 3. Pie chart banyaknya populasi total untuk rentan usia 0-19 berdasarkan Location untuk 10 Locatuin Uniqe pertama sesuai abjad\n",
    "df3 = df.loc[df['AgeGrp'] == '0-19'][:10]\n",
    "df3.plot(kind='pie', labels=df3.Location, y='PopTotal', legend=False)"
   ]
  },
  {
   "cell_type": "code",
   "execution_count": 82,
   "metadata": {},
   "outputs": [
    {
     "data": {
      "text/html": [
       "<div>\n",
       "<style scoped>\n",
       "    .dataframe tbody tr th:only-of-type {\n",
       "        vertical-align: middle;\n",
       "    }\n",
       "\n",
       "    .dataframe tbody tr th {\n",
       "        vertical-align: top;\n",
       "    }\n",
       "\n",
       "    .dataframe thead th {\n",
       "        text-align: right;\n",
       "    }\n",
       "</style>\n",
       "<table border=\"1\" class=\"dataframe\">\n",
       "  <thead>\n",
       "    <tr style=\"text-align: right;\">\n",
       "      <th></th>\n",
       "      <th>Location</th>\n",
       "      <th>PopTotal</th>\n",
       "    </tr>\n",
       "  </thead>\n",
       "  <tbody>\n",
       "    <tr>\n",
       "      <th>0</th>\n",
       "      <td>Afghanistan</td>\n",
       "      <td>20906.0</td>\n",
       "    </tr>\n",
       "    <tr>\n",
       "      <th>24</th>\n",
       "      <td>African Union: Northern Africa</td>\n",
       "      <td>81323.0</td>\n",
       "    </tr>\n",
       "    <tr>\n",
       "      <th>16</th>\n",
       "      <td>African Union: Central Africa</td>\n",
       "      <td>87922.0</td>\n",
       "    </tr>\n",
       "    <tr>\n",
       "      <th>28</th>\n",
       "      <td>African Union: Southern Africa</td>\n",
       "      <td>90231.0</td>\n",
       "    </tr>\n",
       "    <tr>\n",
       "      <th>20</th>\n",
       "      <td>African Union: Eastern Africa</td>\n",
       "      <td>205161.0</td>\n",
       "    </tr>\n",
       "    <tr>\n",
       "      <th>32</th>\n",
       "      <td>African Union: Western Africa</td>\n",
       "      <td>214028.0</td>\n",
       "    </tr>\n",
       "    <tr>\n",
       "      <th>36</th>\n",
       "      <td>African, Caribbean and Pacific (ACP) Group of ...</td>\n",
       "      <td>613214.0</td>\n",
       "    </tr>\n",
       "    <tr>\n",
       "      <th>8</th>\n",
       "      <td>African Group</td>\n",
       "      <td>678472.0</td>\n",
       "    </tr>\n",
       "    <tr>\n",
       "      <th>12</th>\n",
       "      <td>African Union</td>\n",
       "      <td>678683.0</td>\n",
       "    </tr>\n",
       "    <tr>\n",
       "      <th>4</th>\n",
       "      <td>Africa</td>\n",
       "      <td>679091.0</td>\n",
       "    </tr>\n",
       "  </tbody>\n",
       "</table>\n",
       "</div>"
      ],
      "text/plain": [
       "                                             Location  PopTotal\n",
       "0                                         Afghanistan   20906.0\n",
       "24                     African Union: Northern Africa   81323.0\n",
       "16                      African Union: Central Africa   87922.0\n",
       "28                     African Union: Southern Africa   90231.0\n",
       "20                      African Union: Eastern Africa  205161.0\n",
       "32                      African Union: Western Africa  214028.0\n",
       "36  African, Caribbean and Pacific (ACP) Group of ...  613214.0\n",
       "8                                       African Group  678472.0\n",
       "12                                      African Union  678683.0\n",
       "4                                              Africa  679091.0"
      ]
     },
     "execution_count": 82,
     "metadata": {},
     "output_type": "execute_result"
    }
   ],
   "source": [
    "# 4. Berdasarkan plot sebelumnya, lokasi apakah yang memiliki populasi total terkecil ?\n",
    "\n",
    "# Afghanistan memiliki populasi terkecil\n",
    "df.loc[df['AgeGrp'] == '0-19'][['Location', 'PopTotal']][:10].sort_values(['PopTotal'])"
   ]
  },
  {
   "cell_type": "code",
   "execution_count": 83,
   "metadata": {},
   "outputs": [
    {
     "data": {
      "text/plain": [
       "<AxesSubplot:title={'center':'World Population'}, xlabel='AgeGrp', ylabel='Jumlah (Juta)'>"
      ]
     },
     "execution_count": 83,
     "metadata": {},
     "output_type": "execute_result"
    },
    {
     "data": {
      "image/png": "[encoded data removed]",
      "text/plain": [
       "<Figure size 432x288 with 1 Axes>"
      ]
     },
     "metadata": {
      "needs_background": "light"
     },
     "output_type": "display_data"
    }
   ],
   "source": [
    "# 5. Stacked Bar Chart dengan rentan usia sebagai sumbu X dan populasi laki-laki beserta perempuan sebagai stacked sumbu Y untuk lokasi 'World'\n",
    "df.loc[df['Location'] == 'World'][[\"AgeGrp\",'PopMale','PopFemale']].plot(kind='bar', x='AgeGrp' ,stacked=True, ylabel='Jumlah (Juta)', title='World Population')"
   ]
  },
  {
   "cell_type": "code",
   "execution_count": 84,
   "metadata": {},
   "outputs": [
    {
     "data": {
      "text/html": [
       "<div>\n",
       "<style scoped>\n",
       "    .dataframe tbody tr th:only-of-type {\n",
       "        vertical-align: middle;\n",
       "    }\n",
       "\n",
       "    .dataframe tbody tr th {\n",
       "        vertical-align: top;\n",
       "    }\n",
       "\n",
       "    .dataframe thead th {\n",
       "        text-align: right;\n",
       "    }\n",
       "</style>\n",
       "<table border=\"1\" class=\"dataframe\">\n",
       "  <thead>\n",
       "    <tr style=\"text-align: right;\">\n",
       "      <th></th>\n",
       "      <th>AgeGrp</th>\n",
       "      <th>PopMale</th>\n",
       "      <th>PopFemale</th>\n",
       "    </tr>\n",
       "  </thead>\n",
       "  <tbody>\n",
       "    <tr>\n",
       "      <th>1743</th>\n",
       "      <td>60+</td>\n",
       "      <td>483990.0</td>\n",
       "      <td>565748.0</td>\n",
       "    </tr>\n",
       "    <tr>\n",
       "      <th>1742</th>\n",
       "      <td>40-59</td>\n",
       "      <td>905445.0</td>\n",
       "      <td>901327.0</td>\n",
       "    </tr>\n",
       "    <tr>\n",
       "      <th>1741</th>\n",
       "      <td>20-39</td>\n",
       "      <td>1200028.0</td>\n",
       "      <td>1142396.0</td>\n",
       "    </tr>\n",
       "    <tr>\n",
       "      <th>1740</th>\n",
       "      <td>0-19</td>\n",
       "      <td>1340498.0</td>\n",
       "      <td>1255342.0</td>\n",
       "    </tr>\n",
       "  </tbody>\n",
       "</table>\n",
       "</div>"
      ],
      "text/plain": [
       "     AgeGrp    PopMale  PopFemale\n",
       "1743    60+   483990.0   565748.0\n",
       "1742  40-59   905445.0   901327.0\n",
       "1741  20-39  1200028.0  1142396.0\n",
       "1740   0-19  1340498.0  1255342.0"
      ]
     },
     "execution_count": 84,
     "metadata": {},
     "output_type": "execute_result"
    }
   ],
   "source": [
    "# 6. Dari chart sebelumnya, rentang usia manakah yang memiliki poulasi laki-laki terkecil ?\n",
    "\n",
    "# Rentang Usia 60+ memiliki populasi laki-laki terkecil\n",
    "df.loc[df['Location'] == 'World'][[\"AgeGrp\", 'PopMale','PopFemale',]].sort_values(['PopMale'])"
   ]
  },
  {
   "cell_type": "code",
   "execution_count": 85,
   "metadata": {},
   "outputs": [
    {
     "data": {
      "text/plain": [
       "<AxesSubplot:xlabel='AgeGrp'>"
      ]
     },
     "execution_count": 85,
     "metadata": {},
     "output_type": "execute_result"
    },
    {
     "data": {
      "image/png": "[encoded data removed]",
      "text/plain": [
       "<Figure size 432x288 with 1 Axes>"
      ]
     },
     "metadata": {
      "needs_background": "light"
     },
     "output_type": "display_data"
    }
   ],
   "source": [
    "# 7. Line Chart dengan rentan usia sebagai sumbu X dan populasi total sebagai sumbu Y untuk lokasi Indonesia\n",
    "df.loc[df['Location'] == 'Indonesia'][['AgeGrp', 'PopTotal']].plot(kind='line', x='AgeGrp')"
   ]
  },
  {
   "cell_type": "code",
   "execution_count": 86,
   "metadata": {},
   "outputs": [
    {
     "data": {
      "text/html": [
       "<div>\n",
       "<style scoped>\n",
       "    .dataframe tbody tr th:only-of-type {\n",
       "        vertical-align: middle;\n",
       "    }\n",
       "\n",
       "    .dataframe tbody tr th {\n",
       "        vertical-align: top;\n",
       "    }\n",
       "\n",
       "    .dataframe thead th {\n",
       "        text-align: right;\n",
       "    }\n",
       "</style>\n",
       "<table border=\"1\" class=\"dataframe\">\n",
       "  <thead>\n",
       "    <tr style=\"text-align: right;\">\n",
       "      <th></th>\n",
       "      <th>AgeGrp</th>\n",
       "      <th>PopTotal</th>\n",
       "    </tr>\n",
       "  </thead>\n",
       "  <tbody>\n",
       "    <tr>\n",
       "      <th>800</th>\n",
       "      <td>0-19</td>\n",
       "      <td>94255.0</td>\n",
       "    </tr>\n",
       "    <tr>\n",
       "      <th>801</th>\n",
       "      <td>20-39</td>\n",
       "      <td>84736.0</td>\n",
       "    </tr>\n",
       "    <tr>\n",
       "      <th>802</th>\n",
       "      <td>40-59</td>\n",
       "      <td>66998.0</td>\n",
       "    </tr>\n",
       "    <tr>\n",
       "      <th>803</th>\n",
       "      <td>60+</td>\n",
       "      <td>27516.0</td>\n",
       "    </tr>\n",
       "  </tbody>\n",
       "</table>\n",
       "</div>"
      ],
      "text/plain": [
       "    AgeGrp  PopTotal\n",
       "800   0-19   94255.0\n",
       "801  20-39   84736.0\n",
       "802  40-59   66998.0\n",
       "803    60+   27516.0"
      ]
     },
     "execution_count": 86,
     "metadata": {},
     "output_type": "execute_result"
    }
   ],
   "source": [
    "# 8. Dari chart sebelumnya, rentang usia apakah yang paling dominan?\n",
    "\n",
    "# Rentan usia 0-19 Tahun adalah rentan usia yang paling dominan\n",
    "df.loc[df['Location'] ==  'Indonesia'][['AgeGrp','PopTotal']].sort_values(['PopTotal'], ascending=False)"
   ]
  },
  {
   "cell_type": "code",
   "execution_count": 87,
   "metadata": {},
   "outputs": [
    {
     "data": {
      "text/plain": [
       "<AxesSubplot:xlabel='PopMale', ylabel='PopFemale'>"
      ]
     },
     "execution_count": 87,
     "metadata": {},
     "output_type": "execute_result"
    },
    {
     "data": {
      "image/png": "[encoded data removed]",
      "text/plain": [
       "<Figure size 432x288 with 1 Axes>"
      ]
     },
     "metadata": {
      "needs_background": "light"
     },
     "output_type": "display_data"
    }
   ],
   "source": [
    "# 9. Scatter Plot dengan populasi laki-laki sebagai sumbu X dan populasi perempuan sebagai sumbu Y\n",
    "df.plot(kind='scatter', x='PopMale', y='PopFemale')"
   ]
  },
  {
   "cell_type": "code",
   "execution_count": 88,
   "metadata": {},
   "outputs": [
    {
     "data": {
      "text/plain": [
       "<AxesSubplot:xlabel='PopMale', ylabel='PopFemale'>"
      ]
     },
     "execution_count": 88,
     "metadata": {},
     "output_type": "execute_result"
    },
    {
     "data": {
      "image/png": "[encoded data removed]",
      "text/plain": [
       "<Figure size 432x288 with 1 Axes>"
      ]
     },
     "metadata": {
      "needs_background": "light"
     },
     "output_type": "display_data"
    }
   ],
   "source": [
    "# 10. (Bonus) Sama seperti soal sebelumnya, namun buat warnanya berbeda berdasarkan rentan usia\n",
    "color = {'0-19':'cyan', '20-39':'blue', '40-59':'green', '60+':'red'}\n",
    "color_map = df.apply(lambda x: color[x.AgeGrp], axis=1)\n",
    "df.plot(kind='scatter', x='PopMale', y='PopFemale', color=color_map)"
   ]
  }
 ],
 "metadata": {
  "interpreter": {
   "hash": "2ef3d3566f7313e896a8dedb09cde89cd23c9d3d8ab674a1ff2f7f75a21b5550"
  },
  "kernelspec": {
   "display_name": "Python 3.9.7 64-bit",
   "language": "python",
   "name": "python3"
  },
  "language_info": {
   "codemirror_mode": {
    "name": "ipython",
    "version": 3
   },
   "file_extension": ".py",
   "mimetype": "text/x-python",
   "name": "python",
   "nbconvert_exporter": "python",
   "pygments_lexer": "ipython3",
   "version": "3.9.7"
  },
  "orig_nbformat": 4
 },
 "nbformat": 4,
 "nbformat_minor": 2
}
